{
 "cells": [
  {
   "cell_type": "markdown",
   "metadata": {
    "id": "vbtdDd4oh1HT"
   },
   "source": [
    "CSCI 158 **HOMEWORK 0**\n",
    "\n",
    "In this homework assignment we explore the Numpy python package. For a brief introduction, go [here](https://numpy.org/devdocs/user/absolute_beginners.html).\n",
    "\n",
    "Begin by importing the Numpy library:"
   ]
  },
  {
   "cell_type": "code",
   "execution_count": 1,
   "metadata": {
    "id": "cQVTmcOOhvEu"
   },
   "outputs": [],
   "source": [
    "import numpy as np"
   ]
  },
  {
   "cell_type": "markdown",
   "metadata": {
    "id": "32HOpQMPiNUv"
   },
   "source": [
    "Create a numpy array called `X` with 100 rows and 10 columns, where each entry is the number 1."
   ]
  },
  {
   "cell_type": "code",
   "execution_count": 26,
   "metadata": {
    "id": "IoB4dhggigGb"
   },
   "outputs": [],
   "source": [
    "X = np.zeros((100,10)) + 1 # Using addition to make every element 1"
   ]
  },
  {
   "cell_type": "markdown",
   "metadata": {},
   "source": [
    "Create a 1-dimensional numpy array called `y`, where the entries are the numbers 1 through 1000 (in order)."
   ]
  },
  {
   "cell_type": "code",
   "execution_count": 39,
   "metadata": {
    "id": "hKP1fTnejCKl"
   },
   "outputs": [
    {
     "data": {
      "text/plain": [
       "(1000,)"
      ]
     },
     "execution_count": 39,
     "metadata": {},
     "output_type": "execute_result"
    }
   ],
   "source": [
    "y = np.arange(1,1001) # Using arange builtin, exclsuive end so 1001"
   ]
  },
  {
   "cell_type": "markdown",
   "metadata": {
    "id": "6WJyDsvpjD9M"
   },
   "source": [
    "Create a numpy array called `Y` with 100 rows and 10 columns, whose entries come from the array `y`."
   ]
  },
  {
   "cell_type": "code",
   "execution_count": 32,
   "metadata": {
    "id": "B9opYmtqjVxA"
   },
   "outputs": [],
   "source": [
    "Y = y.reshape(100,10)"
   ]
  },
  {
   "cell_type": "markdown",
   "metadata": {
    "id": "khPXpA2AjWIJ"
   },
   "source": [
    "Use the np.newaxis command to create an array called `z`, with enties from `y`, which has 1000 rows and one column."
   ]
  },
  {
   "cell_type": "code",
   "execution_count": 47,
   "metadata": {
    "id": "sHNxcLXMj0h8"
   },
   "outputs": [],
   "source": [
    "z = y.reshape(1000,1)"
   ]
  },
  {
   "cell_type": "markdown",
   "metadata": {
    "id": "F1kW5KPyj49c"
   },
   "source": [
    "Create an array of shape (5,4) called `A`, consisting of those entries in `Y` in the first 5 rows and columns 2-5.  "
   ]
  },
  {
   "cell_type": "code",
   "execution_count": 51,
   "metadata": {
    "id": "LPMJDW-yktX0"
   },
   "outputs": [],
   "source": [
    "A = Y[:5, 2:6]"
   ]
  },
  {
   "cell_type": "markdown",
   "metadata": {
    "id": "4TiG6wiukmgc"
   },
   "source": [
    "Create a 1-dimensional array called `b` consisting of the entries in `Y` that are divisible by 3, and between 20 and 70.\n"
   ]
  },
  {
   "cell_type": "code",
   "execution_count": 54,
   "metadata": {
    "id": "qYfOsXANlCnP"
   },
   "outputs": [],
   "source": [
    "b= np.arange(21,70,3) # starting at the first number between 20 and 70 divisible by 3"
   ]
  },
  {
   "cell_type": "markdown",
   "metadata": {
    "id": "jHTk5EyzlPa3"
   },
   "source": [
    "Create an array called `Z` whose entries are the square-root of the entries in `Y`, plus the corresponding entries in `X`."
   ]
  },
  {
   "cell_type": "code",
   "execution_count": 55,
   "metadata": {
    "id": "l-JXRW9jlKGP"
   },
   "outputs": [
    {
     "ename": "SyntaxError",
     "evalue": "invalid syntax (3811964391.py, line 1)",
     "output_type": "error",
     "traceback": [
      "\u001b[0;36m  Cell \u001b[0;32mIn[55], line 1\u001b[0;36m\u001b[0m\n\u001b[0;31m    Z= # square-root of the entries in Y\u001b[0m\n\u001b[0m       ^\u001b[0m\n\u001b[0;31mSyntaxError\u001b[0m\u001b[0;31m:\u001b[0m invalid syntax\n"
     ]
    }
   ],
   "source": [
    "Z= # square-root of the entries in Y\n",
    "# adding X"
   ]
  },
  {
   "cell_type": "markdown",
   "metadata": {
    "id": "ikcl4JMGli9x"
   },
   "source": [
    "Create a 1-D array `m` whose entries are the maximum of each column of `Y`."
   ]
  },
  {
   "cell_type": "code",
   "execution_count": null,
   "metadata": {
    "id": "Bk8JpDOPmLAe"
   },
   "outputs": [],
   "source": [
    "m="
   ]
  },
  {
   "cell_type": "markdown",
   "metadata": {
    "id": "c2thhutPmMO2"
   },
   "source": [
    "Create a 1-D array `s` whose entries are the sums of each row of `Y`."
   ]
  },
  {
   "cell_type": "code",
   "execution_count": null,
   "metadata": {
    "id": "Hipt8wvImiM4"
   },
   "outputs": [],
   "source": [
    "s="
   ]
  },
  {
   "cell_type": "markdown",
   "metadata": {
    "id": "Cwm9qUHUmk-M"
   },
   "source": [
    "Create an array `P` which is the product of `X` and the transpose of `Y`."
   ]
  },
  {
   "cell_type": "code",
   "execution_count": null,
   "metadata": {
    "id": "jZsoDa51mkLC"
   },
   "outputs": [],
   "source": [
    "P="
   ]
  }
 ],
 "metadata": {
  "colab": {
   "authorship_tag": "ABX9TyMZPYGoP82vQdoEy11z7iUL",
   "provenance": []
  },
  "kernelspec": {
   "display_name": "base",
   "language": "python",
   "name": "python3"
  },
  "language_info": {
   "codemirror_mode": {
    "name": "ipython",
    "version": 3
   },
   "file_extension": ".py",
   "mimetype": "text/x-python",
   "name": "python",
   "nbconvert_exporter": "python",
   "pygments_lexer": "ipython3",
   "version": "3.12.7"
  }
 },
 "nbformat": 4,
 "nbformat_minor": 0
}
