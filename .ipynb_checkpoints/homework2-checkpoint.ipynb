{
 "cells": [
  {
   "cell_type": "markdown",
   "metadata": {
    "id": "G8OReEGoBUyY"
   },
   "source": [
    "**Homework 2**"
   ]
  },
  {
   "cell_type": "markdown",
   "metadata": {
    "id": "BxOCrr74BYky"
   },
   "source": [
    "This assignment is a continuation of homework 1. We begin with the usual imports."
   ]
  },
  {
   "cell_type": "code",
   "execution_count": 2,
   "metadata": {
    "id": "nyeQSz7hP6MN"
   },
   "outputs": [],
   "source": [
    "import numpy as np\n",
    "from sklearn.datasets import load_iris"
   ]
  },
  {
   "cell_type": "markdown",
   "metadata": {
    "id": "ENoFBgC2Bcvt"
   },
   "source": [
    "We now load the iris dataset and create both feature matrix and target array. This time, we will use all four features, rather than just Petal Length and Petal Width."
   ]
  },
  {
   "cell_type": "code",
   "execution_count": 3,
   "metadata": {
    "id": "5pStLgrIQCQu"
   },
   "outputs": [],
   "source": [
    "iris=load_iris()\n",
    "X=iris.data\n",
    "y=iris.target"
   ]
  },
  {
   "cell_type": "markdown",
   "metadata": {
    "id": "GBdJliDCOEIV"
   },
   "source": [
    "In the previous assignment you created a KNeighborsClassifier class. Here we'll load a pre-written version of this class from scikit-klearn. The syntax for its usage is exactly the same as for the one you wrote. I encourage you to read the full API for this implementation [here](https://scikit-learn.org/1.6/modules/generated/sklearn.neighbors.KNeighborsClassifier.html)."
   ]
  },
  {
   "cell_type": "code",
   "execution_count": 4,
   "metadata": {
    "id": "ftP1j3YeOV8J"
   },
   "outputs": [],
   "source": [
    "from sklearn.neighbors import KNeighborsClassifier"
   ]
  },
  {
   "cell_type": "markdown",
   "metadata": {
    "id": "Z74yJjWgBmx6"
   },
   "source": [
    "The iris dataset contains 150 observations. We'd like to set aside 20% of these for testing the accuracy of our model(s). To this end, we'll create a Numpy array `test_indices` with a random sample of 20% of the numbers from 0 to 149. Then, we create a boolean Numpy array `test_mask` with a value of True for each index listed in `test_indices`, and False for the other values. Finally, we create a boolean Numpy array `train_mask` with the negation of each entry in `test_mask`. MAKE SURE YOU UNDERSTAND EACH LINE OF CODE."
   ]
  },
  {
   "cell_type": "code",
   "execution_count": 8,
   "metadata": {
    "id": "5flT2IxHCFIp"
   },
   "outputs": [
    {
     "data": {
      "text/plain": [
       "array([138, 106, 109,  79, 106,  80,  62,  25,   1,  75,  77,  26, 110,\n",
       "        68,   8, 130,  31, 133, 125,  15,  86, 114, 132,  62,  80, 127,\n",
       "        66,  63, 147,  85])"
      ]
     },
     "execution_count": 8,
     "metadata": {},
     "output_type": "execute_result"
    }
   ],
   "source": [
    "np.random.seed(6) #controls randomness (Don't change this!)\n",
    "size=len(X)  #size of original dataset (should be 150 for iris)\n",
    "test_frac=0.2 #fraction of dataset to set aside for testing\n",
    "test_size=int(size*test_frac) #desired size of test dataset\n",
    "test_indices=np.random.choice(np.arange(size),test_size) #random sample of indices from iris\n",
    "test_mask=np.zeros(size,dtype=bool) #numpy array of False values\n",
    "test_mask[test_indices]=True #change values as desired indices to True\n",
    "train_mask=~test_mask #True->False, False->True"
   ]
  },
  {
   "cell_type": "markdown",
   "metadata": {
    "id": "NFTIGfRwFqfM"
   },
   "source": [
    "Define `test_data` to be a feature matrix consisting of only those rows of `X` specified by `test_mask`. Define `test_target` to be an array containing the corresponding entires in `y`. Define `train_data` and `train_target` similarly."
   ]
  },
  {
   "cell_type": "code",
   "execution_count": 29,
   "metadata": {
    "id": "IGRadmhsE25D"
   },
   "outputs": [],
   "source": [
    "train_data = X[train_mask == True]\n",
    "train_target= y[train_mask == True]\n",
    "test_data= X[test_mask == True]\n",
    "test_target=y[test_mask == True]"
   ]
  },
  {
   "cell_type": "markdown",
   "metadata": {
    "id": "N12LgAjPvPvv"
   },
   "source": [
    "Define a function called `predict_labels` whose inputs are `train_data`, `train_target`, `test_data` and `k`. Your function should create an instance of the KNeighborsClassifier class with the appropriate value of k, and use it to output an array of predicted labels (one for each entry in `test_data`) based on the k-closest points in train_data."
   ]
  },
  {
   "cell_type": "code",
   "execution_count": 37,
   "metadata": {
    "id": "ISuM05KzwV1v"
   },
   "outputs": [],
   "source": [
    "def predict_labels(train_data,train_target,test_data,k):\n",
    "    neigh = KNeighborsClassifier(n_neighbors=k) # Iniitalizing an instance of KNeighborsClassibier\n",
    "    neigh.fit(train_data, train_target)         # Training the data with the derived training data and targets\n",
    "    return neigh.predict(test_data)"
   ]
  },
  {
   "cell_type": "markdown",
   "metadata": {
    "id": "iSyTNqCMxrGk"
   },
   "source": [
    "Define a function called `accuracy` whose inputs are `train_data`, `train_target`, `test_data`, `test_target` and `k`. Your function should return the accuracy: the fraction of times your `predict_labels` function returned the correct answer."
   ]
  },
  {
   "cell_type": "code",
   "execution_count": 63,
   "metadata": {
    "id": "z5vca56CVZqz"
   },
   "outputs": [],
   "source": [
    "def accuracy(train_data,train_target,test_data,test_target,k):\n",
    "  predictions=predict_labels(train_data,train_target,test_data,k)\n",
    "  tot_predictions = predictions.shape[0]\n",
    "  correct_predictions = predictions[predictions == test_target].shape[0]\n",
    "\n",
    "  # accuracy $\\frac{# of correct results}{total # of results}$\n",
    "  return correct_predictions/tot_predictions\n"
   ]
  },
  {
   "cell_type": "markdown",
   "metadata": {
    "id": "fsg8NrNU0Z53"
   },
   "source": [
    "Our goal is to visualize the accuracy of the KNN algorithm for various values of k, so we may pick the best one. Reasonable values of k start at 1, and may go as high as 20 (depending on the application). For each such value of k, compute the accuracy and assemble these in a 1D Numpy array."
   ]
  },
  {
   "cell_type": "code",
   "execution_count": 106,
   "metadata": {
    "id": "bFk975Zms6nl"
   },
   "outputs": [
    {
     "data": {
      "text/plain": [
       "[(0, 0.8888888888888888),\n",
       " (1, 0.8888888888888888),\n",
       " (2, 0.9259259259259259),\n",
       " (3, 0.9259259259259259),\n",
       " (4, 0.9629629629629629),\n",
       " (5, 0.8888888888888888),\n",
       " (6, 0.9259259259259259),\n",
       " (7, 0.9259259259259259),\n",
       " (8, 0.9259259259259259),\n",
       " (9, 0.8888888888888888),\n",
       " (10, 0.9629629629629629),\n",
       " (11, 0.9259259259259259),\n",
       " (12, 0.9259259259259259),\n",
       " (13, 0.9259259259259259),\n",
       " (14, 0.9259259259259259),\n",
       " (15, 0.8518518518518519),\n",
       " (16, 0.8518518518518519),\n",
       " (17, 0.8518518518518519),\n",
       " (18, 0.8888888888888888)]"
      ]
     },
     "execution_count": 106,
     "metadata": {},
     "output_type": "execute_result"
    }
   ],
   "source": [
    "k=np.arange(1,20) # possible values for k\n",
    "accuracies = []\n",
    "# for i in k:\n",
    "#     print(accuracy(train_data, train_target, test_data, test_target, i))\n",
    "\n",
    "for k_i in k:\n",
    "    accuracies += [accuracy(train_data, train_target, test_data, test_target, k_i)]\n",
    "\n",
    "[(i,j) for i,j in enumerate(accuracies)]"
   ]
  },
  {
   "cell_type": "markdown",
   "metadata": {
    "id": "7VcxngjC19Pt"
   },
   "source": [
    "Run the following code block to visualize:"
   ]
  },
  {
   "cell_type": "code",
   "execution_count": 98,
   "metadata": {
    "id": "5H_tVLXWtBUC"
   },
   "outputs": [
    {
     "data": {
      "text/plain": [
       "[<matplotlib.lines.Line2D at 0x16c63daf0>]"
      ]
     },
     "execution_count": 98,
     "metadata": {},
     "output_type": "execute_result"
    },
    {
     "data": {
      "image/png": "[encoded data removed]",
      "text/plain": [
       "<Figure size 640x480 with 1 Axes>"
      ]
     },
     "metadata": {},
     "output_type": "display_data"
    }
   ],
   "source": [
    "import matplotlib.pyplot as plt\n",
    "plt.plot(k,accuracies)"
   ]
  },
  {
   "cell_type": "markdown",
   "metadata": {
    "id": "JxPJWw43z8ZG"
   },
   "source": [
    "The optimal value of k will be the first value that gives a maximum (think about why). What is it?"
   ]
  },
  {
   "cell_type": "code",
   "execution_count": 107,
   "metadata": {
    "id": "InnWAMB_tUBb"
   },
   "outputs": [],
   "source": [
    "k= 4"
   ]
  },
  {
   "cell_type": "markdown",
   "metadata": {
    "id": "5DR_qyoYeFJT"
   },
   "source": [
    "What is the accuracy for this value of k?"
   ]
  },
  {
   "cell_type": "code",
   "execution_count": 108,
   "metadata": {
    "id": "apDK2mjmeFJU"
   },
   "outputs": [],
   "source": [
    "best_accuracy= accuracies[4]"
   ]
  }
 ],
 "metadata": {
  "colab": {
   "provenance": [
    {
     "file_id": "1l5yGv3Y9EJ6IzsOLQ_S4V4-8rPnUV9Z9",
     "timestamp": 1674587855666
    },
    {
     "file_id": "1oiconVhT-M87z28t2zi6aYoWbRZP9hv2",
     "timestamp": 1674587674311
    }
   ]
  },
  "kernelspec": {
   "display_name": "base",
   "language": "python",
   "name": "python3"
  },
  "language_info": {
   "codemirror_mode": {
    "name": "ipython",
    "version": 3
   },
   "file_extension": ".py",
   "mimetype": "text/x-python",
   "name": "python",
   "nbconvert_exporter": "python",
   "pygments_lexer": "ipython3",
   "version": "3.12.7"
  }
 },
 "nbformat": 4,
 "nbformat_minor": 0
}
