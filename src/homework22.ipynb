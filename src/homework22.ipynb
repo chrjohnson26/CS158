{
 "cells": [
  {
   "cell_type": "markdown",
   "metadata": {
    "id": "Z74etR4D9a9I"
   },
   "source": [
    "**Homework 22**"
   ]
  },
  {
   "cell_type": "markdown",
   "metadata": {
    "id": "zp3AYE2j9fYO"
   },
   "source": [
    "We begin as in Homework 21 by importing a set of face images:"
   ]
  },
  {
   "cell_type": "code",
   "execution_count": 5,
   "metadata": {
    "id": "UQtnifShYfn_"
   },
   "outputs": [],
   "source": [
    "import numpy as np\n",
    "import matplotlib.pyplot as plt\n",
    "\n",
    "from sklearn.datasets import fetch_lfw_people\n",
    "lfw_people = fetch_lfw_people(min_faces_per_person=70, resize=0.4)\n",
    "faces=lfw_people.images"
   ]
  },
  {
   "cell_type": "markdown",
   "metadata": {
    "id": "XjYkg_pN9pXW"
   },
   "source": [
    "To assist with model building, it helps to clip the dimesnions of each image to numbers easily divisible by 2, and add a channel:"
   ]
  },
  {
   "cell_type": "code",
   "execution_count": 6,
   "metadata": {
    "id": "SpT3w2vL-Xr1"
   },
   "outputs": [],
   "source": [
    "faces=faces[:,:48,:36] #clip each image to 48 x 36\n",
    "faces=faces.reshape((1288,48,36,1)) #add a channel"
   ]
  },
  {
   "cell_type": "markdown",
   "metadata": {
    "id": "W_-MohPdtOTk"
   },
   "source": [
    "The purpose of this assignment is to build a neural network to remove noise from images. You'll test your network on an image of George W. Bush:"
   ]
  },
  {
   "cell_type": "code",
   "execution_count": 7,
   "metadata": {
    "id": "oiZH1oB-q5t7"
   },
   "outputs": [
    {
     "data": {
      "text/plain": [
       "<matplotlib.image.AxesImage at 0x17f1cec90>"
      ]
     },
     "execution_count": 7,
     "metadata": {},
     "output_type": "execute_result"
    },
    {
     "data": {
      "image/png": "[encoded data removed]",
      "text/plain": [
       "<Figure size 640x480 with 1 Axes>"
      ]
     },
     "metadata": {},
     "output_type": "display_data"
    }
   ],
   "source": [
    "bush=faces[10]\n",
    "plt.imshow(bush,cmap='gray')"
   ]
  },
  {
   "cell_type": "markdown",
   "metadata": {
    "id": "b5NhPl9htdf-"
   },
   "source": [
    "Your goal will be to restore this image from one in which noise has been introduced:"
   ]
  },
  {
   "cell_type": "code",
   "execution_count": 8,
   "metadata": {
    "id": "YrxNLosHg2yd"
   },
   "outputs": [
    {
     "data": {
      "text/plain": [
       "<matplotlib.image.AxesImage at 0x17f2dba70>"
      ]
     },
     "execution_count": 8,
     "metadata": {},
     "output_type": "execute_result"
    },
    {
     "data": {
      "image/png": "[encoded data removed]",
      "text/plain": [
       "<Figure size 640x480 with 1 Axes>"
      ]
     },
     "metadata": {},
     "output_type": "display_data"
    }
   ],
   "source": [
    "noisyface=(np.random.choice([0]+9*[1],48*36).reshape(48,36,1))*bush\n",
    "plt.imshow(noisyface,cmap='gray')"
   ]
  },
  {
   "cell_type": "markdown",
   "metadata": {
    "id": "ELtClLU6-CV_"
   },
   "source": [
    "We load the necessary model building imports from PyTorch."
   ]
  },
  {
   "cell_type": "code",
   "execution_count": 9,
   "metadata": {
    "id": "c3iPm5JA59JK"
   },
   "outputs": [],
   "source": [
    "import torch\n",
    "import torch.nn as nn\n",
    "from torch.optim import Adam"
   ]
  },
  {
   "cell_type": "markdown",
   "metadata": {
    "id": "bPl7WuugtvWh"
   },
   "source": [
    "The first step is to convert our data to the correct type:"
   ]
  },
  {
   "cell_type": "code",
   "execution_count": 10,
   "metadata": {
    "id": "Ot522VXHtu-K"
   },
   "outputs": [],
   "source": [
    "faces=torch.tensor(faces).float().reshape(-1,1,48,36)"
   ]
  },
  {
   "cell_type": "markdown",
   "metadata": {
    "id": "pgF3T_DN-al5"
   },
   "source": [
    "Now, build encoder, decoder, and autoencoder models. I've started this for you with a dropout layer in the encoder, which turns some pixels \"off\". This simulates noise in the image during training. During inference (i.e. when you use the trained model to remove noise form an image) don't forget to call model.eval() to turn off the Dropout layer. When we train this we'll use the same image for both feature and target, producing a model that takes in noisy images and produces \"clean\" ones.\n",
    "\n",
    "Each image in the `faces` dataset is already normalized so the pixel values are between 0 and 1. Make sure the final layer of your decoder outputs only numbers between 0 and 1 (hint: what function did we learn in class that has outputs betwen 0 and 1?)"
   ]
  },
  {
   "cell_type": "code",
   "execution_count": 11,
   "metadata": {
    "id": "TfF78sEZXgBP"
   },
   "outputs": [],
   "source": [
    "encoder=nn.Sequential(\n",
    "    nn.Dropout(0.1),\n",
    "    # Convolution 1:\n",
    "    nn.Conv2d(1, 16, kernel_size=(3,3), padding = 1),\n",
    "    nn.BatchNorm2d(16),\n",
    "    nn.ReLU(),\n",
    "    # Convolution 2:\n",
    "    nn.Conv2d(16, 32, kernel_size=(3,3), padding = 1),\n",
    "    nn.BatchNorm2d(32),\n",
    "    nn.ReLU(),\n",
    "    nn.MaxPool2d(2),\n",
    "    # Convolution 3\n",
    "    nn.Conv2d(32,64, kernel_size=(3,3), padding=1),\n",
    "    nn.BatchNorm2d(64),\n",
    "    nn.ReLU(),\n",
    "    nn.MaxPool2d(2)\n",
    ")\n",
    "\n",
    "decoder=nn.Sequential(\n",
    "\n",
    "    # Convolution Transpose 1:\n",
    "    nn.ConvTranspose2d(64, 32, kernel_size=(3,3), padding=1, stride=2, output_padding=1),\n",
    "    nn.BatchNorm2d(32),\n",
    "    nn.ReLU(),\n",
    "    # Convolution Transpose 2:\n",
    "    nn.ConvTranspose2d(32, 16, kernel_size=(3,3), padding=1, stride=2, output_padding=1),\n",
    "    nn.BatchNorm2d(16),\n",
    "    nn.ReLU(),\n",
    "    # Final convolution\n",
    "    nn.Conv2d(16, 1, kernel_size=(3,3), padding=1),\n",
    "    nn.Sigmoid()\n",
    ")\n",
    "\n",
    "autoencoder=nn.Sequential(encoder,decoder)"
   ]
  },
  {
   "cell_type": "code",
   "execution_count": 12,
   "metadata": {},
   "outputs": [
    {
     "data": {
      "text/plain": [
       "torch.Size([1288, 1, 48, 36])"
      ]
     },
     "execution_count": 12,
     "metadata": {},
     "output_type": "execute_result"
    }
   ],
   "source": [
    "autoencoder(faces).shape"
   ]
  },
  {
   "cell_type": "markdown",
   "metadata": {
    "id": "7mbNXuci-h_h"
   },
   "source": [
    "Define an Adam optimizer for this model with an initial learning rate of 0.001."
   ]
  },
  {
   "cell_type": "code",
   "execution_count": 13,
   "metadata": {
    "id": "KxCy8JajZb70"
   },
   "outputs": [],
   "source": [
    "optimizer=Adam(autoencoder.parameters(), 0.001)"
   ]
  },
  {
   "cell_type": "markdown",
   "metadata": {
    "id": "IdDgTFkPAyIF"
   },
   "source": [
    "Define a training loop to fit your model. Periodically report your loss."
   ]
  },
  {
   "cell_type": "code",
   "execution_count": 14,
   "metadata": {
    "id": "HpAKRERzZfvq"
   },
   "outputs": [
    {
     "name": "stdout",
     "output_type": "stream",
     "text": [
      "epoch: 0, loss: 0.005931071005761623\n",
      "epoch: 10, loss: 0.012143288739025593\n"
     ]
    }
   ],
   "source": [
    "autoencoder.train()\n",
    "n_epochs=16\n",
    "N = faces.shape[0]\n",
    "batch_size = 32\n",
    "\n",
    "for epoch in range(n_epochs):\n",
    "    # Shuffling the indices\n",
    "    indicies = torch.randperm(N)\n",
    "\n",
    "    # Creating mini-batches\n",
    "    for i in range(0, N, batch_size):\n",
    "        batch_indicies = indicies[i:i+batch_size]\n",
    "        batch_X = faces[batch_indicies]\n",
    "        \n",
    "        # print(batch_X.shape)\n",
    "        optimizer.zero_grad()\n",
    "        predictions = autoencoder(batch_X)\n",
    "        # print(predictions.shape)\n",
    "        MSEloss = torch.nn.MSELoss()(predictions, batch_X)\n",
    "\n",
    "        MSEloss.backward()\n",
    "        optimizer.step()\n",
    "\n",
    "    if epoch%10 == 0:\n",
    "        print(f\"epoch: {epoch}, loss: {MSEloss.item()}\")"
   ]
  },
  {
   "cell_type": "markdown",
   "metadata": {
    "id": "PN_JYLFXA3SW"
   },
   "source": [
    "If your model works correctly, this code should remove the noise in the noisyface image:"
   ]
  },
  {
   "cell_type": "code",
   "execution_count": 15,
   "metadata": {
    "id": "wr81EZc_hThQ"
   },
   "outputs": [
    {
     "data": {
      "image/png": "[encoded data removed]",
      "text/plain": [
       "<Figure size 640x480 with 1 Axes>"
      ]
     },
     "metadata": {},
     "output_type": "display_data"
    }
   ],
   "source": [
    "noisyface=torch.tensor(noisyface).float().reshape(1,1,48,36)\n",
    "plt.imshow(noisyface.clone().detach().numpy().reshape(48,36),cmap='gray')\n",
    "autoencoder.eval()\n",
    "denoisedface=autoencoder(noisyface)"
   ]
  },
  {
   "cell_type": "markdown",
   "metadata": {
    "id": "IHNyigF1BA_u"
   },
   "source": [
    "Let's look at it! You're image should be slightly blurrier than the original image, but all the black pixels should be restored."
   ]
  },
  {
   "cell_type": "code",
   "execution_count": 16,
   "metadata": {
    "id": "6Q8ElDtKf1me"
   },
   "outputs": [
    {
     "data": {
      "text/plain": [
       "<matplotlib.image.AxesImage at 0x32429f9e0>"
      ]
     },
     "execution_count": 16,
     "metadata": {},
     "output_type": "execute_result"
    },
    {
     "data": {
      "image/png": "[encoded data removed]",
      "text/plain": [
       "<Figure size 640x480 with 1 Axes>"
      ]
     },
     "metadata": {},
     "output_type": "display_data"
    }
   ],
   "source": [
    "plt.imshow(denoisedface.detach().numpy().reshape(48,36),cmap='gray')"
   ]
  },
  {
   "cell_type": "markdown",
   "metadata": {
    "id": "wVE6oESnBDIv"
   },
   "source": [
    "Take a screen shot of your denoised image, and upload that to gradescope. (You'll have to upload as a pdf. Contact me for help with file conversion, if you need it.)"
   ]
  }
 ],
 "metadata": {
  "colab": {
   "authorship_tag": "ABX9TyPTWZmjFNWxYB78B4r/TM2g",
   "provenance": []
  },
  "kernelspec": {
   "display_name": "base",
   "language": "python",
   "name": "python3"
  },
  "language_info": {
   "codemirror_mode": {
    "name": "ipython",
    "version": 3
   },
   "file_extension": ".py",
   "mimetype": "text/x-python",
   "name": "python",
   "nbconvert_exporter": "python",
   "pygments_lexer": "ipython3",
   "version": "3.12.7"
  }
 },
 "nbformat": 4,
 "nbformat_minor": 0
}
