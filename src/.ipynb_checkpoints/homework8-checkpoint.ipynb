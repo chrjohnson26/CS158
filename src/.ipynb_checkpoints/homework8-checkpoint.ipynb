{
 "cells": [
  {
   "cell_type": "markdown",
   "metadata": {
    "id": "YBUUNARsA6fv"
   },
   "source": [
    "**Homework 8**"
   ]
  },
  {
   "cell_type": "code",
   "execution_count": 63,
   "metadata": {
    "id": "yQGriOppA32Z"
   },
   "outputs": [],
   "source": [
    "import pandas as pd\n",
    "import numpy as np\n",
    "import matplotlib.pyplot as plt"
   ]
  },
  {
   "cell_type": "markdown",
   "metadata": {
    "id": "lBfNd9tlBXC9"
   },
   "source": [
    "We will continue with the displacement `disp` and `mpg` columns of the `cars` dataset, as in the last assignment. (This time we'll sort these by `disp` to make visualization easier later.)"
   ]
  },
  {
   "cell_type": "code",
   "execution_count": 64,
   "metadata": {
    "id": "OY0Q3LLYKkZr"
   },
   "outputs": [],
   "source": [
    "cars=pd.read_csv('https://vincentarelbundock.github.io/Rdatasets/csv/causaldata/auto.csv')\n",
    "disp=np.array(cars.displacement)\n",
    "mpg=np.array(cars.mpg)\n",
    "\n",
    "index=np.argsort(disp)\n",
    "disp=disp[index]\n",
    "mpg=mpg[index]"
   ]
  },
  {
   "cell_type": "markdown",
   "metadata": {
    "id": "2xV7q2IAKkZr"
   },
   "source": [
    "In this assignment we will use feature engineering to create polynomial models for predicting `mpg` from `disp`. However, before we start looking at powers of `disp`, we'll need to scale this array to have mean 0 and standard deviation 1 (otherwise, the powers of the entries in `disp` will get too large). To the end, create a `StandardScaler` class that remembers the mean and standard deviation of each column of a feature matrix, and can scale and unscale datasets using these numbers."
   ]
  },
  {
   "cell_type": "code",
   "execution_count": 65,
   "metadata": {
    "id": "FzADtQV7KkZr"
   },
   "outputs": [],
   "source": [
    "class StandardScaler():\n",
    "    def __init__(self):\n",
    "        pass\n",
    "\n",
    "    def fit(self,X):\n",
    "        self.mean= np.mean(X)\n",
    "        self.std= np.std(X)\n",
    "\n",
    "    def transform(self,X):\n",
    "        # zero_mean_x = X - self.mean\n",
    "        return (X - self.mean)/self.std\n",
    "\n",
    "    def inverse_transform(self,X):\n",
    "        return (X * self.std) + self.mean "
   ]
  },
  {
   "cell_type": "markdown",
   "metadata": {
    "id": "S0XMLkAVKkZs"
   },
   "source": [
    "Create a `StandardScaler` object, fit it to `disp`, and then create a new array called `scaled_disp`."
   ]
  },
  {
   "cell_type": "code",
   "execution_count": 66,
   "metadata": {
    "id": "7wVDKvylKkZs"
   },
   "outputs": [],
   "source": [
    "disp_scaler=StandardScaler()\n",
    "disp_scaler.fit(disp)\n",
    "scaled_disp=disp_scaler.transform(disp)\n"
   ]
  },
  {
   "cell_type": "markdown",
   "metadata": {
    "id": "yB054g6hKkZt"
   },
   "source": [
    "In the previous assignment you built a Linear Regression class, identical to the one packeged with sklearn. We'll import this here:"
   ]
  },
  {
   "cell_type": "code",
   "execution_count": 67,
   "metadata": {
    "id": "BJUXgI8NKkZt"
   },
   "outputs": [],
   "source": [
    "from sklearn.linear_model import LinearRegression"
   ]
  },
  {
   "cell_type": "markdown",
   "metadata": {
    "id": "JP4E_weYKkZt"
   },
   "source": [
    "To create a higher order polynomial model, you'll have to first create a feature matrix with higher powers of `disp`. Create a class that does this for you for any input array `X`. The `fit_transform` method of this class will return a matrix whose first column is a column of ones (if `include_bias=True`), next column is `X`, next is `X**2`, etc."
   ]
  },
  {
   "cell_type": "code",
   "execution_count": 81,
   "metadata": {
    "id": "lNqqNwAeKkZu"
   },
   "outputs": [],
   "source": [
    "class PolynomialFeatures():\n",
    "    def __init__(self,degree,include_bias=False):\n",
    "        self.degree=degree\n",
    "        self.include_bias=include_bias\n",
    "\n",
    "    def fit_transform(self,X):\n",
    "        matrix = np.zeros((X.shape[0], self.degree))\n",
    "        for i in range(self.degree):\n",
    "            matrix[:, i] = X.T**(i+1)\n",
    "\n",
    "        if self.include_bias:\n",
    "            return np.c_[np.ones(X.shape[0]).T, matrix]\n",
    "        return matrix\n",
    "        "
   ]
  },
  {
   "cell_type": "markdown",
   "metadata": {
    "id": "IGojfMYqKkZu"
   },
   "source": [
    "Now, for example, if you wanted to create a matrix whose first column is `[0,1,2,3]` and second column is those values squared, you would do this:"
   ]
  },
  {
   "cell_type": "code",
   "execution_count": 82,
   "metadata": {
    "id": "fdm27O7qKkZu"
   },
   "outputs": [
    {
     "data": {
      "text/plain": [
       "array([[1., 0., 0.],\n",
       "       [1., 1., 1.],\n",
       "       [1., 2., 4.],\n",
       "       [1., 3., 9.]])"
      ]
     },
     "execution_count": 82,
     "metadata": {},
     "output_type": "execute_result"
    }
   ],
   "source": [
    "quad=PolynomialFeatures(2, include_bias=True)\n",
    "quad.fit_transform(np.array([0,1,2,3]))"
   ]
  },
  {
   "cell_type": "markdown",
   "metadata": {
    "id": "8c4-V8ANKkZv"
   },
   "source": [
    "Generate a matrix whose columns are `scaled_disp` and `scaled_disp**2`."
   ]
  },
  {
   "cell_type": "code",
   "execution_count": 88,
   "metadata": {
    "id": "5jiKRwWgKkZv"
   },
   "outputs": [
    {
     "data": {
      "text/plain": [
       "array([[-1.29691206e+00,  1.68198089e+00],\n",
       "       [-1.23113311e+00,  1.51568873e+00],\n",
       "       [-1.22016995e+00,  1.48881470e+00],\n",
       "       [-1.22016995e+00,  1.48881470e+00],\n",
       "       [-1.18728047e+00,  1.40963492e+00],\n",
       "       [-1.17631731e+00,  1.38372242e+00],\n",
       "       [-1.16535415e+00,  1.35805030e+00],\n",
       "       [-1.09957520e+00,  1.20906562e+00],\n",
       "       [-1.09957520e+00,  1.20906562e+00],\n",
       "       [-1.09957520e+00,  1.20906562e+00],\n",
       "       [-1.09957520e+00,  1.20906562e+00],\n",
       "       [-1.09957520e+00,  1.20906562e+00],\n",
       "       [-1.08861204e+00,  1.18507618e+00],\n",
       "       [-1.08861204e+00,  1.18507618e+00],\n",
       "       [-1.01186993e+00,  1.02388075e+00],\n",
       "       [-1.01186993e+00,  1.02388075e+00],\n",
       "       [-9.89943612e-01,  9.79988355e-01],\n",
       "       [-8.58385706e-01,  7.36826020e-01],\n",
       "       [-8.58385706e-01,  7.36826020e-01],\n",
       "       [-8.58385706e-01,  7.36826020e-01],\n",
       "       [-8.36459388e-01,  6.99664308e-01],\n",
       "       [-8.36459388e-01,  6.99664308e-01],\n",
       "       [-8.36459388e-01,  6.99664308e-01],\n",
       "       [-7.26827800e-01,  5.28278651e-01],\n",
       "       [-6.93938324e-01,  4.81550397e-01],\n",
       "       [-6.93938324e-01,  4.81550397e-01],\n",
       "       [-6.28159371e-01,  3.94584195e-01],\n",
       "       [-6.28159371e-01,  3.94584195e-01],\n",
       "       [-6.28159371e-01,  3.94584195e-01],\n",
       "       [-5.62380418e-01,  3.16271734e-01],\n",
       "       [-5.07564624e-01,  2.57621847e-01],\n",
       "       [-5.07564624e-01,  2.57621847e-01],\n",
       "       [-5.07564624e-01,  2.57621847e-01],\n",
       "       [-4.52748829e-01,  2.04981503e-01],\n",
       "       [-3.76006718e-01,  1.41381052e-01],\n",
       "       [-3.76006718e-01,  1.41381052e-01],\n",
       "       [-1.42224763e-02,  2.02278833e-04],\n",
       "       [-1.42224763e-02,  2.02278833e-04],\n",
       "       [ 2.96301590e-02,  8.77946322e-04],\n",
       "       [ 2.96301590e-02,  8.77946322e-04],\n",
       "       [ 3.03709130e-01,  9.22392355e-02],\n",
       "       [ 3.03709130e-01,  9.22392355e-02],\n",
       "       [ 3.69488083e-01,  1.36521443e-01],\n",
       "       [ 3.69488083e-01,  1.36521443e-01],\n",
       "       [ 3.69488083e-01,  1.36521443e-01],\n",
       "       [ 3.69488083e-01,  1.36521443e-01],\n",
       "       [ 3.69488083e-01,  1.36521443e-01],\n",
       "       [ 3.69488083e-01,  1.36521443e-01],\n",
       "       [ 3.69488083e-01,  1.36521443e-01],\n",
       "       [ 3.69488083e-01,  1.36521443e-01],\n",
       "       [ 3.69488083e-01,  1.36521443e-01],\n",
       "       [ 3.69488083e-01,  1.36521443e-01],\n",
       "       [ 3.69488083e-01,  1.36521443e-01],\n",
       "       [ 3.69488083e-01,  1.36521443e-01],\n",
       "       [ 3.69488083e-01,  1.36521443e-01],\n",
       "       [ 5.77788100e-01,  3.33839089e-01],\n",
       "       [ 5.77788100e-01,  3.33839089e-01],\n",
       "       [ 5.77788100e-01,  3.33839089e-01],\n",
       "       [ 6.65493371e-01,  4.42881427e-01],\n",
       "       [ 1.14787236e+00,  1.31761095e+00],\n",
       "       [ 1.14787236e+00,  1.31761095e+00],\n",
       "       [ 1.14787236e+00,  1.31761095e+00],\n",
       "       [ 1.14787236e+00,  1.31761095e+00],\n",
       "       [ 1.16979868e+00,  1.36842894e+00],\n",
       "       [ 1.32328290e+00,  1.75107764e+00],\n",
       "       [ 1.32328290e+00,  1.75107764e+00],\n",
       "       [ 1.67410398e+00,  2.80262415e+00],\n",
       "       [ 1.67410398e+00,  2.80262415e+00],\n",
       "       [ 1.67410398e+00,  2.80262415e+00],\n",
       "       [ 1.67410398e+00,  2.80262415e+00],\n",
       "       [ 1.67410398e+00,  2.80262415e+00],\n",
       "       [ 2.22226192e+00,  4.93844806e+00],\n",
       "       [ 2.22226192e+00,  4.93844806e+00],\n",
       "       [ 2.49634090e+00,  6.23171787e+00]])"
      ]
     },
     "execution_count": 88,
     "metadata": {},
     "output_type": "execute_result"
    }
   ],
   "source": [
    "sd2 = PolynomialFeatures(2, include_bias=False) \n",
    "scaled_disp2 = sd2.fit_transform(scaled_disp) \n",
    "scaled_disp2\n"
   ]
  },
  {
   "cell_type": "markdown",
   "metadata": {
    "id": "vUre83IWUhJB"
   },
   "source": [
    "Create a quadratic model to predict `mpg` from `scaled_disp` by creating a linear model to predict `mpg` from both `scaled_disp` and `scaled_disp**2` (*i.e.* from `scaled_disp2`)."
   ]
  },
  {
   "cell_type": "code",
   "execution_count": 89,
   "metadata": {
    "id": "65RKAsxSKkZw"
   },
   "outputs": [
    {
     "data": {
      "text/html": [
       "<style>#sk-container-id-1 {\n",
       "  /* Definition of color scheme common for light and dark mode */\n",
       "  --sklearn-color-text: black;\n",
       "  --sklearn-color-line: gray;\n",
       "  /* Definition of color scheme for unfitted estimators */\n",
       "  --sklearn-color-unfitted-level-0: #fff5e6;\n",
       "  --sklearn-color-unfitted-level-1: #f6e4d2;\n",
       "  --sklearn-color-unfitted-level-2: #ffe0b3;\n",
       "  --sklearn-color-unfitted-level-3: chocolate;\n",
       "  /* Definition of color scheme for fitted estimators */\n",
       "  --sklearn-color-fitted-level-0: #f0f8ff;\n",
       "  --sklearn-color-fitted-level-1: #d4ebff;\n",
       "  --sklearn-color-fitted-level-2: #b3dbfd;\n",
       "  --sklearn-color-fitted-level-3: cornflowerblue;\n",
       "\n",
       "  /* Specific color for light theme */\n",
       "  --sklearn-color-text-on-default-background: var(--sg-text-color, var(--theme-code-foreground, var(--jp-content-font-color1, black)));\n",
       "  --sklearn-color-background: var(--sg-background-color, var(--theme-background, var(--jp-layout-color0, white)));\n",
       "  --sklearn-color-border-box: var(--sg-text-color, var(--theme-code-foreground, var(--jp-content-font-color1, black)));\n",
       "  --sklearn-color-icon: #696969;\n",
       "\n",
       "  @media (prefers-color-scheme: dark) {\n",
       "    /* Redefinition of color scheme for dark theme */\n",
       "    --sklearn-color-text-on-default-background: var(--sg-text-color, var(--theme-code-foreground, var(--jp-content-font-color1, white)));\n",
       "    --sklearn-color-background: var(--sg-background-color, var(--theme-background, var(--jp-layout-color0, #111)));\n",
       "    --sklearn-color-border-box: var(--sg-text-color, var(--theme-code-foreground, var(--jp-content-font-color1, white)));\n",
       "    --sklearn-color-icon: #878787;\n",
       "  }\n",
       "}\n",
       "\n",
       "#sk-container-id-1 {\n",
       "  color: var(--sklearn-color-text);\n",
       "}\n",
       "\n",
       "#sk-container-id-1 pre {\n",
       "  padding: 0;\n",
       "}\n",
       "\n",
       "#sk-container-id-1 input.sk-hidden--visually {\n",
       "  border: 0;\n",
       "  clip: rect(1px 1px 1px 1px);\n",
       "  clip: rect(1px, 1px, 1px, 1px);\n",
       "  height: 1px;\n",
       "  margin: -1px;\n",
       "  overflow: hidden;\n",
       "  padding: 0;\n",
       "  position: absolute;\n",
       "  width: 1px;\n",
       "}\n",
       "\n",
       "#sk-container-id-1 div.sk-dashed-wrapped {\n",
       "  border: 1px dashed var(--sklearn-color-line);\n",
       "  margin: 0 0.4em 0.5em 0.4em;\n",
       "  box-sizing: border-box;\n",
       "  padding-bottom: 0.4em;\n",
       "  background-color: var(--sklearn-color-background);\n",
       "}\n",
       "\n",
       "#sk-container-id-1 div.sk-container {\n",
       "  /* jupyter's `normalize.less` sets `[hidden] { display: none; }`\n",
       "     but bootstrap.min.css set `[hidden] { display: none !important; }`\n",
       "     so we also need the `!important` here to be able to override the\n",
       "     default hidden behavior on the sphinx rendered scikit-learn.org.\n",
       "     See: https://github.com/scikit-learn/scikit-learn/issues/21755 */\n",
       "  display: inline-block !important;\n",
       "  position: relative;\n",
       "}\n",
       "\n",
       "#sk-container-id-1 div.sk-text-repr-fallback {\n",
       "  display: none;\n",
       "}\n",
       "\n",
       "div.sk-parallel-item,\n",
       "div.sk-serial,\n",
       "div.sk-item {\n",
       "  /* draw centered vertical line to link estimators */\n",
       "  background-image: linear-gradient(var(--sklearn-color-text-on-default-background), var(--sklearn-color-text-on-default-background));\n",
       "  background-size: 2px 100%;\n",
       "  background-repeat: no-repeat;\n",
       "  background-position: center center;\n",
       "}\n",
       "\n",
       "/* Parallel-specific style estimator block */\n",
       "\n",
       "#sk-container-id-1 div.sk-parallel-item::after {\n",
       "  content: \"\";\n",
       "  width: 100%;\n",
       "  border-bottom: 2px solid var(--sklearn-color-text-on-default-background);\n",
       "  flex-grow: 1;\n",
       "}\n",
       "\n",
       "#sk-container-id-1 div.sk-parallel {\n",
       "  display: flex;\n",
       "  align-items: stretch;\n",
       "  justify-content: center;\n",
       "  background-color: var(--sklearn-color-background);\n",
       "  position: relative;\n",
       "}\n",
       "\n",
       "#sk-container-id-1 div.sk-parallel-item {\n",
       "  display: flex;\n",
       "  flex-direction: column;\n",
       "}\n",
       "\n",
       "#sk-container-id-1 div.sk-parallel-item:first-child::after {\n",
       "  align-self: flex-end;\n",
       "  width: 50%;\n",
       "}\n",
       "\n",
       "#sk-container-id-1 div.sk-parallel-item:last-child::after {\n",
       "  align-self: flex-start;\n",
       "  width: 50%;\n",
       "}\n",
       "\n",
       "#sk-container-id-1 div.sk-parallel-item:only-child::after {\n",
       "  width: 0;\n",
       "}\n",
       "\n",
       "/* Serial-specific style estimator block */\n",
       "\n",
       "#sk-container-id-1 div.sk-serial {\n",
       "  display: flex;\n",
       "  flex-direction: column;\n",
       "  align-items: center;\n",
       "  background-color: var(--sklearn-color-background);\n",
       "  padding-right: 1em;\n",
       "  padding-left: 1em;\n",
       "}\n",
       "\n",
       "\n",
       "/* Toggleable style: style used for estimator/Pipeline/ColumnTransformer box that is\n",
       "clickable and can be expanded/collapsed.\n",
       "- Pipeline and ColumnTransformer use this feature and define the default style\n",
       "- Estimators will overwrite some part of the style using the `sk-estimator` class\n",
       "*/\n",
       "\n",
       "/* Pipeline and ColumnTransformer style (default) */\n",
       "\n",
       "#sk-container-id-1 div.sk-toggleable {\n",
       "  /* Default theme specific background. It is overwritten whether we have a\n",
       "  specific estimator or a Pipeline/ColumnTransformer */\n",
       "  background-color: var(--sklearn-color-background);\n",
       "}\n",
       "\n",
       "/* Toggleable label */\n",
       "#sk-container-id-1 label.sk-toggleable__label {\n",
       "  cursor: pointer;\n",
       "  display: block;\n",
       "  width: 100%;\n",
       "  margin-bottom: 0;\n",
       "  padding: 0.5em;\n",
       "  box-sizing: border-box;\n",
       "  text-align: center;\n",
       "}\n",
       "\n",
       "#sk-container-id-1 label.sk-toggleable__label-arrow:before {\n",
       "  /* Arrow on the left of the label */\n",
       "  content: \"▸\";\n",
       "  float: left;\n",
       "  margin-right: 0.25em;\n",
       "  color: var(--sklearn-color-icon);\n",
       "}\n",
       "\n",
       "#sk-container-id-1 label.sk-toggleable__label-arrow:hover:before {\n",
       "  color: var(--sklearn-color-text);\n",
       "}\n",
       "\n",
       "/* Toggleable content - dropdown */\n",
       "\n",
       "#sk-container-id-1 div.sk-toggleable__content {\n",
       "  max-height: 0;\n",
       "  max-width: 0;\n",
       "  overflow: hidden;\n",
       "  text-align: left;\n",
       "  /* unfitted */\n",
       "  background-color: var(--sklearn-color-unfitted-level-0);\n",
       "}\n",
       "\n",
       "#sk-container-id-1 div.sk-toggleable__content.fitted {\n",
       "  /* fitted */\n",
       "  background-color: var(--sklearn-color-fitted-level-0);\n",
       "}\n",
       "\n",
       "#sk-container-id-1 div.sk-toggleable__content pre {\n",
       "  margin: 0.2em;\n",
       "  border-radius: 0.25em;\n",
       "  color: var(--sklearn-color-text);\n",
       "  /* unfitted */\n",
       "  background-color: var(--sklearn-color-unfitted-level-0);\n",
       "}\n",
       "\n",
       "#sk-container-id-1 div.sk-toggleable__content.fitted pre {\n",
       "  /* unfitted */\n",
       "  background-color: var(--sklearn-color-fitted-level-0);\n",
       "}\n",
       "\n",
       "#sk-container-id-1 input.sk-toggleable__control:checked~div.sk-toggleable__content {\n",
       "  /* Expand drop-down */\n",
       "  max-height: 200px;\n",
       "  max-width: 100%;\n",
       "  overflow: auto;\n",
       "}\n",
       "\n",
       "#sk-container-id-1 input.sk-toggleable__control:checked~label.sk-toggleable__label-arrow:before {\n",
       "  content: \"▾\";\n",
       "}\n",
       "\n",
       "/* Pipeline/ColumnTransformer-specific style */\n",
       "\n",
       "#sk-container-id-1 div.sk-label input.sk-toggleable__control:checked~label.sk-toggleable__label {\n",
       "  color: var(--sklearn-color-text);\n",
       "  background-color: var(--sklearn-color-unfitted-level-2);\n",
       "}\n",
       "\n",
       "#sk-container-id-1 div.sk-label.fitted input.sk-toggleable__control:checked~label.sk-toggleable__label {\n",
       "  background-color: var(--sklearn-color-fitted-level-2);\n",
       "}\n",
       "\n",
       "/* Estimator-specific style */\n",
       "\n",
       "/* Colorize estimator box */\n",
       "#sk-container-id-1 div.sk-estimator input.sk-toggleable__control:checked~label.sk-toggleable__label {\n",
       "  /* unfitted */\n",
       "  background-color: var(--sklearn-color-unfitted-level-2);\n",
       "}\n",
       "\n",
       "#sk-container-id-1 div.sk-estimator.fitted input.sk-toggleable__control:checked~label.sk-toggleable__label {\n",
       "  /* fitted */\n",
       "  background-color: var(--sklearn-color-fitted-level-2);\n",
       "}\n",
       "\n",
       "#sk-container-id-1 div.sk-label label.sk-toggleable__label,\n",
       "#sk-container-id-1 div.sk-label label {\n",
       "  /* The background is the default theme color */\n",
       "  color: var(--sklearn-color-text-on-default-background);\n",
       "}\n",
       "\n",
       "/* On hover, darken the color of the background */\n",
       "#sk-container-id-1 div.sk-label:hover label.sk-toggleable__label {\n",
       "  color: var(--sklearn-color-text);\n",
       "  background-color: var(--sklearn-color-unfitted-level-2);\n",
       "}\n",
       "\n",
       "/* Label box, darken color on hover, fitted */\n",
       "#sk-container-id-1 div.sk-label.fitted:hover label.sk-toggleable__label.fitted {\n",
       "  color: var(--sklearn-color-text);\n",
       "  background-color: var(--sklearn-color-fitted-level-2);\n",
       "}\n",
       "\n",
       "/* Estimator label */\n",
       "\n",
       "#sk-container-id-1 div.sk-label label {\n",
       "  font-family: monospace;\n",
       "  font-weight: bold;\n",
       "  display: inline-block;\n",
       "  line-height: 1.2em;\n",
       "}\n",
       "\n",
       "#sk-container-id-1 div.sk-label-container {\n",
       "  text-align: center;\n",
       "}\n",
       "\n",
       "/* Estimator-specific */\n",
       "#sk-container-id-1 div.sk-estimator {\n",
       "  font-family: monospace;\n",
       "  border: 1px dotted var(--sklearn-color-border-box);\n",
       "  border-radius: 0.25em;\n",
       "  box-sizing: border-box;\n",
       "  margin-bottom: 0.5em;\n",
       "  /* unfitted */\n",
       "  background-color: var(--sklearn-color-unfitted-level-0);\n",
       "}\n",
       "\n",
       "#sk-container-id-1 div.sk-estimator.fitted {\n",
       "  /* fitted */\n",
       "  background-color: var(--sklearn-color-fitted-level-0);\n",
       "}\n",
       "\n",
       "/* on hover */\n",
       "#sk-container-id-1 div.sk-estimator:hover {\n",
       "  /* unfitted */\n",
       "  background-color: var(--sklearn-color-unfitted-level-2);\n",
       "}\n",
       "\n",
       "#sk-container-id-1 div.sk-estimator.fitted:hover {\n",
       "  /* fitted */\n",
       "  background-color: var(--sklearn-color-fitted-level-2);\n",
       "}\n",
       "\n",
       "/* Specification for estimator info (e.g. \"i\" and \"?\") */\n",
       "\n",
       "/* Common style for \"i\" and \"?\" */\n",
       "\n",
       ".sk-estimator-doc-link,\n",
       "a:link.sk-estimator-doc-link,\n",
       "a:visited.sk-estimator-doc-link {\n",
       "  float: right;\n",
       "  font-size: smaller;\n",
       "  line-height: 1em;\n",
       "  font-family: monospace;\n",
       "  background-color: var(--sklearn-color-background);\n",
       "  border-radius: 1em;\n",
       "  height: 1em;\n",
       "  width: 1em;\n",
       "  text-decoration: none !important;\n",
       "  margin-left: 1ex;\n",
       "  /* unfitted */\n",
       "  border: var(--sklearn-color-unfitted-level-1) 1pt solid;\n",
       "  color: var(--sklearn-color-unfitted-level-1);\n",
       "}\n",
       "\n",
       ".sk-estimator-doc-link.fitted,\n",
       "a:link.sk-estimator-doc-link.fitted,\n",
       "a:visited.sk-estimator-doc-link.fitted {\n",
       "  /* fitted */\n",
       "  border: var(--sklearn-color-fitted-level-1) 1pt solid;\n",
       "  color: var(--sklearn-color-fitted-level-1);\n",
       "}\n",
       "\n",
       "/* On hover */\n",
       "div.sk-estimator:hover .sk-estimator-doc-link:hover,\n",
       ".sk-estimator-doc-link:hover,\n",
       "div.sk-label-container:hover .sk-estimator-doc-link:hover,\n",
       ".sk-estimator-doc-link:hover {\n",
       "  /* unfitted */\n",
       "  background-color: var(--sklearn-color-unfitted-level-3);\n",
       "  color: var(--sklearn-color-background);\n",
       "  text-decoration: none;\n",
       "}\n",
       "\n",
       "div.sk-estimator.fitted:hover .sk-estimator-doc-link.fitted:hover,\n",
       ".sk-estimator-doc-link.fitted:hover,\n",
       "div.sk-label-container:hover .sk-estimator-doc-link.fitted:hover,\n",
       ".sk-estimator-doc-link.fitted:hover {\n",
       "  /* fitted */\n",
       "  background-color: var(--sklearn-color-fitted-level-3);\n",
       "  color: var(--sklearn-color-background);\n",
       "  text-decoration: none;\n",
       "}\n",
       "\n",
       "/* Span, style for the box shown on hovering the info icon */\n",
       ".sk-estimator-doc-link span {\n",
       "  display: none;\n",
       "  z-index: 9999;\n",
       "  position: relative;\n",
       "  font-weight: normal;\n",
       "  right: .2ex;\n",
       "  padding: .5ex;\n",
       "  margin: .5ex;\n",
       "  width: min-content;\n",
       "  min-width: 20ex;\n",
       "  max-width: 50ex;\n",
       "  color: var(--sklearn-color-text);\n",
       "  box-shadow: 2pt 2pt 4pt #999;\n",
       "  /* unfitted */\n",
       "  background: var(--sklearn-color-unfitted-level-0);\n",
       "  border: .5pt solid var(--sklearn-color-unfitted-level-3);\n",
       "}\n",
       "\n",
       ".sk-estimator-doc-link.fitted span {\n",
       "  /* fitted */\n",
       "  background: var(--sklearn-color-fitted-level-0);\n",
       "  border: var(--sklearn-color-fitted-level-3);\n",
       "}\n",
       "\n",
       ".sk-estimator-doc-link:hover span {\n",
       "  display: block;\n",
       "}\n",
       "\n",
       "/* \"?\"-specific style due to the `<a>` HTML tag */\n",
       "\n",
       "#sk-container-id-1 a.estimator_doc_link {\n",
       "  float: right;\n",
       "  font-size: 1rem;\n",
       "  line-height: 1em;\n",
       "  font-family: monospace;\n",
       "  background-color: var(--sklearn-color-background);\n",
       "  border-radius: 1rem;\n",
       "  height: 1rem;\n",
       "  width: 1rem;\n",
       "  text-decoration: none;\n",
       "  /* unfitted */\n",
       "  color: var(--sklearn-color-unfitted-level-1);\n",
       "  border: var(--sklearn-color-unfitted-level-1) 1pt solid;\n",
       "}\n",
       "\n",
       "#sk-container-id-1 a.estimator_doc_link.fitted {\n",
       "  /* fitted */\n",
       "  border: var(--sklearn-color-fitted-level-1) 1pt solid;\n",
       "  color: var(--sklearn-color-fitted-level-1);\n",
       "}\n",
       "\n",
       "/* On hover */\n",
       "#sk-container-id-1 a.estimator_doc_link:hover {\n",
       "  /* unfitted */\n",
       "  background-color: var(--sklearn-color-unfitted-level-3);\n",
       "  color: var(--sklearn-color-background);\n",
       "  text-decoration: none;\n",
       "}\n",
       "\n",
       "#sk-container-id-1 a.estimator_doc_link.fitted:hover {\n",
       "  /* fitted */\n",
       "  background-color: var(--sklearn-color-fitted-level-3);\n",
       "}\n",
       "</style><div id=\"sk-container-id-1\" class=\"sk-top-container\"><div class=\"sk-text-repr-fallback\"><pre>LinearRegression()</pre><b>In a Jupyter environment, please rerun this cell to show the HTML representation or trust the notebook. <br />On GitHub, the HTML representation is unable to render, please try loading this page with nbviewer.org.</b></div><div class=\"sk-container\" hidden><div class=\"sk-item\"><div class=\"sk-estimator fitted sk-toggleable\"><input class=\"sk-toggleable__control sk-hidden--visually\" id=\"sk-estimator-id-1\" type=\"checkbox\" checked><label for=\"sk-estimator-id-1\" class=\"sk-toggleable__label fitted sk-toggleable__label-arrow fitted\">&nbsp;&nbsp;LinearRegression<a class=\"sk-estimator-doc-link fitted\" rel=\"noreferrer\" target=\"_blank\" href=\"https://scikit-learn.org/1.5/modules/generated/sklearn.linear_model.LinearRegression.html\">?<span>Documentation for LinearRegression</span></a><span class=\"sk-estimator-doc-link fitted\">i<span>Fitted</span></span></label><div class=\"sk-toggleable__content fitted\"><pre>LinearRegression()</pre></div> </div></div></div></div>"
      ],
      "text/plain": [
       "LinearRegression()"
      ]
     },
     "execution_count": 89,
     "metadata": {},
     "output_type": "execute_result"
    }
   ],
   "source": [
    "quadratic_mod = LinearRegression()  \n",
    "quadratic_mod.fit(scaled_disp2, mpg)"
   ]
  },
  {
   "cell_type": "markdown",
   "metadata": {
    "id": "kUGgG2KuKkZw"
   },
   "source": [
    "Now, apply this model to `scaled_disp2` to create an array of predictions."
   ]
  },
  {
   "cell_type": "code",
   "execution_count": 90,
   "metadata": {
    "id": "eMmjy0t2P92W"
   },
   "outputs": [],
   "source": [
    "quad_preds= quadratic_mod.predict(scaled_disp2) "
   ]
  },
  {
   "cell_type": "markdown",
   "metadata": {
    "id": "SLwu_azyl24k"
   },
   "source": [
    "Now visualize it:"
   ]
  },
  {
   "cell_type": "code",
   "execution_count": 91,
   "metadata": {
    "id": "r8-56v3Kf_yo"
   },
   "outputs": [
    {
     "data": {
      "text/plain": [
       "Text(0, 0.5, 'MPG')"
      ]
     },
     "execution_count": 91,
     "metadata": {},
     "output_type": "execute_result"
    },
    {
     "data": {
      "image/png": "[encoded data removed]",
      "text/plain": [
       "<Figure size 640x480 with 1 Axes>"
      ]
     },
     "metadata": {},
     "output_type": "display_data"
    }
   ],
   "source": [
    "plt.scatter(disp,mpg)\n",
    "plt.plot(disp,quad_preds,'-r')\n",
    "plt.xlabel('Displacement')\n",
    "plt.ylabel('MPG')"
   ]
  },
  {
   "cell_type": "markdown",
   "metadata": {
    "id": "XzLh874dVIxR"
   },
   "source": [
    "Calculate the RSS of ```quadratic_mod```."
   ]
  },
  {
   "cell_type": "code",
   "execution_count": 92,
   "metadata": {
    "id": "puAk5AKJVRx-"
   },
   "outputs": [
    {
     "data": {
      "text/plain": [
       "1093.5195302187064"
      ]
     },
     "execution_count": 92,
     "metadata": {},
     "output_type": "execute_result"
    }
   ],
   "source": [
    "RSSquad= np.sum((mpg - quad_preds)**2) \n",
    "RSSquad"
   ]
  },
  {
   "cell_type": "markdown",
   "metadata": {
    "id": "D0HdiBQ_KkZy"
   },
   "source": [
    "Now create a cubic model of `mpg` vs `scaled_disp`, visualize it, and calculate its RSS."
   ]
  },
  {
   "cell_type": "code",
   "execution_count": 93,
   "metadata": {
    "id": "9NimlMmlKkZy"
   },
   "outputs": [],
   "source": [
    "sd3 = PolynomialFeatures(3,include_bias=False)\n",
    "scaled_disp3 = sd3.fit_transform(scaled_disp)\n",
    "cubic_mod = LinearRegression() \n",
    "cubic_mod.fit(scaled_disp3, mpg) \n",
    "cubic_preds = cubic_mod.predict(scaled_disp3) "
   ]
  },
  {
   "cell_type": "code",
   "execution_count": 94,
   "metadata": {
    "id": "heErYg2aKkZz",
    "scrolled": true
   },
   "outputs": [
    {
     "data": {
      "text/plain": [
       "Text(0, 0.5, 'MPG')"
      ]
     },
     "execution_count": 94,
     "metadata": {},
     "output_type": "execute_result"
    },
    {
     "data": {
      "image/png": "[encoded data removed]",
      "text/plain": [
       "<Figure size 640x480 with 1 Axes>"
      ]
     },
     "metadata": {},
     "output_type": "display_data"
    }
   ],
   "source": [
    "plt.scatter(disp,mpg)\n",
    "plt.plot(disp,cubic_preds,'-r')\n",
    "plt.xlabel('Displacement')\n",
    "plt.ylabel('MPG')"
   ]
  },
  {
   "cell_type": "code",
   "execution_count": 97,
   "metadata": {
    "id": "vzSutJoIKkZz"
   },
   "outputs": [
    {
     "data": {
      "text/plain": [
       "963.6020515667143"
      ]
     },
     "execution_count": 97,
     "metadata": {},
     "output_type": "execute_result"
    }
   ],
   "source": [
    "RSScubic= np.sum((cubic_preds - mpg)**2)\n",
    "RSScubic"
   ]
  },
  {
   "cell_type": "code",
   "execution_count": null,
   "metadata": {},
   "outputs": [],
   "source": []
  }
 ],
 "metadata": {
  "colab": {
   "provenance": [
    {
     "file_id": "13IdzKIzfCNDgIDWrZMFH09MP2KX8_sAQ",
     "timestamp": 1643666113242
    },
    {
     "file_id": "1TcrsRnZzdOFJh6WAVyrqUMNSnbHc5D21",
     "timestamp": 1643606528488
    }
   ]
  },
  "kernelspec": {
   "display_name": "base",
   "language": "python",
   "name": "python3"
  },
  "language_info": {
   "codemirror_mode": {
    "name": "ipython",
    "version": 3
   },
   "file_extension": ".py",
   "mimetype": "text/x-python",
   "name": "python",
   "nbconvert_exporter": "python",
   "pygments_lexer": "ipython3",
   "version": "3.12.7"
  }
 },
 "nbformat": 4,
 "nbformat_minor": 0
}
