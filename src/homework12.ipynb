{
 "cells": [
  {
   "cell_type": "markdown",
   "metadata": {
    "id": "umOGtyvwIkHc"
   },
   "source": [
    "**Homework 12**"
   ]
  },
  {
   "cell_type": "code",
   "execution_count": 160,
   "metadata": {},
   "outputs": [],
   "source": [
    "import pandas as pd\n",
    "import numpy as np\n",
    "import matplotlib.pyplot as plt"
   ]
  },
  {
   "cell_type": "markdown",
   "metadata": {},
   "source": [
    "Add the code to the SGDRegressor class below to allow for variable amount of L1 and L2 regularization."
   ]
  },
  {
   "cell_type": "code",
   "execution_count": 161,
   "metadata": {},
   "outputs": [],
   "source": [
    "class SGDRegressor():\n",
    "    def __init__(self,learning_rate, max_iter, batch_size, penalty=None, alpha=0.0001):\n",
    "        self.lr=learning_rate\n",
    "        self.max_iter=max_iter #number of epochs\n",
    "        self.batch_size=batch_size\n",
    "        self.penalty=penalty #either 'l1' or 'l2'\n",
    "        self.alpha=alpha #amount of regularization to apply\n",
    "        \n",
    "    def fit(self,X,y):\n",
    "        self.coef=np.ones((X.shape[1],)) #Initial values\n",
    "        self.intercept=1 #Initial value\n",
    "        if self.penalty=='l1':\n",
    "            penalty_grad=lambda x:x/abs(x)    #Type L1 gradient function here\n",
    "        elif self.penalty=='l2':\n",
    "            penalty_grad=lambda x:x      #Type L2 gradient function here\n",
    "        else: penalty_grad= lambda x:0\n",
    "        indices=np.arange(len(X))\n",
    "        for i in range(self.max_iter):\n",
    "            np.random.seed(i) #Just so everyone gets the same answer!\n",
    "            np.random.shuffle(indices)\n",
    "            X_shuffle=X[indices] \n",
    "            y_shuffle=y[indices] \n",
    "            for j in range(0,len(X),self.batch_size):\n",
    "                X_batch=X_shuffle[j:j+self.batch_size]\n",
    "                y_batch=y_shuffle[j:j+self.batch_size]\n",
    "                residuals=self.predict(X_batch)-y_batch\n",
    "                coef_grad=(X_batch.T)@residuals/len(X_batch)\n",
    "                intercept_grad=np.mean(residuals)\n",
    "                self.coef-=self.lr*coef_grad+self.alpha*penalty_grad(self.coef)\n",
    "                self.intercept-=self.lr*intercept_grad+self.alpha*penalty_grad(self.intercept) #Penalty term\n",
    "            \n",
    "    def predict(self,X):\n",
    "        # print(\"X\", end= \" \")\n",
    "        # print(X.shape)\n",
    "        # print(\"coef:\", end= \" \")\n",
    "        # print(self.coef.shape)\n",
    "        # print(\"inter: \", end=\"\")\n",
    "        # print(self.intercept)\n",
    "        # print(X @ self.coef)\n",
    "        return X@self.coef+self.intercept\n",
    "    \n",
    "    def mse(self,X,y): #Not a sklearn method, but added here for convenience\n",
    "        return ((self.predict(X)-y)**2).mean()"
   ]
  },
  {
   "cell_type": "markdown",
   "metadata": {},
   "source": [
    "We now bring back some familiar classes:"
   ]
  },
  {
   "cell_type": "code",
   "execution_count": 162,
   "metadata": {},
   "outputs": [],
   "source": [
    "from sklearn.preprocessing import StandardScaler\n",
    "from sklearn.preprocessing import PolynomialFeatures\n",
    "from sklearn.model_selection import train_test_split"
   ]
  },
  {
   "cell_type": "markdown",
   "metadata": {},
   "source": [
    "We now use L2 regularization to address overfitting of a polynomial model. To begin, we generate and visualize some data:"
   ]
  },
  {
   "cell_type": "code",
   "execution_count": 163,
   "metadata": {},
   "outputs": [
    {
     "data": {
      "text/plain": [
       "<matplotlib.collections.PathCollection at 0x30c393d10>"
      ]
     },
     "execution_count": 163,
     "metadata": {},
     "output_type": "execute_result"
    },
    {
     "data": {
      "image/png": "[encoded data removed]",
      "text/plain": [
       "<Figure size 640x480 with 1 Axes>"
      ]
     },
     "metadata": {},
     "output_type": "display_data"
    }
   ],
   "source": [
    "#Generate Data\n",
    "np.random.seed(4)\n",
    "x=np.arange(0,1,1/16)\n",
    "randoms=np.random.rand(16)\n",
    "y=2*x+1+randoms\n",
    "plt.scatter(x,y)"
   ]
  },
  {
   "cell_type": "markdown",
   "metadata": {},
   "source": [
    "Pre-process the data as follows:\n",
    "1. Do a 75/25 train/test split\n",
    "2. Create matrices from xtrain and xtest by adding columns corresponding to powers one through twelve of the original column. "
   ]
  },
  {
   "cell_type": "code",
   "execution_count": 164,
   "metadata": {},
   "outputs": [
    {
     "name": "stdout",
     "output_type": "stream",
     "text": [
      "(12,)\n"
     ]
    },
    {
     "data": {
      "text/plain": [
       "(12, 12)"
      ]
     },
     "execution_count": 164,
     "metadata": {},
     "output_type": "execute_result"
    }
   ],
   "source": [
    "#Process Data:\n",
    "xtrain,xtest,ytrain,ytest=train_test_split(x, y, test_size=0.25)\n",
    "#Your Code Here\n",
    "print(xtrain.shape)\n",
    "d12=PolynomialFeatures(12,include_bias=False)\n",
    "deg12xtrain=d12.fit_transform(xtrain[:,np.newaxis]) \n",
    "deg12xtest=d12.fit_transform(xtest[:,np.newaxis])\n",
    "deg12xtrain.shape"
   ]
  },
  {
   "cell_type": "markdown",
   "metadata": {},
   "source": [
    "Create an SGD model with no regularization. Use a learning rate of 0.1, max_iter of 10000, and batch_size of 16. Then, fit it to `deg12xtrain` and `ytrain`."
   ]
  },
  {
   "cell_type": "code",
   "execution_count": 165,
   "metadata": {},
   "outputs": [],
   "source": [
    "noreg= SGDRegressor(learning_rate=0.1, max_iter=10000, batch_size=16)\n",
    "noreg.fit(deg12xtrain, ytrain)"
   ]
  },
  {
   "cell_type": "markdown",
   "metadata": {},
   "source": [
    "Evaluate the MSE of your model on the train set:"
   ]
  },
  {
   "cell_type": "code",
   "execution_count": 166,
   "metadata": {},
   "outputs": [
    {
     "name": "stdout",
     "output_type": "stream",
     "text": [
      "(12,)\n"
     ]
    },
    {
     "data": {
      "text/plain": [
       "0.08002428305558902"
      ]
     },
     "execution_count": 166,
     "metadata": {},
     "output_type": "execute_result"
    }
   ],
   "source": [
    "noreg_mse_train= noreg.mse(deg12xtrain, ytrain)\n",
    "print(ytrain.shape)\n",
    "noreg_mse_train"
   ]
  },
  {
   "cell_type": "markdown",
   "metadata": {},
   "source": [
    "Evaluate the MSE of your model on the test set:"
   ]
  },
  {
   "cell_type": "code",
   "execution_count": 167,
   "metadata": {},
   "outputs": [
    {
     "data": {
      "text/plain": [
       "0.14346201670216494"
      ]
     },
     "execution_count": 167,
     "metadata": {},
     "output_type": "execute_result"
    }
   ],
   "source": [
    "noreg_mse_test= noreg.mse(deg12xtest, ytest)\n",
    "noreg_mse_test\n"
   ]
  },
  {
   "cell_type": "markdown",
   "metadata": {},
   "source": [
    "Create a similar model, but with 0.01 of L2 regularization."
   ]
  },
  {
   "cell_type": "code",
   "execution_count": 184,
   "metadata": {},
   "outputs": [],
   "source": [
    "regmodel= SGDRegressor(learning_rate=0.1, max_iter=10000, batch_size=16, penalty='l2', alpha=0.01)\n",
    "regmodel.fit(deg12xtrain, ytrain)"
   ]
  },
  {
   "cell_type": "markdown",
   "metadata": {},
   "source": [
    "Evaluate the MSE of your new model on the train set. It will be higher than before, indicating a model that is not as good on the data it was trained on."
   ]
  },
  {
   "cell_type": "code",
   "execution_count": 185,
   "metadata": {},
   "outputs": [
    {
     "data": {
      "text/plain": [
       "0.13233672767100194"
      ]
     },
     "execution_count": 185,
     "metadata": {},
     "output_type": "execute_result"
    }
   ],
   "source": [
    "reg_mse_train= regmodel.mse(deg12xtrain, ytrain)\n",
    "reg_mse_train"
   ]
  },
  {
   "cell_type": "markdown",
   "metadata": {},
   "source": [
    "Evaluate the MSE of your new model on the test set. It should be lower than before, indicating a better (less overfit) model."
   ]
  },
  {
   "cell_type": "code",
   "execution_count": 186,
   "metadata": {},
   "outputs": [
    {
     "data": {
      "text/plain": [
       "0.08511478974291509"
      ]
     },
     "execution_count": 186,
     "metadata": {},
     "output_type": "execute_result"
    }
   ],
   "source": [
    "reg_mse_test= regmodel.mse(deg12xtest, ytest)\n",
    "reg_mse_test"
   ]
  },
  {
   "cell_type": "markdown",
   "metadata": {
    "id": "9HpW-goqbVZf"
   },
   "source": [
    "\n",
    "\n",
    "---\n",
    "\n",
    "You will now explore the use of L1 regularization to do feature selection on the classic California housing dataset. Import it here:\n"
   ]
  },
  {
   "cell_type": "code",
   "execution_count": 171,
   "metadata": {
    "colab": {
     "base_uri": "https://localhost:8080/",
     "height": 165
    },
    "executionInfo": {
     "elapsed": 5328,
     "status": "ok",
     "timestamp": 1696971169762,
     "user": {
      "displayName": "David Bachman",
      "userId": "02952839939203243924"
     },
     "user_tz": 420
    },
    "id": "T3GS1hi0-HFd",
    "outputId": "952516f9-3f00-45f9-e42c-dbba13dd0369",
    "scrolled": true
   },
   "outputs": [
    {
     "data": {
      "text/html": [
       "<div>\n",
       "<style scoped>\n",
       "    .dataframe tbody tr th:only-of-type {\n",
       "        vertical-align: middle;\n",
       "    }\n",
       "\n",
       "    .dataframe tbody tr th {\n",
       "        vertical-align: top;\n",
       "    }\n",
       "\n",
       "    .dataframe thead th {\n",
       "        text-align: right;\n",
       "    }\n",
       "</style>\n",
       "<table border=\"1\" class=\"dataframe\">\n",
       "  <thead>\n",
       "    <tr style=\"text-align: right;\">\n",
       "      <th></th>\n",
       "      <th>MedInc</th>\n",
       "      <th>HouseAge</th>\n",
       "      <th>AveRooms</th>\n",
       "      <th>AveBedrms</th>\n",
       "      <th>Population</th>\n",
       "      <th>AveOccup</th>\n",
       "      <th>Latitude</th>\n",
       "      <th>Longitude</th>\n",
       "      <th>MedHouseVal</th>\n",
       "    </tr>\n",
       "  </thead>\n",
       "  <tbody>\n",
       "    <tr>\n",
       "      <th>0</th>\n",
       "      <td>8.3252</td>\n",
       "      <td>41.0</td>\n",
       "      <td>6.984127</td>\n",
       "      <td>1.023810</td>\n",
       "      <td>322.0</td>\n",
       "      <td>2.555556</td>\n",
       "      <td>37.88</td>\n",
       "      <td>-122.23</td>\n",
       "      <td>4.526</td>\n",
       "    </tr>\n",
       "    <tr>\n",
       "      <th>1</th>\n",
       "      <td>8.3014</td>\n",
       "      <td>21.0</td>\n",
       "      <td>6.238137</td>\n",
       "      <td>0.971880</td>\n",
       "      <td>2401.0</td>\n",
       "      <td>2.109842</td>\n",
       "      <td>37.86</td>\n",
       "      <td>-122.22</td>\n",
       "      <td>3.585</td>\n",
       "    </tr>\n",
       "    <tr>\n",
       "      <th>2</th>\n",
       "      <td>7.2574</td>\n",
       "      <td>52.0</td>\n",
       "      <td>8.288136</td>\n",
       "      <td>1.073446</td>\n",
       "      <td>496.0</td>\n",
       "      <td>2.802260</td>\n",
       "      <td>37.85</td>\n",
       "      <td>-122.24</td>\n",
       "      <td>3.521</td>\n",
       "    </tr>\n",
       "  </tbody>\n",
       "</table>\n",
       "</div>"
      ],
      "text/plain": [
       "   MedInc  HouseAge  AveRooms  AveBedrms  Population  AveOccup  Latitude  \\\n",
       "0  8.3252      41.0  6.984127   1.023810       322.0  2.555556     37.88   \n",
       "1  8.3014      21.0  6.238137   0.971880      2401.0  2.109842     37.86   \n",
       "2  7.2574      52.0  8.288136   1.073446       496.0  2.802260     37.85   \n",
       "\n",
       "   Longitude  MedHouseVal  \n",
       "0    -122.23        4.526  \n",
       "1    -122.22        3.585  \n",
       "2    -122.24        3.521  "
      ]
     },
     "execution_count": 171,
     "metadata": {},
     "output_type": "execute_result"
    }
   ],
   "source": [
    "from sklearn.datasets import fetch_california_housing\n",
    "ca=fetch_california_housing(as_frame=True).frame\n",
    "ca.head(3)"
   ]
  },
  {
   "cell_type": "markdown",
   "metadata": {},
   "source": [
    "Check the shape to see how many observations and features you'll be dealing with:"
   ]
  },
  {
   "cell_type": "code",
   "execution_count": 172,
   "metadata": {
    "colab": {
     "base_uri": "https://localhost:8080/"
    },
    "executionInfo": {
     "elapsed": 6,
     "status": "ok",
     "timestamp": 1696971169763,
     "user": {
      "displayName": "David Bachman",
      "userId": "02952839939203243924"
     },
     "user_tz": 420
    },
    "id": "3DGAd-ZySjd1",
    "outputId": "58c76cf6-70e3-4d98-a964-d62a7598f48f",
    "scrolled": true
   },
   "outputs": [
    {
     "data": {
      "text/plain": [
       "(20640, 9)"
      ]
     },
     "execution_count": 172,
     "metadata": {},
     "output_type": "execute_result"
    }
   ],
   "source": [
    "ca.shape"
   ]
  },
  {
   "cell_type": "markdown",
   "metadata": {
    "id": "7AcG3J8oE04l"
   },
   "source": [
    "Our goal is to find a model which predicts the MedHouseVal variable as accurately as possible, using as few of the other features as possible. \n",
    "\n",
    "To start, we'll create a feature matrix X containing all of the columns besides MedHouseVal, and a target vector y containing the entries in MedHouseVal."
   ]
  },
  {
   "cell_type": "code",
   "execution_count": 173,
   "metadata": {
    "executionInfo": {
     "elapsed": 241,
     "status": "ok",
     "timestamp": 1696971170000,
     "user": {
      "displayName": "David Bachman",
      "userId": "02952839939203243924"
     },
     "user_tz": 420
    },
    "id": "cwg98MHTFbFP"
   },
   "outputs": [],
   "source": [
    "X=np.array(ca.loc[:,'MedInc':'Longitude'])\n",
    "y=np.array(ca['MedHouseVal'])"
   ]
  },
  {
   "cell_type": "markdown",
   "metadata": {
    "id": "i3iclgTlbxPu"
   },
   "source": [
    "Now, do the following:\n",
    "1. 80/20 Train-Test split.\n",
    "2. Scale the training and testing feature matrices appropriately.\n",
    "3. Fit a linear model using SGD on the train data with 1000 epochs, batch sizes of 5000, a learning rate of 0.01, and 0.001 of L1 regularization.\n",
    "4. List the coefficients of your model.\n",
    "5. Calculate the MSE on the test data."
   ]
  },
  {
   "cell_type": "code",
   "execution_count": 174,
   "metadata": {
    "executionInfo": {
     "elapsed": 4,
     "status": "ok",
     "timestamp": 1696971170000,
     "user": {
      "displayName": "David Bachman",
      "userId": "02952839939203243924"
     },
     "user_tz": 420
    },
    "id": "CoAHEbODyoQi"
   },
   "outputs": [],
   "source": [
    "X_train,X_test,y_train,y_test= train_test_split(X, y, test_size=.20)"
   ]
  },
  {
   "cell_type": "code",
   "execution_count": 175,
   "metadata": {
    "executionInfo": {
     "elapsed": 3,
     "status": "ok",
     "timestamp": 1696971170000,
     "user": {
      "displayName": "David Bachman",
      "userId": "02952839939203243924"
     },
     "user_tz": 420
    },
    "id": "VcdVcpRxyzgo"
   },
   "outputs": [],
   "source": [
    "#Your Code Here\n",
    "scaler = StandardScaler()\n",
    "scaler.fit(X_train)\n",
    "X_train_scaled=scaler.transform(X_train)\n",
    "X_test_scaled=scaler.transform(X_test)"
   ]
  },
  {
   "cell_type": "code",
   "execution_count": 176,
   "metadata": {
    "executionInfo": {
     "elapsed": 8255,
     "status": "ok",
     "timestamp": 1696971178252,
     "user": {
      "displayName": "David Bachman",
      "userId": "02952839939203243924"
     },
     "user_tz": 420
    },
    "id": "2OzigCJ0SgxL"
   },
   "outputs": [],
   "source": [
    "ca_mod=SGDRegressor(learning_rate=0.01, max_iter=1000, batch_size=5000, penalty='l1', alpha=.001)\n",
    "ca_mod.fit(X_train_scaled, y_train)"
   ]
  },
  {
   "cell_type": "code",
   "execution_count": 177,
   "metadata": {
    "colab": {
     "base_uri": "https://localhost:8080/"
    },
    "executionInfo": {
     "elapsed": 263,
     "status": "ok",
     "timestamp": 1696971178510,
     "user": {
      "displayName": "David Bachman",
      "userId": "02952839939203243924"
     },
     "user_tz": 420
    },
    "id": "1NUE44bwTO4g",
    "outputId": "b562f0fc-248b-429d-eb2b-c68839bf86d2",
    "scrolled": true
   },
   "outputs": [
    {
     "data": {
      "text/plain": [
       "array([ 7.06785329e-01,  1.10120785e-01, -4.37867112e-04, -2.66352031e-05,\n",
       "       -5.74329533e-04,  7.80326965e-04, -1.20208854e-02, -1.06213586e-03])"
      ]
     },
     "execution_count": 177,
     "metadata": {},
     "output_type": "execute_result"
    }
   ],
   "source": [
    "ca_mod_coefficients= ca_mod.coef\n",
    "ca_mod_coefficients"
   ]
  },
  {
   "cell_type": "code",
   "execution_count": 178,
   "metadata": {},
   "outputs": [
    {
     "data": {
      "text/plain": [
       "(4,)"
      ]
     },
     "execution_count": 178,
     "metadata": {},
     "output_type": "execute_result"
    }
   ],
   "source": [
    "ytest.shape"
   ]
  },
  {
   "cell_type": "code",
   "execution_count": 179,
   "metadata": {},
   "outputs": [
    {
     "data": {
      "text/plain": [
       "(4128,)"
      ]
     },
     "execution_count": 179,
     "metadata": {},
     "output_type": "execute_result"
    }
   ],
   "source": [
    "preds = ca_mod.predict(X_test_scaled)\n",
    "preds.shape"
   ]
  },
  {
   "cell_type": "code",
   "execution_count": 180,
   "metadata": {},
   "outputs": [
    {
     "data": {
      "text/plain": [
       "(4,)"
      ]
     },
     "execution_count": 180,
     "metadata": {},
     "output_type": "execute_result"
    }
   ],
   "source": [
    "ytest.shape"
   ]
  },
  {
   "cell_type": "code",
   "execution_count": 181,
   "metadata": {
    "colab": {
     "base_uri": "https://localhost:8080/"
    },
    "executionInfo": {
     "elapsed": 11,
     "status": "ok",
     "timestamp": 1696971178511,
     "user": {
      "displayName": "David Bachman",
      "userId": "02952839939203243924"
     },
     "user_tz": 420
    },
    "id": "siyJo_aolUD-",
    "outputId": "66351e33-2d0b-4830-cd17-8f63bec547be"
   },
   "outputs": [
    {
     "data": {
      "text/plain": [
       "0.6843395918555473"
      ]
     },
     "execution_count": 181,
     "metadata": {},
     "output_type": "execute_result"
    }
   ],
   "source": [
    "ca_mod_mse= ca_mod.mse(X_test_scaled, y_test)\n",
    "ca_mod_mse"
   ]
  },
  {
   "cell_type": "markdown",
   "metadata": {},
   "source": [
    "Now, do the following:\n",
    "1. Identify the two smallest coefficients of the model you created above. \n",
    "2. Create new feature matrices X_train_small and X_test_small from X_train_scaled and X_test_scaled using only those columns corresponding to the two coefficients that have the largest absolute value.\n",
    "3. Create a new SGD model, with the same parameters as the previous one, but fit to X_train_small and y_train.\n",
    "4. Check the MSE of your new model and compare it to the MSE of the previous one."
   ]
  },
  {
   "cell_type": "code",
   "execution_count": 182,
   "metadata": {
    "colab": {
     "base_uri": "https://localhost:8080/"
    },
    "executionInfo": {
     "elapsed": 175,
     "status": "ok",
     "timestamp": 1696971178680,
     "user": {
      "displayName": "David Bachman",
      "userId": "02952839939203243924"
     },
     "user_tz": 420
    },
    "id": "nPM9w9x8ljZ0",
    "outputId": "4963e9d4-79cf-4f64-baa5-fde7860dd786"
   },
   "outputs": [],
   "source": [
    "\n",
    "# new feaeture matrix with only the largest abs coeffients\n",
    "\n",
    "least_two_idx = np.argsort(np.abs(ca_mod_coefficients))[-2:]\n",
    "X_test_small= X_test_scaled[:, least_two_idx]\n",
    "X_train_small= X_train_scaled[:, least_two_idx]"
   ]
  },
  {
   "cell_type": "code",
   "execution_count": 183,
   "metadata": {},
   "outputs": [
    {
     "data": {
      "text/plain": [
       "0.6867746099456248"
      ]
     },
     "execution_count": 183,
     "metadata": {},
     "output_type": "execute_result"
    }
   ],
   "source": [
    "ca_mod_small= SGDRegressor(learning_rate=0.01, max_iter=1000, batch_size=5000, penalty='l1', alpha=.001)\n",
    "ca_mod_small.fit(X_train_small, y_train)\n",
    "ca_mod_small_mse= ca_mod_small.mse(X_test_small, y_test)\n",
    "ca_mod_small_mse"
   ]
  },
  {
   "cell_type": "code",
   "execution_count": null,
   "metadata": {},
   "outputs": [],
   "source": []
  }
 ],
 "metadata": {
  "colab": {
   "authorship_tag": "ABX9TyPDkxT3uQ/u7jubHEHoT0b0",
   "provenance": []
  },
  "gpuClass": "standard",
  "kernelspec": {
   "display_name": "base",
   "language": "python",
   "name": "python3"
  },
  "language_info": {
   "codemirror_mode": {
    "name": "ipython",
    "version": 3
   },
   "file_extension": ".py",
   "mimetype": "text/x-python",
   "name": "python",
   "nbconvert_exporter": "python",
   "pygments_lexer": "ipython3",
   "version": "3.12.7"
  }
 },
 "nbformat": 4,
 "nbformat_minor": 4
}
