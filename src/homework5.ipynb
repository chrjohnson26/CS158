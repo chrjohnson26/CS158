{
 "cells": [
  {
   "cell_type": "markdown",
   "id": "23e9cdf0",
   "metadata": {
    "id": "23e9cdf0"
   },
   "source": [
    "**Homework 5**"
   ]
  },
  {
   "cell_type": "code",
   "execution_count": 1,
   "id": "cfe1c3ef",
   "metadata": {
    "id": "cfe1c3ef"
   },
   "outputs": [],
   "source": [
    "import numpy as np\n",
    "import matplotlib.pyplot as plt\n",
    "from sklearn.datasets import load_wine\n",
    "from sklearn.model_selection import train_test_split\n",
    "from sklearn.tree import DecisionTreeClassifier"
   ]
  },
  {
   "cell_type": "markdown",
   "id": "4c73f4a0",
   "metadata": {
    "id": "4c73f4a0"
   },
   "source": [
    "We'll continue working with the wine dataset:"
   ]
  },
  {
   "cell_type": "code",
   "execution_count": 2,
   "id": "8b1189e2",
   "metadata": {
    "id": "8b1189e2"
   },
   "outputs": [],
   "source": [
    "wine=load_wine()\n",
    "X=wine.data\n",
    "y=wine.target"
   ]
  },
  {
   "cell_type": "markdown",
   "id": "bd54f70d",
   "metadata": {
    "id": "bd54f70d"
   },
   "source": [
    "As usual, we'll start with a train-test split:"
   ]
  },
  {
   "cell_type": "code",
   "execution_count": 3,
   "id": "c3c54098",
   "metadata": {
    "id": "c3c54098"
   },
   "outputs": [],
   "source": [
    "train_data, test_data, train_target, test_target = train_test_split(\n",
    "    X, y, test_size=0.2, random_state=6)"
   ]
  },
  {
   "cell_type": "markdown",
   "id": "bda4a564",
   "metadata": {
    "id": "bda4a564"
   },
   "source": [
    "In this assignment, you'll build a Random Forest classifier, using Decision Trees. Rather than importing your DecisionTreeClassifier class from the previous assignment, I've imported such a class from sklearn in the first code cell above. It works ALMOST identically. There are two differences:\n",
    "1. To instantiate the class for trees with a max_depth of 5, you have to explicitly say:\n",
    "\n",
    "`tree=DecisionTreeClassifier(max_depth=5)`\n",
    "\n",
    "rather than just:\n",
    "\n",
    "`tree=DecisionTreeClassifier(5)`\n",
    "\n",
    "2. To make predictions for each row of a dataset, you can call\n",
    "\n",
    "`tree.predict(X)`\n",
    "\n",
    "However, to make predictions for a single data point x (e.g. x=X[0,:]), you'll have to promote it to a 2D array. One way to do this is\n",
    "\n",
    "`tree.predict(x[np.newaxis,:)`\n",
    "\n",
    "\n",
    "\n"
   ]
  },
  {
   "cell_type": "markdown",
   "id": "f1a57dca",
   "metadata": {
    "id": "f1a57dca"
   },
   "source": [
    "Complete the code below to create a Random Forest Classifier. As before, we wrap this in a python class where the `__init__` function just records hyperparameters (in this case `max_depth` and `n_estimators`), the `fit` method is what creates the model from training data, and the `predict` method is what generates a predicition for an unknown data point."
   ]
  },
  {
   "cell_type": "code",
   "execution_count": 537,
   "id": "8e11cd13",
   "metadata": {
    "id": "8e11cd13"
   },
   "outputs": [],
   "source": [
    "class RandomForestClassifier():\n",
    "    def __init__(self,max_depth,n_estimators):\n",
    "        self.max_depth=max_depth\n",
    "        self.n_estimators=n_estimators\n",
    "\n",
    "    def fit(self,X,y):\n",
    "        self.trees=[] #A list of (tree,features) tuples\n",
    "        # print(y.shape)\n",
    "        for i in range(self.n_estimators):\n",
    "            rows,cols=X.shape\n",
    "            np.random.seed(i) #only for autograding purposes!!\n",
    "            samples=np.random.choice(range(rows),rows,replace=True)     #`Samples` are randomly selected row numbers (with replacement)\n",
    "            features=np.random.choice(range(cols),int(np.sqrt(cols)),replace=False)     #`features` are randomly selected column numbers\n",
    "            tree=DecisionTreeClassifier(max_depth=self.max_depth)\n",
    "\n",
    "            # Formating the X and y for the current iteration\n",
    "            subset_X = X[samples]  # subset of X data\n",
    "            subset_X = subset_X[:, features]\n",
    "            subset_y = y[samples] \n",
    "            \n",
    "            tree.fit(subset_X, subset_y) # constructing tree \n",
    "            self.trees.append((tree,features))\n",
    "\n",
    "    def predict(self,x):\n",
    "        preds=[] #preds will contain a prediction for each tree in forest\n",
    "\n",
    "        for i in range(self.n_estimators):\n",
    "            curFeature = self.trees[i][1]\n",
    "            curTree = self.trees[i][0]\n",
    "            # print(\"X\")\n",
    "            # print(x)\n",
    "            # print(\"curf\")\n",
    "            # print(curFeature)\n",
    "            curx = x[curFeature]        # formatting x\n",
    "            curPrediction = curTree.predict(curx[np.newaxis,:])[0]  # Gets prediction for the current tree from the forest\n",
    "            preds.append(curPrediction)\n",
    "\n",
    "        return np.argmax(np.bincount(preds)) # majority vote of the predictions\n",
    "\n"
   ]
  },
  {
   "cell_type": "markdown",
   "id": "50f80266",
   "metadata": {
    "id": "50f80266"
   },
   "source": [
    "Now you are ready to create a Random Forest, based on the training data. Instantiate a Forest of 100 trees, each with a maximum depth of 5."
   ]
  },
  {
   "cell_type": "code",
   "execution_count": 538,
   "id": "a6ed2faf",
   "metadata": {
    "id": "a6ed2faf"
   },
   "outputs": [],
   "source": [
    "forest= RandomForestClassifier(max_depth=5, n_estimators=100)"
   ]
  },
  {
   "cell_type": "markdown",
   "id": "04c91935",
   "metadata": {
    "id": "04c91935"
   },
   "source": [
    "Fit it to the training data and training target:"
   ]
  },
  {
   "cell_type": "code",
   "execution_count": 539,
   "id": "2a1346e3",
   "metadata": {
    "id": "2a1346e3"
   },
   "outputs": [],
   "source": [
    "forest.fit(train_data, train_target) # fit the model to the data"
   ]
  },
  {
   "cell_type": "markdown",
   "id": "33242ebc",
   "metadata": {
    "id": "33242ebc"
   },
   "source": [
    "Let's test your classifier on one point in the test set:"
   ]
  },
  {
   "cell_type": "code",
   "execution_count": 540,
   "id": "-be8nkGH1v0Q",
   "metadata": {
    "colab": {
     "base_uri": "https://localhost:8080/"
    },
    "executionInfo": {
     "elapsed": 230,
     "status": "ok",
     "timestamp": 1738804775342,
     "user": {
      "displayName": "David Bachman",
      "userId": "02952839939203243924"
     },
     "user_tz": 480
    },
    "id": "-be8nkGH1v0Q",
    "outputId": "6865e3b8-4e27-4b36-a898-8e381b5681ec"
   },
   "outputs": [
    {
     "data": {
      "text/plain": [
       "0"
      ]
     },
     "execution_count": 540,
     "metadata": {},
     "output_type": "execute_result"
    }
   ],
   "source": [
    "forest.predict(test_data[30])"
   ]
  },
  {
   "cell_type": "markdown",
   "id": "613925c1",
   "metadata": {
    "id": "613925c1"
   },
   "source": [
    "Compare your answer to the actual label. Did your classifier get it right?"
   ]
  },
  {
   "cell_type": "code",
   "execution_count": 541,
   "id": "66aa0f64",
   "metadata": {
    "colab": {
     "base_uri": "https://localhost:8080/"
    },
    "executionInfo": {
     "elapsed": 9,
     "status": "ok",
     "timestamp": 1738804060455,
     "user": {
      "displayName": "David Bachman",
      "userId": "02952839939203243924"
     },
     "user_tz": 480
    },
    "id": "66aa0f64",
    "outputId": "3a558ad4-7606-4977-e41f-ebe4d88dfa4c"
   },
   "outputs": [
    {
     "data": {
      "text/plain": [
       "0"
      ]
     },
     "execution_count": 541,
     "metadata": {},
     "output_type": "execute_result"
    }
   ],
   "source": [
    "test_target[30]"
   ]
  },
  {
   "cell_type": "code",
   "execution_count": 542,
   "id": "8ee1ba2d",
   "metadata": {},
   "outputs": [
    {
     "data": {
      "text/plain": [
       "0"
      ]
     },
     "execution_count": 542,
     "metadata": {},
     "output_type": "execute_result"
    }
   ],
   "source": [
    "forest.predict(test_data[0])\n"
   ]
  },
  {
   "cell_type": "code",
   "execution_count": 543,
   "id": "31d81647",
   "metadata": {},
   "outputs": [
    {
     "data": {
      "text/plain": [
       "array([ True,  True,  True,  True,  True,  True,  True,  True,  True,\n",
       "        True,  True,  True,  True,  True,  True,  True,  True,  True,\n",
       "        True,  True,  True,  True,  True,  True,  True,  True,  True,\n",
       "        True,  True,  True,  True,  True,  True,  True,  True,  True])"
      ]
     },
     "execution_count": 543,
     "metadata": {},
     "output_type": "execute_result"
    }
   ],
   "source": [
    "test_target==np.apply_along_axis(lambda x:forest.predict(x),1,test_data)"
   ]
  },
  {
   "cell_type": "markdown",
   "id": "a30acd34",
   "metadata": {
    "id": "a30acd34"
   },
   "source": [
    "Now we'll check the accuracy:"
   ]
  },
  {
   "cell_type": "code",
   "execution_count": 544,
   "id": "847781b8",
   "metadata": {
    "colab": {
     "base_uri": "https://localhost:8080/"
    },
    "executionInfo": {
     "elapsed": 815,
     "status": "ok",
     "timestamp": 1738804803357,
     "user": {
      "displayName": "David Bachman",
      "userId": "02952839939203243924"
     },
     "user_tz": 480
    },
    "id": "847781b8",
    "outputId": "18808882-b517-4889-b5f6-6a67338cf120"
   },
   "outputs": [
    {
     "data": {
      "text/plain": [
       "1.0"
      ]
     },
     "execution_count": 544,
     "metadata": {},
     "output_type": "execute_result"
    }
   ],
   "source": [
    "accuracy=(test_target==np.apply_along_axis(lambda x:forest.predict(x),1,test_data)).sum()/len(test_target)\n",
    "accuracy"
   ]
  },
  {
   "cell_type": "markdown",
   "id": "9a9e2e08",
   "metadata": {
    "id": "9a9e2e08"
   },
   "source": [
    "How does that compare to the accuracy of a single Decision Tree, found in the prevous assignment?"
   ]
  }
 ],
 "metadata": {
  "colab": {
   "provenance": []
  },
  "kernelspec": {
   "display_name": "base",
   "language": "python",
   "name": "python3"
  },
  "language_info": {
   "codemirror_mode": {
    "name": "ipython",
    "version": 3
   },
   "file_extension": ".py",
   "mimetype": "text/x-python",
   "name": "python",
   "nbconvert_exporter": "python",
   "pygments_lexer": "ipython3",
   "version": "3.12.7"
  }
 },
 "nbformat": 4,
 "nbformat_minor": 5
}
