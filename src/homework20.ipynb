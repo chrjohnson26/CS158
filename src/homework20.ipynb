{
 "cells": [
  {
   "cell_type": "markdown",
   "metadata": {
    "id": "aGhBELjhF4PM"
   },
   "source": [
    "**Homework 20**"
   ]
  },
  {
   "cell_type": "markdown",
   "metadata": {
    "id": "FL1p_4sFWAmy"
   },
   "source": [
    "In the next assignment you will create a Convolutional Neural Network to do facial recognition. This will use a large dataset of face photos, which we'll explore here. As this is a very large dataset, and may take a while to load. Once it is complete we will just look at a subset, consisting of people for whom there are at least 70 photos."
   ]
  },
  {
   "cell_type": "code",
   "execution_count": 49,
   "metadata": {
    "id": "S-AVC0Qq4uJb"
   },
   "outputs": [
    {
     "name": "stdout",
     "output_type": "stream",
     "text": [
      "Ariel Sharon\n",
      "Colin Powell\n",
      "Donald Rumsfeld\n",
      "George W Bush\n",
      "Gerhard Schroeder\n",
      "Hugo Chavez\n",
      "Tony Blair\n"
     ]
    },
    {
     "data": {
      "text/plain": [
       "(1288, 50, 37)"
      ]
     },
     "execution_count": 49,
     "metadata": {},
     "output_type": "execute_result"
    }
   ],
   "source": [
    "import numpy as np\n",
    "import matplotlib.pyplot as plt\n",
    "from sklearn.model_selection import train_test_split\n",
    "\n",
    "\n",
    "from sklearn.datasets import fetch_lfw_people\n",
    "lfw_people = fetch_lfw_people(min_faces_per_person=70, resize=0.4)\n",
    "faces=lfw_people.images\n",
    "names=lfw_people.target_names\n",
    "target=lfw_people.target\n",
    "\n",
    "for name in names:\n",
    "  print(name)\n",
    "\n",
    "faces.shape"
   ]
  },
  {
   "cell_type": "markdown",
   "metadata": {
    "id": "E9wyegRFXWjD"
   },
   "source": [
    "You see there are a total of 1288 images, each is 50-by-37 pixels, representing seven people. Let's take a look at one:"
   ]
  },
  {
   "cell_type": "code",
   "execution_count": 50,
   "metadata": {
    "id": "I_Q1oTX08CPv"
   },
   "outputs": [
    {
     "data": {
      "text/plain": [
       "<matplotlib.image.AxesImage at 0x30681e5d0>"
      ]
     },
     "execution_count": 50,
     "metadata": {},
     "output_type": "execute_result"
    },
    {
     "data": {
      "image/png": "[encoded data removed]",
      "text/plain": [
       "<Figure size 640x480 with 1 Axes>"
      ]
     },
     "metadata": {},
     "output_type": "display_data"
    }
   ],
   "source": [
    "plt.imshow(faces[11],cmap='gray')"
   ]
  },
  {
   "cell_type": "code",
   "execution_count": 51,
   "metadata": {
    "id": "NMi2I0j68J1S"
   },
   "outputs": [
    {
     "data": {
      "text/plain": [
       "2"
      ]
     },
     "execution_count": 51,
     "metadata": {},
     "output_type": "execute_result"
    }
   ],
   "source": [
    "target[11]"
   ]
  },
  {
   "cell_type": "markdown",
   "metadata": {
    "id": "EUJ-7TUTYEyt"
   },
   "source": [
    "You see the target for image 10 is the number 3. Notice that President George W. Bush (the man in the photo) is the 3rd name on the list above (counting from 0). For convenience, we will name this image `bush`:"
   ]
  },
  {
   "cell_type": "code",
   "execution_count": 52,
   "metadata": {
    "id": "T059jL9SoHyf"
   },
   "outputs": [],
   "source": [
    "bush=faces[10]"
   ]
  },
  {
   "cell_type": "markdown",
   "metadata": {
    "id": "kZfMETjUrdvE"
   },
   "source": [
    "To create a CNN, you must understand two operations: convolution and pooling. Write a `Conv` function that takes two arguments, image and filter. Both will be 2-dimensional numpy arrays. Your function should return the convolution of the image array by the filter array."
   ]
  },
  {
   "cell_type": "code",
   "execution_count": 53,
   "metadata": {
    "id": "tlGn4rY1nWxZ"
   },
   "outputs": [],
   "source": [
    "def Conv(image,kernel):\n",
    "    # print(\"image\"); print(image)\n",
    "    # print(kernel)\n",
    "    # print(image.shape)\n",
    "    # print(kernel.shape)\n",
    "    cols = image.shape[1] - kernel.shape[1] \n",
    "    rows = image.shape[0] - kernel.shape[0]\n",
    "    kershape = kernel.shape\n",
    "    conv = np.zeros((rows,cols))\n",
    "    for row in range(rows):\n",
    "        for col in range(cols):\n",
    "            cur_im = image[row: kershape[0]+row, col: kershape[1] + col]\n",
    "            conv[row,col] = np.sum(cur_im*kernel)\n",
    "\n",
    "    return conv"
   ]
  },
  {
   "cell_type": "markdown",
   "metadata": {
    "id": "6MK9xwQksObc"
   },
   "source": [
    "To see the effect of your code, we define a 7-by-7 kernel:"
   ]
  },
  {
   "cell_type": "code",
   "execution_count": 54,
   "metadata": {
    "id": "RWuL8aNusa1K"
   },
   "outputs": [
    {
     "data": {
      "text/plain": [
       "array([[0., 0., 0., 0., 0., 0., 0.],\n",
       "       [0., 0., 0., 0., 0., 0., 0.],\n",
       "       [0., 0., 0., 0., 0., 0., 0.],\n",
       "       [1., 1., 1., 1., 1., 1., 1.],\n",
       "       [0., 0., 0., 0., 0., 0., 0.],\n",
       "       [0., 0., 0., 0., 0., 0., 0.],\n",
       "       [0., 0., 0., 0., 0., 0., 0.]])"
      ]
     },
     "execution_count": 54,
     "metadata": {},
     "output_type": "execute_result"
    }
   ],
   "source": [
    "kernel=np.zeros((7,7))\n",
    "kernel[3,:]=1\n",
    "kernel"
   ]
  },
  {
   "cell_type": "markdown",
   "metadata": {
    "id": "p9BsL-fGsgnq"
   },
   "source": [
    "We now apply this filter to the image of George Bush."
   ]
  },
  {
   "cell_type": "code",
   "execution_count": 55,
   "metadata": {},
   "outputs": [
    {
     "data": {
      "text/plain": [
       "array([[3.50980398, 3.63790858, 3.69934651, ..., 3.69019616, 3.50326803,\n",
       "        3.36732036],\n",
       "       [3.51241845, 3.5307191 , 3.52549034, ..., 3.52941182, 3.44444454,\n",
       "        3.3712419 ],\n",
       "       [3.52941191, 3.50980404, 3.49150339, ..., 3.44183016, 3.41176477,\n",
       "        3.39477134],\n",
       "       ...,\n",
       "       [1.53071903, 1.87320268, 2.18562098, ..., 1.2797386 , 0.96339872,\n",
       "        0.78039217],\n",
       "       [1.40392159, 1.75816998, 2.0797386 , ..., 1.03398695, 0.78431374,\n",
       "        0.68366014],\n",
       "       [1.37254905, 1.71503273, 2.07320269, ..., 0.80130721, 0.64313727,\n",
       "        0.6026144 ]])"
      ]
     },
     "execution_count": 55,
     "metadata": {},
     "output_type": "execute_result"
    }
   ],
   "source": [
    "Conv(bush, kernel)"
   ]
  },
  {
   "cell_type": "code",
   "execution_count": 56,
   "metadata": {
    "id": "GpZVTEhzsogJ"
   },
   "outputs": [
    {
     "data": {
      "text/plain": [
       "<matplotlib.image.AxesImage at 0x306812cc0>"
      ]
     },
     "execution_count": 56,
     "metadata": {},
     "output_type": "execute_result"
    },
    {
     "data": {
      "image/png": "[encoded data removed]",
      "text/plain": [
       "<Figure size 640x480 with 1 Axes>"
      ]
     },
     "metadata": {},
     "output_type": "display_data"
    }
   ],
   "source": [
    "plt.imshow(Conv(bush,kernel),cmap='gray')"
   ]
  },
  {
   "cell_type": "markdown",
   "metadata": {
    "id": "8fqcIBhBs1-4"
   },
   "source": [
    "You can see this kernel has the effect of horizontally smearing the image."
   ]
  },
  {
   "cell_type": "markdown",
   "metadata": {
    "id": "excTF5kfs8Ad"
   },
   "source": [
    "The next element of a CNN is a way to downsample the image to something of lower resolution. Implement a `MaxPool` function which takes an image and a tuple called \"pool_size\". If the pool_size is (n,m), then the function should output a lower resolution image where each n-by-m window of the original is replaced by a single pixel whose intensity is the maximum value in the window."
   ]
  },
  {
   "cell_type": "code",
   "execution_count": 64,
   "metadata": {
    "id": "cZSe9NbInbRQ"
   },
   "outputs": [],
   "source": [
    "def MaxPool(image, pool_size):\n",
    "    # Calculate output dimensions\n",
    "    rows = image.shape[0] // pool_size[0]\n",
    "    cols = image.shape[1] // pool_size[1]\n",
    "    \n",
    "    # Create output array\n",
    "    max_pool = np.zeros((rows, cols))\n",
    "    \n",
    "    # Iterate through each position in the output array\n",
    "    for row in range(rows):\n",
    "        for col in range(cols):\n",
    "            # Calculate corresponding region in input image\n",
    "            row_start = row * pool_size[0]\n",
    "            row_end = row_start + pool_size[0]\n",
    "            col_start = col * pool_size[1]\n",
    "            col_end = col_start + pool_size[1]\n",
    "            \n",
    "            # Extract region and find maximum\n",
    "            cur_im = image[row_start:row_end, col_start:col_end]\n",
    "            max_pool[row, col] = np.max(cur_im)\n",
    "    \n",
    "    return max_pool"
   ]
  },
  {
   "cell_type": "code",
   "execution_count": 65,
   "metadata": {},
   "outputs": [],
   "source": [
    "c = Conv(bush,kernel)\n",
    "mp = MaxPool(c, (2,2))"
   ]
  },
  {
   "cell_type": "code",
   "execution_count": 66,
   "metadata": {},
   "outputs": [
    {
     "data": {
      "text/plain": [
       "array([[0.3882353 , 0.3895425 ],\n",
       "       [0.37254903, 0.3895425 ]], dtype=float32)"
      ]
     },
     "execution_count": 66,
     "metadata": {},
     "output_type": "execute_result"
    }
   ],
   "source": [
    "row = 0; col = 0\n",
    "pool_size = (2,2)\n",
    "bush[row: pool_size[0] + row, col: pool_size[1] + col]"
   ]
  },
  {
   "cell_type": "markdown",
   "metadata": {
    "id": "UBfGiCTft5px"
   },
   "source": [
    "We can see the effect of this by applying it to the smeared image of Bush:"
   ]
  },
  {
   "cell_type": "code",
   "execution_count": 67,
   "metadata": {
    "id": "GG0Ha7Owt43A"
   },
   "outputs": [
    {
     "data": {
      "text/plain": [
       "<matplotlib.image.AxesImage at 0x16aa0cc50>"
      ]
     },
     "execution_count": 67,
     "metadata": {},
     "output_type": "execute_result"
    },
    {
     "data": {
      "image/png": "[encoded data removed]",
      "text/plain": [
       "<Figure size 640x480 with 1 Axes>"
      ]
     },
     "metadata": {},
     "output_type": "display_data"
    }
   ],
   "source": [
    "plt.imshow(MaxPool(Conv(bush,kernel),(2,2)),cmap='gray')"
   ]
  },
  {
   "cell_type": "markdown",
   "metadata": {
    "id": "1QRAFs6xuHqU"
   },
   "source": [
    "Most of the features are now gone, but the basic mouth shape is still there. Hence, this particular kernel, followed by a MaxPooling, may be good at picking out mouth shapes. A different kernel might be useful for picking out eye shapes, nose shapes, etc."
   ]
  }
 ],
 "metadata": {
  "accelerator": "GPU",
  "colab": {
   "authorship_tag": "ABX9TyPiryerWB58LBzunyYZDr0a",
   "provenance": []
  },
  "gpuClass": "standard",
  "kernelspec": {
   "display_name": "base",
   "language": "python",
   "name": "python3"
  },
  "language_info": {
   "codemirror_mode": {
    "name": "ipython",
    "version": 3
   },
   "file_extension": ".py",
   "mimetype": "text/x-python",
   "name": "python",
   "nbconvert_exporter": "python",
   "pygments_lexer": "ipython3",
   "version": "3.12.7"
  }
 },
 "nbformat": 4,
 "nbformat_minor": 0
}
