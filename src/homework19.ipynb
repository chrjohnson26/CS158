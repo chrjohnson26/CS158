{
 "cells": [
  {
   "cell_type": "markdown",
   "metadata": {
    "id": "WRhTLUOx2st_"
   },
   "source": [
    "**Homework 19.**"
   ]
  },
  {
   "cell_type": "markdown",
   "metadata": {
    "id": "BurGuj49aSwx"
   },
   "source": [
    "In this assignment you will train a Neural Network to recognize handwritten numbers. Begin by importing the older libraries we've used:"
   ]
  },
  {
   "cell_type": "code",
   "execution_count": 1,
   "metadata": {
    "executionInfo": {
     "elapsed": 10481,
     "status": "ok",
     "timestamp": 1743702351961,
     "user": {
      "displayName": "David Bachman",
      "userId": "02952839939203243924"
     },
     "user_tz": 420
    },
    "id": "45bpTYfU2p2h"
   },
   "outputs": [],
   "source": [
    "import numpy as np\n",
    "from matplotlib.pyplot import imshow\n",
    "from sklearn.model_selection import train_test_split"
   ]
  },
  {
   "cell_type": "markdown",
   "metadata": {
    "id": "pkZkXjUvagk1"
   },
   "source": [
    "Now import the dataset:"
   ]
  },
  {
   "cell_type": "code",
   "execution_count": 2,
   "metadata": {
    "colab": {
     "base_uri": "https://localhost:8080/"
    },
    "executionInfo": {
     "elapsed": 655,
     "status": "ok",
     "timestamp": 1743702360703,
     "user": {
      "displayName": "David Bachman",
      "userId": "02952839939203243924"
     },
     "user_tz": 420
    },
    "id": "pAkcpR6-8Btk",
    "outputId": "ccf76780-d768-4423-90b9-7ce801ac2a98"
   },
   "outputs": [
    {
     "data": {
      "text/plain": [
       "((1797, 64), (1797,))"
      ]
     },
     "execution_count": 2,
     "metadata": {},
     "output_type": "execute_result"
    }
   ],
   "source": [
    "#Import data and target:\n",
    "from sklearn.datasets import load_digits\n",
    "digits=load_digits()\n",
    "X=digits.data\n",
    "y=digits.target\n",
    "\n",
    "X.shape,y.shape"
   ]
  },
  {
   "cell_type": "markdown",
   "metadata": {
    "id": "lk1EbeY5am_K"
   },
   "source": [
    "You should see that there are 1797 observation in X, and each has 64 features. The features are the pixel values in an 8x8 image. For example, the pixel values for image 100 are given by:"
   ]
  },
  {
   "cell_type": "code",
   "execution_count": 3,
   "metadata": {
    "colab": {
     "base_uri": "https://localhost:8080/"
    },
    "executionInfo": {
     "elapsed": 38,
     "status": "ok",
     "timestamp": 1743702392848,
     "user": {
      "displayName": "David Bachman",
      "userId": "02952839939203243924"
     },
     "user_tz": 420
    },
    "id": "gSHE_-zEuV56",
    "outputId": "34459784-5882-490a-9211-587164b908f4"
   },
   "outputs": [
    {
     "data": {
      "text/plain": [
       "array([ 0.,  0.,  0.,  2., 13.,  0.,  0.,  0.,  0.,  0.,  0.,  8., 15.,\n",
       "        0.,  0.,  0.,  0.,  0.,  5., 16.,  5.,  2.,  0.,  0.,  0.,  0.,\n",
       "       15., 12.,  1., 16.,  4.,  0.,  0.,  4., 16.,  2.,  9., 16.,  8.,\n",
       "        0.,  0.,  0., 10., 14., 16., 16.,  4.,  0.,  0.,  0.,  0.,  0.,\n",
       "       13.,  8.,  0.,  0.,  0.,  0.,  0.,  0., 13.,  6.,  0.,  0.])"
      ]
     },
     "execution_count": 3,
     "metadata": {},
     "output_type": "execute_result"
    }
   ],
   "source": [
    "X[100,:]"
   ]
  },
  {
   "cell_type": "markdown",
   "metadata": {
    "id": "UkCy30gFa93K"
   },
   "source": [
    "We can see what this data represents by reshaping it into an array of shape (8,8) and visualizing with the imshow command from matplotlib.pyplot:"
   ]
  },
  {
   "cell_type": "code",
   "execution_count": 4,
   "metadata": {
    "colab": {
     "base_uri": "https://localhost:8080/",
     "height": 447
    },
    "executionInfo": {
     "elapsed": 11,
     "status": "ok",
     "timestamp": 1743702433281,
     "user": {
      "displayName": "David Bachman",
      "userId": "02952839939203243924"
     },
     "user_tz": 420
    },
    "id": "HfpgCt6CuVx6",
    "outputId": "c56b6c12-91d3-4241-a5ce-6232ae596c0c"
   },
   "outputs": [
    {
     "data": {
      "text/plain": [
       "<matplotlib.image.AxesImage at 0x12fb05280>"
      ]
     },
     "execution_count": 4,
     "metadata": {},
     "output_type": "execute_result"
    },
    {
     "data": {
      "image/png": "[encoded data removed]",
      "text/plain": [
       "<Figure size 640x480 with 1 Axes>"
      ]
     },
     "metadata": {},
     "output_type": "display_data"
    }
   ],
   "source": [
    "imshow(np.array(X[100,:]).reshape((8,8)),cmap='gray')"
   ]
  },
  {
   "cell_type": "markdown",
   "metadata": {
    "id": "xZqHIXnMbOC6"
   },
   "source": [
    "This is a (very pixelized) image of the numeral 4. We can confirm this by looking at the 100th value of the target vector y:"
   ]
  },
  {
   "cell_type": "code",
   "execution_count": 5,
   "metadata": {
    "colab": {
     "base_uri": "https://localhost:8080/"
    },
    "executionInfo": {
     "elapsed": 5,
     "status": "ok",
     "timestamp": 1743702478459,
     "user": {
      "displayName": "David Bachman",
      "userId": "02952839939203243924"
     },
     "user_tz": 420
    },
    "id": "9Xmmc0yhuVhC",
    "outputId": "270a3fec-62d7-4388-9889-ed7a9b046419"
   },
   "outputs": [
    {
     "data": {
      "text/plain": [
       "4"
      ]
     },
     "execution_count": 5,
     "metadata": {},
     "output_type": "execute_result"
    }
   ],
   "source": [
    "y[100]"
   ]
  },
  {
   "cell_type": "markdown",
   "metadata": {
    "id": "VppcBPA-bf8c"
   },
   "source": [
    "Our goal is to create and train a neural network that takes in pixel data and predicts the variable y, telling us what numeral the image represents. To this end, it will be helpful to normalize pixel values to the range (-1,1):"
   ]
  },
  {
   "cell_type": "code",
   "execution_count": 6,
   "metadata": {
    "executionInfo": {
     "elapsed": 5,
     "status": "ok",
     "timestamp": 1743702527720,
     "user": {
      "displayName": "David Bachman",
      "userId": "02952839939203243924"
     },
     "user_tz": 420
    },
    "id": "hFXm6Vk0b0tO"
   },
   "outputs": [],
   "source": [
    "X=(X-8)/8 #normalization--each pixel was in range 0-16"
   ]
  },
  {
   "cell_type": "code",
   "execution_count": 7,
   "metadata": {},
   "outputs": [
    {
     "data": {
      "text/plain": [
       "array([-1.   , -1.   , -1.   , -0.75 ,  0.625, -1.   , -1.   , -1.   ,\n",
       "       -1.   , -1.   , -1.   ,  0.   ,  0.875, -1.   , -1.   , -1.   ,\n",
       "       -1.   , -1.   , -0.375,  1.   , -0.375, -0.75 , -1.   , -1.   ,\n",
       "       -1.   , -1.   ,  0.875,  0.5  , -0.875,  1.   , -0.5  , -1.   ,\n",
       "       -1.   , -0.5  ,  1.   , -0.75 ,  0.125,  1.   ,  0.   , -1.   ,\n",
       "       -1.   , -1.   ,  0.25 ,  0.75 ,  1.   ,  1.   , -0.5  , -1.   ,\n",
       "       -1.   , -1.   , -1.   , -1.   ,  0.625,  0.   , -1.   , -1.   ,\n",
       "       -1.   , -1.   , -1.   , -1.   ,  0.625, -0.25 , -1.   , -1.   ])"
      ]
     },
     "execution_count": 7,
     "metadata": {},
     "output_type": "execute_result"
    }
   ],
   "source": [
    "X[100,:]"
   ]
  },
  {
   "cell_type": "markdown",
   "metadata": {
    "id": "IuYNNfB2b85M"
   },
   "source": [
    "We now do a train/test split. As usual, we'll train our model on the train set, and evaluate its performance on the test set."
   ]
  },
  {
   "cell_type": "code",
   "execution_count": 8,
   "metadata": {
    "executionInfo": {
     "elapsed": 39,
     "status": "ok",
     "timestamp": 1743702554620,
     "user": {
      "displayName": "David Bachman",
      "userId": "02952839939203243924"
     },
     "user_tz": 420
    },
    "id": "ra23N6J7yde3"
   },
   "outputs": [],
   "source": [
    "#Train/test split\n",
    "Xtrain,Xtest,ytrain,ytest=train_test_split(X,y,train_size=0.8)"
   ]
  },
  {
   "cell_type": "markdown",
   "metadata": {
    "id": "S_Ws6yFucJms"
   },
   "source": [
    "Next we import the necessary libraries from pytorch, and convert all data to pytorch tensors:"
   ]
  },
  {
   "cell_type": "code",
   "execution_count": 9,
   "metadata": {
    "executionInfo": {
     "elapsed": 5773,
     "status": "ok",
     "timestamp": 1743702600799,
     "user": {
      "displayName": "David Bachman",
      "userId": "02952839939203243924"
     },
     "user_tz": 420
    },
    "id": "wv-qpmtkvL3M"
   },
   "outputs": [],
   "source": [
    "import torch\n",
    "from torch import nn\n",
    "from torch.optim import Adam\n",
    "\n",
    "Xtrain=torch.tensor(Xtrain,dtype=torch.float32)\n",
    "Xtest=torch.tensor(Xtest,dtype=torch.float32)\n",
    "ytrain=torch.tensor(ytrain)\n",
    "ytest=torch.tensor(ytest)"
   ]
  },
  {
   "cell_type": "markdown",
   "metadata": {
    "id": "Nv-rlHXacTuP"
   },
   "source": [
    "Now, build a neural network. Your network should take in observations with 64 feaures, and generate an output of 10 numbers (one for each possible numeral that might be represented by the image). Use two hidden layers with 32 and 16 neurons, respectively. After each Linear layer, add a ReLU layer, Batch Normalization, and 10% dropout."
   ]
  },
  {
   "cell_type": "code",
   "execution_count": 28,
   "metadata": {
    "id": "8fslUzYtxJge"
   },
   "outputs": [],
   "source": [
    "#Build the network:\n",
    "digitsNN=nn.Sequential(\n",
    "    nn.Linear(64,32),\n",
    "    nn.ReLU(),\n",
    "    nn.BatchNorm1d(32),\n",
    "    nn.Dropout(p=0.1),\n",
    "    nn.Linear(32,16),\n",
    "    nn.ReLU(),\n",
    "    nn.BatchNorm1d(16),\n",
    "    nn.Dropout(p=0.1),\n",
    "    nn.Linear(16,10)\n",
    ")"
   ]
  },
  {
   "cell_type": "code",
   "execution_count": 29,
   "metadata": {},
   "outputs": [
    {
     "data": {
      "text/plain": [
       "<bound method Module.parameters of Sequential(\n",
       "  (0): Linear(in_features=64, out_features=32, bias=True)\n",
       "  (1): ReLU()\n",
       "  (2): BatchNorm1d(32, eps=1e-05, momentum=0.1, affine=True, track_running_stats=True)\n",
       "  (3): Dropout(p=0.1, inplace=False)\n",
       "  (4): Linear(in_features=32, out_features=16, bias=True)\n",
       "  (5): ReLU()\n",
       "  (6): BatchNorm1d(16, eps=1e-05, momentum=0.1, affine=True, track_running_stats=True)\n",
       "  (7): Dropout(p=0.1, inplace=False)\n",
       "  (8): Linear(in_features=16, out_features=10, bias=True)\n",
       ")>"
      ]
     },
     "execution_count": 29,
     "metadata": {},
     "output_type": "execute_result"
    }
   ],
   "source": [
    "digitsNN.parameters"
   ]
  },
  {
   "cell_type": "markdown",
   "metadata": {
    "id": "uQ_oubs3c_Ou"
   },
   "source": [
    "Instantiate an Adam optimizer to use with your model, with a learning rate of 0.01."
   ]
  },
  {
   "cell_type": "code",
   "execution_count": 30,
   "metadata": {
    "id": "vJ123AIkx4wj"
   },
   "outputs": [],
   "source": [
    "optimizer=Adam(digitsNN.parameters(), 0.01)"
   ]
  },
  {
   "cell_type": "markdown",
   "metadata": {
    "id": "NI7aZr3-dJeB"
   },
   "source": [
    "Write a training loop to train your model, using 1000 epochs of batch gradient descent, with batches of size 100."
   ]
  },
  {
   "cell_type": "code",
   "execution_count": 38,
   "metadata": {
    "id": "2NQw31SGu0C3"
   },
   "outputs": [
    {
     "name": "stdout",
     "output_type": "stream",
     "text": [
      "epoch: 0, loss: 0.9331995248794556\n",
      "epoch: 100, loss: 0.06032911688089371\n",
      "epoch: 200, loss: 0.0055732447654008865\n",
      "epoch: 300, loss: 0.09864939004182816\n",
      "epoch: 400, loss: 0.00040000007720664144\n",
      "epoch: 500, loss: 0.000490463396999985\n",
      "epoch: 600, loss: 0.183402419090271\n",
      "epoch: 700, loss: 0.07610994577407837\n",
      "epoch: 800, loss: 0.0002705623337533325\n",
      "epoch: 900, loss: 0.004486870486289263\n"
     ]
    }
   ],
   "source": [
    "n_epochs=1000\n",
    "N = Xtrain.shape[0]  # total number of observations in training data\n",
    "batch_size=100\n",
    "\n",
    "for epoch in range(n_epochs):\n",
    "  # Shuffle the indices\n",
    "  indices = torch.randperm(N)\n",
    "\n",
    "  # Create mini-batches\n",
    "  for i in range(0, N, batch_size):\n",
    "    batch_indices = indices[i:i+batch_size]\n",
    "    batch_X = Xtrain[batch_indices]\n",
    "    batch_y = ytrain[batch_indices]\n",
    "\n",
    "    optimizer.zero_grad() # zero the gradients out\n",
    "    predictions = digitsNN(batch_X) # predict on batch_X data\n",
    "    # print(batch_X.shape)\n",
    "    # print(predictions.shape); print(batch_y.shape)\n",
    "    CEloss = torch.nn.CrossEntropyLoss()(predictions, batch_y) # Calculate the loss\n",
    "    # CEloss=((predictions-batch_y)**2).mean() #This is the same!!\n",
    "    CEloss.backward() # Take gradient of the loss\n",
    "    optimizer.step() # Step in direction of the negative gradient towards minima\n",
    "\n",
    "  if epoch%100==0:\n",
    "    print(f\"epoch: {epoch}, loss: {CEloss.item()}\")"
   ]
  },
  {
   "cell_type": "markdown",
   "metadata": {
    "id": "7Fn0S3Sodatf"
   },
   "source": [
    "Next, report the accuracy of your model on the test set. Note the use of `with torch.no_grad()` here, because there is no longer a need to track gradients once our model is trained."
   ]
  },
  {
   "cell_type": "code",
   "execution_count": 56,
   "metadata": {
    "id": "RDcurwHbuz4z"
   },
   "outputs": [
    {
     "data": {
      "text/plain": [
       "tensor(96.3889)"
      ]
     },
     "execution_count": 56,
     "metadata": {},
     "output_type": "execute_result"
    }
   ],
   "source": [
    "with torch.no_grad():\n",
    "  y_pred=digitsNN(Xtest) #generate predictions for the test set.\n",
    "accuracy= (torch.sum(torch.argmax(y_pred,dim=1) == ytest) / ytest.shape[0])\n",
    "accuracy*100\n"
   ]
  },
  {
   "cell_type": "markdown",
   "metadata": {
    "id": "3TesVy7Bdxy3"
   },
   "source": [
    "Copy and paste this into homework19gradescope.ipynb, export that as a python file, and upload to gradescope."
   ]
  }
 ],
 "metadata": {
  "colab": {
   "authorship_tag": "ABX9TyNxFcYWIs7WidS5mIH+wL/J",
   "provenance": [
    {
     "file_id": "1RykR9AWdIvmZXusY8IFVw_Z8to1L-Uf_",
     "timestamp": 1648433498372
    }
   ]
  },
  "kernelspec": {
   "display_name": "base",
   "language": "python",
   "name": "python3"
  },
  "language_info": {
   "codemirror_mode": {
    "name": "ipython",
    "version": 3
   },
   "file_extension": ".py",
   "mimetype": "text/x-python",
   "name": "python",
   "nbconvert_exporter": "python",
   "pygments_lexer": "ipython3",
   "version": "3.12.7"
  }
 },
 "nbformat": 4,
 "nbformat_minor": 0
}
