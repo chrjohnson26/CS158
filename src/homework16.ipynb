{
 "cells": [
  {
   "cell_type": "markdown",
   "metadata": {
    "id": "WRhTLUOx2st_"
   },
   "source": [
    "**Homework 16**"
   ]
  },
  {
   "cell_type": "markdown",
   "metadata": {
    "id": "6yqXf1hfJZ9J"
   },
   "source": [
    "For this assignment, all you'll need is numpy:"
   ]
  },
  {
   "cell_type": "code",
   "execution_count": 62,
   "metadata": {
    "id": "BNcIbf6Wk-mT"
   },
   "outputs": [],
   "source": [
    "import numpy as np"
   ]
  },
  {
   "cell_type": "markdown",
   "metadata": {
    "id": "_3ONia8dlFcz"
   },
   "source": [
    "In this assignment, you'll be creating three classes: `Linear`, `ReLU`, and `Sequential`. The `Linear` and `ReLU` classes will define layers of a Neural Network. The `Sequential` class defines a particular network, given a list of layers.\n",
    "\n",
    "For example, consider the following code:\n",
    "```\n",
    "layer1=Linear(2,3)\n",
    "layer2=ReLU()\n",
    "layer3=Linear(3,1)\n",
    "network=Sequential([layer1,layer2,layer3])\n",
    "```\n",
    "\n",
    "Here, layer1 takes a feature matrix with 2 columns (features), and produces a matrix with the same number of rows and 3 columns by a simple linear function defined by 2 coefficients (the \"weights\" or \"kernel\") and 1 intercept (the \"bias\") . You should visualize this as two neurons feeding into 3 neurons. layer2 accepts the output of layer 1, and produces an output of similar size where all of the negative entries have been set to 0. This is considered an \"activation\" layer. Incluion of such a layer is what makes the network capable of modeling non-linear data. Finally, the last layer produces a single output for each observation.\n",
    "\n",
    "All three classes (Sequential, Linear and ReLU) should have a `__call__` method. If `X` is a feature matrix of shape (n,2), then running `network(X)` after the above code will call the `__call__` methods of each layer, and produce a matrix of shape (n,1).\n"
   ]
  },
  {
   "cell_type": "code",
   "execution_count": 63,
   "metadata": {
    "id": "YW9aKNRvlB1C"
   },
   "outputs": [],
   "source": [
    "class Linear():\n",
    "    '''Fully connected linear layer class'''\n",
    "    def __init__(self, input_size, output_size):\n",
    "        np.random.seed(1) #Don't use in practice! This is just to make sure we all get the same answers\n",
    "        self.kernel = np.random.randn(input_size, output_size) * np.sqrt(2.0 / input_size) #Standard initialization of weights\n",
    "        self.bias = np.zeros(output_size) #Standard initialization of intercept\n",
    "\n",
    "    def __call__(self,input):\n",
    "        print(\"input\", end=\" \"); print(input.shape)\n",
    "        print(\"ker\", end=\" \"); print(self.kernel.shape)\n",
    "        print(\"bias\", end=\" \"); print(self.bias.shape)\n",
    "        print(\"out\", end=\" \"); print((input@self.kernel + self.bias).shape)\n",
    "        return input @ self.kernel + self.bias"
   ]
  },
  {
   "cell_type": "code",
   "execution_count": 64,
   "metadata": {
    "id": "xSZPDFS53B1P"
   },
   "outputs": [],
   "source": [
    "class ReLU():\n",
    "    '''ReLU layer class'''\n",
    "    def __init__(self):\n",
    "        pass #No init function necessary\n",
    "\n",
    "    def __call__(self,input):\n",
    "        # print(input)\n",
    "        # return np.max(0., input)\n",
    "        b= input>0\n",
    "        # print(b)\n",
    "        return input *b"
   ]
  },
  {
   "cell_type": "code",
   "execution_count": 67,
   "metadata": {
    "id": "PeT7gh7FoIDl"
   },
   "outputs": [],
   "source": [
    "class Sequential():\n",
    "    def __init__(self,layerlist):\n",
    "        self.layerlist=layerlist\n",
    "        # print(layerlist)\n",
    "    def __call__(self,input):\n",
    "        for x in self.layerlist:\n",
    "            print(x)\n",
    "            input = x.__call__(input)\n",
    "        return input"
   ]
  },
  {
   "cell_type": "markdown",
   "metadata": {
    "id": "4nXhjg-5osf2"
   },
   "source": [
    "Now test your code. Run this code block. You should see a matrix of shape (15,1)."
   ]
  },
  {
   "cell_type": "code",
   "execution_count": 68,
   "metadata": {
    "id": "OOnzcgDKo7kc"
   },
   "outputs": [
    {
     "name": "stdout",
     "output_type": "stream",
     "text": [
      "<__main__.Linear object at 0x12ce11820>\n",
      "input (15, 2)\n",
      "ker (2, 3)\n",
      "bias (3,)\n",
      "out (15, 3)\n",
      "<__main__.ReLU object at 0x12cdfa840>\n",
      "<__main__.Linear object at 0x12cdfb7d0>\n",
      "input (15, 3)\n",
      "ker (3, 1)\n",
      "bias (1,)\n",
      "out (15, 1)\n"
     ]
    },
    {
     "data": {
      "text/plain": [
       "array([[ 1.30455791],\n",
       "       [ 1.06649095],\n",
       "       [ 1.19562841],\n",
       "       [ 2.094346  ],\n",
       "       [-0.11064275],\n",
       "       [ 1.39772822],\n",
       "       [ 0.2983525 ],\n",
       "       [-0.20814331],\n",
       "       [-0.16435671],\n",
       "       [-0.40003696],\n",
       "       [-0.27693948],\n",
       "       [ 0.32698868],\n",
       "       [ 0.26639902],\n",
       "       [ 1.05516215],\n",
       "       [ 0.99870334]])"
      ]
     },
     "execution_count": 68,
     "metadata": {},
     "output_type": "execute_result"
    }
   ],
   "source": [
    "np.random.seed(4)\n",
    "X=np.random.random(30).reshape((15,2)) #generate a random feature matrix with 2 features, and 15 observations\n",
    "\n",
    "layer1=Linear(2,3)\n",
    "layer2=ReLU()\n",
    "layer3=Linear(3,1)\n",
    "network=Sequential([layer1,layer2,layer3])\n",
    "\n",
    "network(X)"
   ]
  },
  {
   "cell_type": "code",
   "execution_count": null,
   "metadata": {},
   "outputs": [],
   "source": []
  }
 ],
 "metadata": {
  "colab": {
   "provenance": [
    {
     "file_id": "1RykR9AWdIvmZXusY8IFVw_Z8to1L-Uf_",
     "timestamp": 1648433498372
    }
   ]
  },
  "kernelspec": {
   "display_name": "base",
   "language": "python",
   "name": "python3"
  },
  "language_info": {
   "codemirror_mode": {
    "name": "ipython",
    "version": 3
   },
   "file_extension": ".py",
   "mimetype": "text/x-python",
   "name": "python",
   "nbconvert_exporter": "python",
   "pygments_lexer": "ipython3",
   "version": "3.12.7"
  }
 },
 "nbformat": 4,
 "nbformat_minor": 0
}
