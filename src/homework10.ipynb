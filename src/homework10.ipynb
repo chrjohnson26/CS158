{
 "cells": [
  {
   "cell_type": "markdown",
   "metadata": {
    "id": "umOGtyvwIkHc"
   },
   "source": [
    "**Homework 10**\n"
   ]
  },
  {
   "cell_type": "code",
   "execution_count": 3,
   "metadata": {
    "id": "XpvEjDuYFCyT"
   },
   "outputs": [],
   "source": [
    "import pandas as pd\n",
    "import numpy as np"
   ]
  },
  {
   "cell_type": "markdown",
   "metadata": {
    "id": "RS-AZd9pm_Tz"
   },
   "source": [
    "*Problem 1.*\n",
    "\n",
    "Let $f(x,y)=x^2+2xy+2y^2-4x-4y$.\n",
    "\n",
    "Calculate  $\\nabla f(x,y)$, the gradient of $f(x,y)$ on paper. (No need to turn this in, but you'll need it for the next parts of the problem.) In this problem you will use the gradient to find the minimum of $f(x,y)$. Do this first on paper by setting the gradient equal to $\\langle 0,0 \\rangle$ and solving for $x$ and $y$, so you can check that gradient descent is giving you the right answer.\n"
   ]
  },
  {
   "cell_type": "markdown",
   "metadata": {
    "id": "umsYAkZmvVBR"
   },
   "source": [
    "Next, write a function fGD which implements gradient descent to find the minimum of $f(x,y)$. Your function should take in the following parameters:\n",
    "* `lr` (learning rate)\n",
    "* `max_iter` (maximum number of iterations)\n",
    "* `x_init` (initial value of x)\n",
    "* `y_init` (initial value of y)\n",
    "\n",
    "Your function should return the final values of x and y"
   ]
  },
  {
   "cell_type": "code",
   "execution_count": 8,
   "metadata": {
    "id": "cEKOmSpauW1B"
   },
   "outputs": [],
   "source": [
    "# x = -6, y = 4 is the minimum of f(x,y)\n",
    "\n",
    "def fGD(lr,max_iter,x_init,y_init):\n",
    "  x=x_init\n",
    "  y=y_init\n",
    "  for i in np.arange(max_iter):\n",
    "    p_x = 2*x + 2*y - 4\n",
    "    p_y = 2*x + 4*y -4\n",
    "    x -= lr * p_x\n",
    "    y -= lr * p_y\n",
    "  return x,y"
   ]
  },
  {
   "cell_type": "markdown",
   "metadata": {
    "id": "3k7MszB2V8wC"
   },
   "source": [
    "Now check your answer by calling this function with a learning rate of 0.0001, max_iter of 10000, and inital values of 5 and 5 for `x` and `y`. Did your function come close to the correct answers?"
   ]
  },
  {
   "cell_type": "code",
   "execution_count": 9,
   "metadata": {
    "id": "0Zbn9zJjveXE"
   },
   "outputs": [
    {
     "data": {
      "text/plain": [
       "(1.9858947847209645, 0.045139149713967715)"
      ]
     },
     "execution_count": 9,
     "metadata": {},
     "output_type": "execute_result"
    }
   ],
   "source": [
    "xmin1,ymin1=fGD(0.0001,10000,5,5) #Don't change this\n",
    "xmin1,ymin1"
   ]
  },
  {
   "cell_type": "markdown",
   "metadata": {
    "id": "wMcg2Z8uyu3Y"
   },
   "source": [
    "*Problem 2*\n",
    "\n",
    "Write a class GDRegressor which implements gradient descent on MSE loss to fit an approximate linear model to a given data set."
   ]
  },
  {
   "cell_type": "code",
   "execution_count": 74,
   "metadata": {
    "id": "53FWcWnRV8wD"
   },
   "outputs": [],
   "source": [
    "class GDRegressor():\n",
    "    def __init__(self,learning_rate,max_iter):\n",
    "        self.lr=learning_rate\n",
    "        self.max_iter=max_iter\n",
    "\n",
    "    def fit(self,X,y):\n",
    "        self.coef=np.ones((X.shape[1],)) #Initial values\n",
    "        self.intercept=1 #Initial value\n",
    "        # print(y)\n",
    "        # print(X)\n",
    "        for i in range(self.max_iter):\n",
    "            # print(y.shape)\n",
    "            residuals=  y - self.predict(X)                  #YOUR CODE HERE (Hint: use self.predict())\n",
    "            print(X.T.shape)\n",
    "            print(residuals.shape)\n",
    "            coef_grad= (X.T @ residuals)/X.shape[1]\n",
    "            intercept_grad= np.mean(residuals)\n",
    "            print(self.lr)\n",
    "            print(coef_grad)\n",
    "            self.coef-= self.lr * coef_grad\n",
    "            self.intercept-= self.lr * intercept_grad\n",
    "\n",
    "    def predict(self,X):\n",
    "        # print(self.coef.shape)\n",
    "        # print(self.intercept)\n",
    "        # print(np.c_[self.coef, self.intercept])\n",
    "        # print(X)\n",
    "        # print(self.coef)\n",
    "        # print(X)\n",
    "        # print(self.coef)\n",
    "        # print(self.intercept)\n",
    "        return X * self.coef + self.intercept"
   ]
  },
  {
   "cell_type": "markdown",
   "metadata": {
    "id": "Fr5dUFRiFFNR"
   },
   "source": [
    "You can test your code here. Is the result close to what you would expect?"
   ]
  },
  {
   "cell_type": "code",
   "execution_count": 75,
   "metadata": {
    "id": "qQiQErqKFM3H"
   },
   "outputs": [
    {
     "name": "stdout",
     "output_type": "stream",
     "text": [
      "(1, 10)\n",
      "(10, 10)\n",
      "0.01\n",
      "[[-240. -105.   30.  165.  300.  435.  570.  705.  840.  975.]]\n"
     ]
    },
    {
     "ename": "ValueError",
     "evalue": "non-broadcastable output operand with shape (1,) doesn't match the broadcast shape (1,10)",
     "output_type": "error",
     "traceback": [
      "\u001b[0;31m---------------------------------------------------------------------------\u001b[0m",
      "\u001b[0;31mValueError\u001b[0m                                Traceback (most recent call last)",
      "Cell \u001b[0;32mIn[75], line 5\u001b[0m\n\u001b[1;32m      3\u001b[0m X\u001b[38;5;241m=\u001b[39mx[:,np\u001b[38;5;241m.\u001b[39mnewaxis] \u001b[38;5;66;03m#Converts shape to (10,1)\u001b[39;00m\n\u001b[1;32m      4\u001b[0m lin_mod\u001b[38;5;241m=\u001b[39mGDRegressor(\u001b[38;5;241m.01\u001b[39m,\u001b[38;5;241m2000\u001b[39m)\n\u001b[0;32m----> 5\u001b[0m lin_mod\u001b[38;5;241m.\u001b[39mfit(X,y)\n\u001b[1;32m      6\u001b[0m lin_mod\u001b[38;5;241m.\u001b[39mcoef, lin_mod\u001b[38;5;241m.\u001b[39mintercept\n",
      "Cell \u001b[0;32mIn[74], line 20\u001b[0m, in \u001b[0;36mGDRegressor.fit\u001b[0;34m(self, X, y)\u001b[0m\n\u001b[1;32m     18\u001b[0m \u001b[38;5;28mprint\u001b[39m(\u001b[38;5;28mself\u001b[39m\u001b[38;5;241m.\u001b[39mlr)\n\u001b[1;32m     19\u001b[0m \u001b[38;5;28mprint\u001b[39m(coef_grad)\n\u001b[0;32m---> 20\u001b[0m \u001b[38;5;28mself\u001b[39m\u001b[38;5;241m.\u001b[39mcoef\u001b[38;5;241m-\u001b[39m\u001b[38;5;241m=\u001b[39m \u001b[38;5;28mself\u001b[39m\u001b[38;5;241m.\u001b[39mlr \u001b[38;5;241m*\u001b[39m coef_grad\n\u001b[1;32m     21\u001b[0m \u001b[38;5;28mself\u001b[39m\u001b[38;5;241m.\u001b[39mintercept\u001b[38;5;241m-\u001b[39m\u001b[38;5;241m=\u001b[39m \u001b[38;5;28mself\u001b[39m\u001b[38;5;241m.\u001b[39mlr \u001b[38;5;241m*\u001b[39m intercept_grad\n",
      "\u001b[0;31mValueError\u001b[0m: non-broadcastable output operand with shape (1,) doesn't match the broadcast shape (1,10)"
     ]
    }
   ],
   "source": [
    "x=np.arange(10)\n",
    "y=3*x+2\n",
    "X=x[:,np.newaxis] #Converts shape to (10,1)\n",
    "lin_mod=GDRegressor(.01,2000)\n",
    "lin_mod.fit(X,y)\n",
    "lin_mod.coef, lin_mod.intercept"
   ]
  },
  {
   "cell_type": "markdown",
   "metadata": {
    "id": "zmnY2yScV8wE"
   },
   "source": [
    "We now try your new class on the `disp` vs `mpg` problem from previous assignments. Let's bring those data sets back:"
   ]
  },
  {
   "cell_type": "code",
   "execution_count": null,
   "metadata": {
    "id": "WzqVYPwY9MbG"
   },
   "outputs": [],
   "source": [
    "cars=pd.read_csv('https://vincentarelbundock.github.io/Rdatasets/csv/causaldata/auto.csv')\n",
    "disp=np.array(cars.displacement)\n",
    "mpg=np.array(cars.mpg)\n",
    "\n",
    "index=np.argsort(disp)\n",
    "disp=disp[index]\n",
    "mpg=mpg[index]"
   ]
  },
  {
   "cell_type": "markdown",
   "metadata": {
    "id": "cQclb38VV8wF"
   },
   "source": [
    "Gradient descent works best with scaled data, so we'll need to import a `StandardScalar` class from sklearn:"
   ]
  },
  {
   "cell_type": "code",
   "execution_count": null,
   "metadata": {
    "id": "ENmYZuc8V8wF"
   },
   "outputs": [],
   "source": [
    "from sklearn.preprocessing import StandardScaler"
   ]
  },
  {
   "cell_type": "markdown",
   "metadata": {
    "id": "RnDnFfY4WIbX"
   },
   "source": [
    "This class works almost exactly the same as the one you wrote in previous assignments, except that it expects a 2D-array, even when you have one column of data. To fix this, we reshape our data:"
   ]
  },
  {
   "cell_type": "code",
   "execution_count": null,
   "metadata": {
    "id": "er97OZMNWL-7"
   },
   "outputs": [],
   "source": [
    "disp=disp[:,np.newaxis]"
   ]
  },
  {
   "cell_type": "markdown",
   "metadata": {
    "id": "ocw3fA_AWLf7"
   },
   "source": [
    "Now, fit a `StandardScaler` object to `disp` and transform it:"
   ]
  },
  {
   "cell_type": "code",
   "execution_count": null,
   "metadata": {
    "id": "WfAuF--cV8wG"
   },
   "outputs": [],
   "source": [
    "#YOUR CODE HERE\n",
    "scaled_disp= #YOUR CODE HERE"
   ]
  },
  {
   "cell_type": "markdown",
   "metadata": {
    "id": "RMvnWrj8V8wG"
   },
   "source": [
    "Create a new `GDRegressor` object called `mpg_mod`. Use a learning rate of 0.1 and a `max_iter` of 1000. Then, fit it to `scaled_disp` and `mpg`. (Remember to first reshape `scaled_disp` appropriately)."
   ]
  },
  {
   "cell_type": "code",
   "execution_count": null,
   "metadata": {
    "id": "JN44YENVV8wG"
   },
   "outputs": [],
   "source": [
    "mpg_mod=#YOUR CODE HERE\n",
    "mpg_mod.fit(#YOUR CODE HERE)"
   ]
  },
  {
   "cell_type": "markdown",
   "metadata": {
    "id": "WzBGd17hV8wG"
   },
   "source": [
    "Check the RSS of your model, and compare your answer to the RSS of the model you found by the normal equations in Homework 7."
   ]
  },
  {
   "cell_type": "code",
   "execution_count": null,
   "metadata": {
    "id": "JdJUeOjrV8wH"
   },
   "outputs": [],
   "source": [
    "RSS=#YOUR CODE HERE\n",
    "RSS"
   ]
  }
 ],
 "metadata": {
  "colab": {
   "provenance": []
  },
  "kernelspec": {
   "display_name": "base",
   "language": "python",
   "name": "python3"
  },
  "language_info": {
   "codemirror_mode": {
    "name": "ipython",
    "version": 3
   },
   "file_extension": ".py",
   "mimetype": "text/x-python",
   "name": "python",
   "nbconvert_exporter": "python",
   "pygments_lexer": "ipython3",
   "version": "3.12.7"
  }
 },
 "nbformat": 4,
 "nbformat_minor": 0
}
