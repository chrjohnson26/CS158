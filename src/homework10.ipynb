{
 "cells": [
  {
   "cell_type": "markdown",
   "metadata": {
    "id": "umOGtyvwIkHc"
   },
   "source": [
    "**Homework 10**\n"
   ]
  },
  {
   "cell_type": "code",
   "execution_count": 52,
   "metadata": {
    "id": "XpvEjDuYFCyT"
   },
   "outputs": [],
   "source": [
    "import pandas as pd\n",
    "import numpy as np"
   ]
  },
  {
   "cell_type": "markdown",
   "metadata": {
    "id": "RS-AZd9pm_Tz"
   },
   "source": [
    "*Problem 1.*\n",
    "\n",
    "Let $f(x,y)=x^2+2xy+2y^2-4x-4y$.\n",
    "\n",
    "Calculate  $\\nabla f(x,y)$, the gradient of $f(x,y)$ on paper. (No need to turn this in, but you'll need it for the next parts of the problem.) In this problem you will use the gradient to find the minimum of $f(x,y)$. Do this first on paper by setting the gradient equal to $\\langle 0,0 \\rangle$ and solving for $x$ and $y$, so you can check that gradient descent is giving you the right answer.\n"
   ]
  },
  {
   "cell_type": "markdown",
   "metadata": {
    "id": "umsYAkZmvVBR"
   },
   "source": [
    "Next, write a function fGD which implements gradient descent to find the minimum of $f(x,y)$. Your function should take in the following parameters:\n",
    "* `lr` (learning rate)\n",
    "* `max_iter` (maximum number of iterations)\n",
    "* `x_init` (initial value of x)\n",
    "* `y_init` (initial value of y)\n",
    "\n",
    "Your function should return the final values of x and y"
   ]
  },
  {
   "cell_type": "code",
   "execution_count": 53,
   "metadata": {
    "id": "cEKOmSpauW1B"
   },
   "outputs": [],
   "source": [
    "# x = -6, y = 4 is the minimum of f(x,y)\n",
    "\n",
    "def fGD(lr,max_iter,x_init,y_init):\n",
    "  x=x_init\n",
    "  y=y_init\n",
    "  for i in np.arange(max_iter):\n",
    "    p_x = 2*x + 2*y - 4\n",
    "    p_y = 2*x + 4*y -4\n",
    "    x -= lr * p_x\n",
    "    y -= lr * p_y\n",
    "  return x,y"
   ]
  },
  {
   "cell_type": "markdown",
   "metadata": {
    "id": "3k7MszB2V8wC"
   },
   "source": [
    "Now check your answer by calling this function with a learning rate of 0.0001, max_iter of 10000, and inital values of 5 and 5 for `x` and `y`. Did your function come close to the correct answers?"
   ]
  },
  {
   "cell_type": "code",
   "execution_count": 54,
   "metadata": {
    "id": "0Zbn9zJjveXE"
   },
   "outputs": [
    {
     "data": {
      "text/plain": [
       "(1.9858947847209645, 0.045139149713967715)"
      ]
     },
     "execution_count": 54,
     "metadata": {},
     "output_type": "execute_result"
    }
   ],
   "source": [
    "xmin1,ymin1=fGD(0.0001,10000,5,5) #Don't change this\n",
    "xmin1,ymin1"
   ]
  },
  {
   "cell_type": "markdown",
   "metadata": {
    "id": "wMcg2Z8uyu3Y"
   },
   "source": [
    "*Problem 2*\n",
    "\n",
    "Write a class GDRegressor which implements gradient descent on MSE loss to fit an approximate linear model to a given data set."
   ]
  },
  {
   "cell_type": "code",
   "execution_count": null,
   "metadata": {
    "id": "53FWcWnRV8wD"
   },
   "outputs": [],
   "source": [
    "class GDRegressor():\n",
    "    def __init__(self,learning_rate,max_iter):\n",
    "        self.lr=learning_rate\n",
    "        self.max_iter=max_iter\n",
    "\n",
    "    def fit(self,X,y):\n",
    "        self.coef=np.ones((X.shape[1],)) #Initial values\n",
    "        self.intercept=1 #Initial value\n",
    "        for i in range(self.max_iter):\n",
    "            residuals=  y - self.predict(X)                  \n",
    "            coef_grad = (2/X.shape[0]) * np.dot(X.T,residuals)\n",
    "            intercept_grad= 2*np.mean(residuals)\n",
    "            self.coef+= self.lr * coef_grad\n",
    "            self.intercept+= self.lr * intercept_grad\n",
    "\n",
    "    def predict(self,X):\n",
    "        return np.dot(X, self.coef) + self.intercept"
   ]
  },
  {
   "cell_type": "markdown",
   "metadata": {
    "id": "Fr5dUFRiFFNR"
   },
   "source": [
    "You can test your code here. Is the result close to what you would expect?"
   ]
  },
  {
   "cell_type": "code",
   "execution_count": 56,
   "metadata": {
    "id": "qQiQErqKFM3H"
   },
   "outputs": [
    {
     "data": {
      "text/plain": [
       "(array([3.00000128]), 1.999991997794565)"
      ]
     },
     "execution_count": 56,
     "metadata": {},
     "output_type": "execute_result"
    }
   ],
   "source": [
    "x=np.arange(10)\n",
    "y=3*x+2\n",
    "X=x[:,np.newaxis] #Converts shape to (10,1)\n",
    "lin_mod=GDRegressor(.01,2000)\n",
    "lin_mod.fit(X,y)\n",
    "lin_mod.coef, lin_mod.intercept"
   ]
  },
  {
   "cell_type": "markdown",
   "metadata": {
    "id": "zmnY2yScV8wE"
   },
   "source": [
    "We now try your new class on the `disp` vs `mpg` problem from previous assignments. Let's bring those data sets back:"
   ]
  },
  {
   "cell_type": "code",
   "execution_count": 57,
   "metadata": {
    "id": "WzqVYPwY9MbG"
   },
   "outputs": [],
   "source": [
    "cars=pd.read_csv('https://vincentarelbundock.github.io/Rdatasets/csv/causaldata/auto.csv')\n",
    "disp=np.array(cars.displacement)\n",
    "mpg=np.array(cars.mpg)\n",
    "\n",
    "index=np.argsort(disp)\n",
    "disp=disp[index]\n",
    "mpg=mpg[index]"
   ]
  },
  {
   "cell_type": "markdown",
   "metadata": {
    "id": "cQclb38VV8wF"
   },
   "source": [
    "Gradient descent works best with scaled data, so we'll need to import a `StandardScalar` class from sklearn:"
   ]
  },
  {
   "cell_type": "code",
   "execution_count": 58,
   "metadata": {
    "id": "ENmYZuc8V8wF"
   },
   "outputs": [],
   "source": [
    "from sklearn.preprocessing import StandardScaler"
   ]
  },
  {
   "cell_type": "markdown",
   "metadata": {
    "id": "RnDnFfY4WIbX"
   },
   "source": [
    "This class works almost exactly the same as the one you wrote in previous assignments, except that it expects a 2D-array, even when you have one column of data. To fix this, we reshape our data:"
   ]
  },
  {
   "cell_type": "code",
   "execution_count": 59,
   "metadata": {
    "id": "er97OZMNWL-7"
   },
   "outputs": [
    {
     "data": {
      "text/plain": [
       "array([[ 79],\n",
       "       [ 85],\n",
       "       [ 86],\n",
       "       [ 86],\n",
       "       [ 89],\n",
       "       [ 90],\n",
       "       [ 91],\n",
       "       [ 97],\n",
       "       [ 97],\n",
       "       [ 97],\n",
       "       [ 97],\n",
       "       [ 97],\n",
       "       [ 98],\n",
       "       [ 98],\n",
       "       [105],\n",
       "       [105],\n",
       "       [107],\n",
       "       [119],\n",
       "       [119],\n",
       "       [119],\n",
       "       [121],\n",
       "       [121],\n",
       "       [121],\n",
       "       [131],\n",
       "       [134],\n",
       "       [134],\n",
       "       [140],\n",
       "       [140],\n",
       "       [140],\n",
       "       [146],\n",
       "       [151],\n",
       "       [151],\n",
       "       [151],\n",
       "       [156],\n",
       "       [163],\n",
       "       [163],\n",
       "       [196],\n",
       "       [196],\n",
       "       [200],\n",
       "       [200],\n",
       "       [225],\n",
       "       [225],\n",
       "       [231],\n",
       "       [231],\n",
       "       [231],\n",
       "       [231],\n",
       "       [231],\n",
       "       [231],\n",
       "       [231],\n",
       "       [231],\n",
       "       [231],\n",
       "       [231],\n",
       "       [231],\n",
       "       [231],\n",
       "       [231],\n",
       "       [250],\n",
       "       [250],\n",
       "       [250],\n",
       "       [258],\n",
       "       [302],\n",
       "       [302],\n",
       "       [302],\n",
       "       [302],\n",
       "       [304],\n",
       "       [318],\n",
       "       [318],\n",
       "       [350],\n",
       "       [350],\n",
       "       [350],\n",
       "       [350],\n",
       "       [350],\n",
       "       [400],\n",
       "       [400],\n",
       "       [425]])"
      ]
     },
     "execution_count": 59,
     "metadata": {},
     "output_type": "execute_result"
    }
   ],
   "source": [
    "disp=disp[:,np.newaxis]\n",
    "disp"
   ]
  },
  {
   "cell_type": "markdown",
   "metadata": {
    "id": "ocw3fA_AWLf7"
   },
   "source": [
    "Now, fit a `StandardScaler` object to `disp` and transform it:"
   ]
  },
  {
   "cell_type": "code",
   "execution_count": 60,
   "metadata": {
    "id": "WfAuF--cV8wG"
   },
   "outputs": [],
   "source": [
    "sd = StandardScaler()\n",
    "sd.fit(disp)\n",
    "scaled_disp=sd.transform(disp)"
   ]
  },
  {
   "cell_type": "code",
   "execution_count": 62,
   "metadata": {},
   "outputs": [
    {
     "data": {
      "text/plain": [
       "array([[-1.29691206],\n",
       "       [-1.23113311],\n",
       "       [-1.22016995],\n",
       "       [-1.22016995],\n",
       "       [-1.18728047],\n",
       "       [-1.17631731],\n",
       "       [-1.16535415],\n",
       "       [-1.0995752 ],\n",
       "       [-1.0995752 ],\n",
       "       [-1.0995752 ],\n",
       "       [-1.0995752 ],\n",
       "       [-1.0995752 ],\n",
       "       [-1.08861204],\n",
       "       [-1.08861204],\n",
       "       [-1.01186993],\n",
       "       [-1.01186993],\n",
       "       [-0.98994361],\n",
       "       [-0.85838571],\n",
       "       [-0.85838571],\n",
       "       [-0.85838571],\n",
       "       [-0.83645939],\n",
       "       [-0.83645939],\n",
       "       [-0.83645939],\n",
       "       [-0.7268278 ],\n",
       "       [-0.69393832],\n",
       "       [-0.69393832],\n",
       "       [-0.62815937],\n",
       "       [-0.62815937],\n",
       "       [-0.62815937],\n",
       "       [-0.56238042],\n",
       "       [-0.50756462],\n",
       "       [-0.50756462],\n",
       "       [-0.50756462],\n",
       "       [-0.45274883],\n",
       "       [-0.37600672],\n",
       "       [-0.37600672],\n",
       "       [-0.01422248],\n",
       "       [-0.01422248],\n",
       "       [ 0.02963016],\n",
       "       [ 0.02963016],\n",
       "       [ 0.30370913],\n",
       "       [ 0.30370913],\n",
       "       [ 0.36948808],\n",
       "       [ 0.36948808],\n",
       "       [ 0.36948808],\n",
       "       [ 0.36948808],\n",
       "       [ 0.36948808],\n",
       "       [ 0.36948808],\n",
       "       [ 0.36948808],\n",
       "       [ 0.36948808],\n",
       "       [ 0.36948808],\n",
       "       [ 0.36948808],\n",
       "       [ 0.36948808],\n",
       "       [ 0.36948808],\n",
       "       [ 0.36948808],\n",
       "       [ 0.5777881 ],\n",
       "       [ 0.5777881 ],\n",
       "       [ 0.5777881 ],\n",
       "       [ 0.66549337],\n",
       "       [ 1.14787236],\n",
       "       [ 1.14787236],\n",
       "       [ 1.14787236],\n",
       "       [ 1.14787236],\n",
       "       [ 1.16979868],\n",
       "       [ 1.3232829 ],\n",
       "       [ 1.3232829 ],\n",
       "       [ 1.67410398],\n",
       "       [ 1.67410398],\n",
       "       [ 1.67410398],\n",
       "       [ 1.67410398],\n",
       "       [ 1.67410398],\n",
       "       [ 2.22226192],\n",
       "       [ 2.22226192],\n",
       "       [ 2.4963409 ]])"
      ]
     },
     "execution_count": 62,
     "metadata": {},
     "output_type": "execute_result"
    }
   ],
   "source": [
    "scaled_disp"
   ]
  },
  {
   "cell_type": "markdown",
   "metadata": {
    "id": "RMvnWrj8V8wG"
   },
   "source": [
    "Create a new `GDRegressor` object called `mpg_mod`. Use a learning rate of 0.1 and a `max_iter` of 1000. Then, fit it to `scaled_disp` and `mpg`. (Remember to first reshape `scaled_disp` appropriately)."
   ]
  },
  {
   "cell_type": "code",
   "execution_count": 64,
   "metadata": {
    "id": "JN44YENVV8wG"
   },
   "outputs": [],
   "source": [
    "mpg_mod= GDRegressor(learning_rate=.1, max_iter=1000)\n",
    "mpg_mod.fit(scaled_disp, mpg)"
   ]
  },
  {
   "cell_type": "markdown",
   "metadata": {
    "id": "WzBGd17hV8wG"
   },
   "source": [
    "Check the RSS of your model, and compare your answer to the RSS of the model you found by the normal equations in Homework 7."
   ]
  },
  {
   "cell_type": "code",
   "execution_count": 66,
   "metadata": {
    "id": "JdJUeOjrV8wH"
   },
   "outputs": [
    {
     "data": {
      "text/plain": [
       "1226.7841189255553"
      ]
     },
     "execution_count": 66,
     "metadata": {},
     "output_type": "execute_result"
    }
   ],
   "source": [
    "preds = mpg_mod.predict(scaled_disp)\n",
    "RSS=np.sum((mpg - preds)**2)\n",
    "RSS"
   ]
  },
  {
   "cell_type": "code",
   "execution_count": null,
   "metadata": {},
   "outputs": [],
   "source": []
  }
 ],
 "metadata": {
  "colab": {
   "provenance": []
  },
  "kernelspec": {
   "display_name": "base",
   "language": "python",
   "name": "python3"
  },
  "language_info": {
   "codemirror_mode": {
    "name": "ipython",
    "version": 3
   },
   "file_extension": ".py",
   "mimetype": "text/x-python",
   "name": "python",
   "nbconvert_exporter": "python",
   "pygments_lexer": "ipython3",
   "version": "3.12.7"
  }
 },
 "nbformat": 4,
 "nbformat_minor": 4
}
