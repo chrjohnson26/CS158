{
 "cells": [
  {
   "cell_type": "markdown",
   "id": "a39c456b",
   "metadata": {},
   "source": [
    "**Homework 13**"
   ]
  },
  {
   "cell_type": "code",
   "execution_count": 169,
   "id": "73d8d900",
   "metadata": {},
   "outputs": [],
   "source": [
    "import numpy as np\n",
    "import pandas as pd\n",
    "import matplotlib.pyplot as plt"
   ]
  },
  {
   "cell_type": "markdown",
   "id": "a932b5be",
   "metadata": {},
   "source": [
    "*Background*\n",
    "\n",
    "Recall that Logistic Regression is a technique to predict either `True` or `False` for each observation. The key idea is to use a linear model to create a number $t_i$ for each observation $x_i$, and then turn these numbers into *probabilities* of `True` with the sigmoid function:\n",
    "\n",
    "$$\\sigma(t_i)=\\frac{1}{1+e^{-t_i}}$$\n",
    "\n",
    "Your model should predict `True` when this probability value is above 0.5, and `False` otherwise. \n",
    "\n",
    "To create the model, we seek a local minimum for the negative of the \"Log Loss\". The Log Loss is the log of the probability that our predictions are all correct. If $y_i$ is the target truth value for the observation $x_i$, then the Log Loss is given by:\n",
    "\n",
    "$$\\log \\left(\\prod \\limits _{y_i=T} \\sigma(t_i) * \\prod \\limits _{y_i=F} (1-\\sigma(t_i))\\right)\\\\\n",
    "=\\sum \\limits _{y_i=T} \\log(\\sigma(t_i)) + \\sum \\limits _{y_i=F} \\log(1-\\sigma(t_i))\\\\\n",
    "=\\sum \\limits _i  y_i \\log(\\sigma(t_i)) +  (1-y_i)\\log(1-\\sigma(t_i))$$\n",
    "\n",
    "As in the case of RSS vs MSE, the negative *Mean* Log Loss is obtained from the negative of the Log Loss by dividing by the number of rows in our dataset, to account for datasets of varying size. \n",
    "\n",
    "To find the minimum of the negative mean Log Loss, we use gradient descent. To find the gradient we need to compute the partial derivative with respect to the coefficients and intercept of our model. As discussed in class, the derivative with respect to $c_j$, the coefficent of the column $X^j$ of the feature matrix, is\n",
    "\n",
    "$$\\frac{\\partial logloss}{\\partial c_j}= \\frac{1}{len(y)}\\sum \\limits_i (\\sigma(t_i)-y_i)X^j_i$$\n",
    "\n",
    "If we call the quantity $\\sigma(t_i)-y_i$ the \"$i$th residual\", then we can express this in vector form as:\n",
    "$$\\frac{\\partial LogLoss}{\\partial coeffs}= \\frac{1}{len(y)}X^T\\cdot residuals$$\n",
    "\n",
    "\n",
    "Similarly, the derivative with respect to the intercept $b$ is\n",
    "$$\\frac{\\partial LogLoss}{\\partial b}= \\frac{1}{len(y)}\\sum \\limits _i (\\sigma(t_i)-y_i)$$\n",
    "$$=mean(residuals)$$\n",
    "\n",
    "These gradients should look very familiar!! The only thing that has changed from Linear Regression is the definition of the residuals. \n"
   ]
  },
  {
   "cell_type": "markdown",
   "id": "4c06a5d8",
   "metadata": {},
   "source": [
    "With this background, you should now be prepared to create the `LogisticRegression` class. We begin with a solution to the last assignment. Your task is to modify this code to perform logistic regression."
   ]
  },
  {
   "cell_type": "code",
   "execution_count": 170,
   "id": "7e20053e",
   "metadata": {},
   "outputs": [],
   "source": [
    "class LogisticRegression():\n",
    "    def __init__(self,learning_rate, max_iter, batch_size, penalty='l2', alpha=0.0001):\n",
    "        self.lr=learning_rate\n",
    "        self.max_iter=max_iter #number of epochs\n",
    "        self.batch_size=batch_size\n",
    "        self.penalty=penalty #either 'l1' or 'l2'\n",
    "        self.alpha=alpha #amount of regularization to apply\n",
    "        \n",
    "    def fit(self,X,y):\n",
    "        self.coef=np.ones((X.shape[1],)) #Initial values\n",
    "        self.intercept=1 #Initial value\n",
    "        if self.penalty=='l1':\n",
    "            penalty_grad=lambda x:2*(x>0)-1\n",
    "        elif self.penalty=='l2':\n",
    "            penalty_grad=lambda x:x\n",
    "        indices=np.arange(len(X))\n",
    "        for i in range(self.max_iter):\n",
    "            np.random.seed(i) #Just so everyone gets the same answer!\n",
    "            np.random.shuffle(indices)\n",
    "            X_shuffle=X[indices] \n",
    "            y_shuffle=y[indices] \n",
    "            for j in range(0,len(X),self.batch_size):\n",
    "                X_batch=X_shuffle[j:j+self.batch_size]\n",
    "                y_batch=y_shuffle[j:j+self.batch_size]\n",
    "                sig_res = 1/(1 + np.exp(-self.predict_proba(X_batch)))\n",
    "                residuals= sig_res - y_batch        # sigmoid(T_i) - y_i label, where T is the \n",
    "                coef_grad=(X_batch.T)@residuals/len(X_batch)\n",
    "                intercept_grad=np.mean(residuals)\n",
    "                self.coef-=self.lr*coef_grad+self.alpha*penalty_grad(self.coef)\n",
    "                self.intercept-=self.lr*intercept_grad+self.alpha*penalty_grad(self.intercept)\n",
    "            \n",
    "    def predict_proba(self,X):\n",
    "        '''returns the predicted probabilites that each x in X\n",
    "        is in the \"True\" class'''\n",
    "        return X@self.coef + self.intercept\n",
    "        # T = X @ self.coef + self.intercept\n",
    "        # print(1. / (1. + np.exp(-T)))\n",
    "        # return 1. / (1. + np.exp(-T))\n",
    "    \n",
    "    def predict(self,X):\n",
    "        '''returns a prediction, for each x in X, that the class\n",
    "        is \"True\".'''\n",
    "        pred = X@self.coef + self.intercept\n",
    "        # # print(pred > 0.5)\n",
    "        return pred > 0.5\n",
    "        # probs = self.predict_proba(X)\n",
    "        # return probs > 0.5\n",
    "    \n",
    "    def score(self,X,y): \n",
    "        '''returns accuracy of the model'''\n",
    "        predictions = self.predict(X)\n",
    "        return np.sum((predictions == y))/X.shape[0]\n",
    "\n",
    "\n",
    "    def NegLogLoss(self,X,y): #Not a sklearn method!\n",
    "        '''returns the negative of the mean Log Loss'''\n",
    "        T = self.predict_proba(X)\n",
    "        # print(T)\n",
    "        sig_res = 1. /(1. + np.exp(-T))\n",
    "        return  -np.mean(y * np.log(sig_res) + (1-y)*(np.log(1-sig_res)))"
   ]
  },
  {
   "cell_type": "markdown",
   "id": "1f30a783",
   "metadata": {},
   "source": [
    "We're now ready to test your code. We import the iris dataset, construct a feature matrix from the Petal Length and Petal Width columns, and target truth values depending on whether the species is virginica:"
   ]
  },
  {
   "cell_type": "code",
   "execution_count": 171,
   "id": "e78d76ca",
   "metadata": {},
   "outputs": [],
   "source": [
    "iris=(pd.read_csv('https://vincentarelbundock.github.io/Rdatasets/csv/datasets/iris.csv',index_col=0))\n",
    "X=np.array(iris[['Petal.Length','Petal.Width']])\n",
    "y=np.array(iris['Species']=='virginica')"
   ]
  },
  {
   "cell_type": "markdown",
   "id": "0d41c40e",
   "metadata": {},
   "source": [
    "Now, create a Logistic Regression model which will train for 2000 epochs, using batches of size 10, and a learning rate of 0.01. Do not use any regularization."
   ]
  },
  {
   "cell_type": "code",
   "execution_count": 172,
   "id": "a4a30b76",
   "metadata": {},
   "outputs": [],
   "source": [
    "log_mod= LogisticRegression(batch_size=10, learning_rate=0.01, max_iter=2000, alpha=0)"
   ]
  },
  {
   "cell_type": "markdown",
   "id": "04f66af9",
   "metadata": {},
   "source": [
    "Fit your model to `X` and `y`."
   ]
  },
  {
   "cell_type": "code",
   "execution_count": 173,
   "id": "b9bedfaf",
   "metadata": {},
   "outputs": [],
   "source": [
    "log_mod.fit(X, y)"
   ]
  },
  {
   "cell_type": "markdown",
   "id": "8c94b116",
   "metadata": {},
   "source": [
    "Check the accuracy of your model:"
   ]
  },
  {
   "cell_type": "code",
   "execution_count": 174,
   "id": "9498aaf3",
   "metadata": {},
   "outputs": [
    {
     "data": {
      "text/plain": [
       "0.96"
      ]
     },
     "execution_count": 174,
     "metadata": {},
     "output_type": "execute_result"
    }
   ],
   "source": [
    "accuracy= log_mod.score(X,y)\n",
    "accuracy"
   ]
  },
  {
   "cell_type": "markdown",
   "id": "255d1b9c",
   "metadata": {},
   "source": [
    "Check the negative of the mean Log Loss:"
   ]
  },
  {
   "cell_type": "code",
   "execution_count": 175,
   "id": "8ec37685",
   "metadata": {},
   "outputs": [
    {
     "data": {
      "text/plain": [
       "0.17181907559926746"
      ]
     },
     "execution_count": 175,
     "metadata": {},
     "output_type": "execute_result"
    }
   ],
   "source": [
    "neglogloss= log_mod.NegLogLoss(X,y)\n",
    "neglogloss"
   ]
  },
  {
   "cell_type": "markdown",
   "id": "656bad5c",
   "metadata": {},
   "source": [
    "To see the \"decision boundary\" between where your model will predict virginica (in blue) vs the other species, run the following code block:"
   ]
  },
  {
   "cell_type": "code",
   "execution_count": 176,
   "id": "c99cbffb",
   "metadata": {
    "scrolled": true
   },
   "outputs": [
    {
     "data": {
      "text/plain": [
       "[<matplotlib.lines.Line2D at 0x15a298ef0>]"
      ]
     },
     "execution_count": 176,
     "metadata": {},
     "output_type": "execute_result"
    },
    {
     "data": {
      "image/png": "[encoded data removed]",
      "text/plain": [
       "<Figure size 640x480 with 1 Axes>"
      ]
     },
     "metadata": {},
     "output_type": "display_data"
    }
   ],
   "source": [
    "def func(x):\n",
    "  m=-log_mod.coef[0]/log_mod.coef[1]\n",
    "  b=-log_mod.intercept/log_mod.coef[1]\n",
    "  return m*x+b\n",
    "\n",
    "cdict={'versicolor':'r','setosa':'g','virginica':'b'}\n",
    "colors=iris.apply(lambda x:cdict[x.Species],axis=1)\n",
    "\n",
    "plt.scatter(X[:,0],X[:,1],c=colors)\n",
    "plt.plot(X[:,0],func(X[:,0]))"
   ]
  }
 ],
 "metadata": {
  "kernelspec": {
   "display_name": "Python [conda env:base] *",
   "language": "python",
   "name": "conda-base-py"
  },
  "language_info": {
   "codemirror_mode": {
    "name": "ipython",
    "version": 3
   },
   "file_extension": ".py",
   "mimetype": "text/x-python",
   "name": "python",
   "nbconvert_exporter": "python",
   "pygments_lexer": "ipython3",
   "version": "3.12.7"
  }
 },
 "nbformat": 4,
 "nbformat_minor": 5
}
