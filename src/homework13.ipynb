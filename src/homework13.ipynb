{
 "cells": [
  {
   "cell_type": "markdown",
   "id": "a39c456b",
   "metadata": {},
   "source": [
    "**Homework 13**"
   ]
  },
  {
   "cell_type": "code",
   "execution_count": 11,
   "id": "73d8d900",
   "metadata": {},
   "outputs": [],
   "source": [
    "import numpy as np\n",
    "import pandas as pd\n",
    "import matplotlib.pyplot as plt"
   ]
  },
  {
   "cell_type": "markdown",
   "id": "a932b5be",
   "metadata": {},
   "source": [
    "*Background*\n",
    "\n",
    "Recall that Logistic Regression is a technique to predict either `True` or `False` for each observation. The key idea is to use a linear model to create a number $t_i$ for each observation $x_i$, and then turn these numbers into *probabilities* of `True` with the sigmoid function:\n",
    "\n",
    "$$\\sigma(t_i)=\\frac{1}{1+e^{-t_i}}$$\n",
    "\n",
    "Your model should predict `True` when this probability value is above 0.5, and `False` otherwise. \n",
    "\n",
    "To create the model, we seek a local minimum for the negative of the \"Log Loss\". The Log Loss is the log of the probability that our predictions are all correct. If $y_i$ is the target truth value for the observation $x_i$, then the Log Loss is given by:\n",
    "\n",
    "$$\\log \\left(\\prod \\limits _{y_i=T} \\sigma(t_i) * \\prod \\limits _{y_i=F} (1-\\sigma(t_i))\\right)\\\\\n",
    "=\\sum \\limits _{y_i=T} \\log(\\sigma(t_i)) + \\sum \\limits _{y_i=F} \\log(1-\\sigma(t_i))\\\\\n",
    "=\\sum \\limits _i  y_i \\log(\\sigma(t_i)) +  (1-y_i)\\log(1-\\sigma(t_i))$$\n",
    "\n",
    "As in the case of RSS vs MSE, the negative *Mean* Log Loss is obtained from the negative of the Log Loss by dividing by the number of rows in our dataset, to account for datasets of varying size. \n",
    "\n",
    "To find the minimum of the negative mean Log Loss, we use gradient descent. To find the gradient we need to compute the partial derivative with respect to the coefficients and intercept of our model. As discussed in class, the derivative with respect to $c_j$, the coefficent of the column $X^j$ of the feature matrix, is\n",
    "\n",
    "$$\\frac{\\partial logloss}{\\partial c_j}= \\frac{1}{len(y)}\\sum \\limits_i (\\sigma(t_i)-y_i)X^j_i$$\n",
    "\n",
    "If we call the quantity $\\sigma(t_i)-y_i$ the \"$i$th residual\", then we can express this in vector form as:\n",
    "$$\\frac{\\partial LogLoss}{\\partial coeffs}= \\frac{1}{len(y)}X^T\\cdot residuals$$\n",
    "\n",
    "\n",
    "Similarly, the derivative with respect to the intercept $b$ is\n",
    "$$\\frac{\\partial LogLoss}{\\partial b}= \\frac{1}{len(y)}\\sum \\limits _i (\\sigma(t_i)-y_i)$$\n",
    "$$=mean(residuals)$$\n",
    "\n",
    "These gradients should look very familiar!! The only thing that has changed from Linear Regression is the definition of the residuals. \n"
   ]
  },
  {
   "cell_type": "markdown",
   "id": "4c06a5d8",
   "metadata": {},
   "source": [
    "With this background, you should now be prepared to create the `LogisticRegression` class. We begin with a solution to the last assignment. Your task is to modify this code to perform logistic regression."
   ]
  },
  {
   "cell_type": "code",
   "execution_count": null,
   "id": "7e20053e",
   "metadata": {},
   "outputs": [],
   "source": [
    "class LogisticRegression():\n",
    "    def __init__(self,learning_rate, max_iter, batch_size, penalty='l2', alpha=0.0001):\n",
    "        self.lr=learning_rate\n",
    "        self.max_iter=max_iter #number of epochs\n",
    "        self.batch_size=batch_size\n",
    "        self.penalty=penalty #either 'l1' or 'l2'\n",
    "        self.alpha=alpha #amount of regularization to apply\n",
    "        \n",
    "    def fit(self,X,y):\n",
    "        self.coef=np.ones((X.shape[1],)) #Initial values\n",
    "        self.intercept=1 #Initial value\n",
    "        if self.penalty=='l1':\n",
    "            penalty_grad=lambda x:2*(x>0)-1\n",
    "        elif self.penalty=='l2':\n",
    "            penalty_grad=lambda x:x\n",
    "        indices=np.arange(len(X))\n",
    "        for i in range(self.max_iter):\n",
    "            np.random.seed(i) #Just so everyone gets the same answer!\n",
    "            np.random.shuffle(indices)\n",
    "            X_shuffle=X[indices] \n",
    "            y_shuffle=y[indices] \n",
    "            for j in range(0,len(X),self.batch_size):\n",
    "                X_batch=X_shuffle[j:j+self.batch_size]\n",
    "                y_batch=y_shuffle[j:j+self.batch_size]\n",
    "                # sig_res = 1/(1 + np.exp(-self.predict_proba(X_batch)))\n",
    "                residuals= self.predict_proba(X_batch)[1] - y_batch        # sigmoid(T_i) - y_i label, where T is the \n",
    "                coef_grad=(X_batch.T)@residuals/len(X_batch)\n",
    "                intercept_grad=np.mean(residuals)\n",
    "                self.coef-=self.lr*coef_grad+self.alpha*penalty_grad(self.coef)\n",
    "                self.intercept-=self.lr*intercept_grad+self.alpha*penalty_grad(self.intercept)\n",
    "            \n",
    "    def predict_proba(self,X):\n",
    "        '''returns the predicted probabilites that each x in X\n",
    "        is in the \"True\" class'''\n",
    "        T = X @ self.coef + self.intercept\n",
    "        return 1. / (1. + np.exp(-T))\n",
    "    \n",
    "    def predict(self,X):\n",
    "        '''returns a prediction, for each x in X, that the class\n",
    "        is \"True\".'''\n",
    "        # pred = X@self.coef + self.intercept\n",
    "        # # print(pred > 0.5)\n",
    "        # return pred > 0.5\n",
    "        probs = self.predict_proba(X)\n",
    "        return probs > 0.5\n",
    "    \n",
    "    def score(self,X,y): \n",
    "        '''returns accuracy of the model'''\n",
    "        predictions = self.predict(X)\n",
    "        return np.sum((predictions == y))/X.shape[0]\n",
    "\n",
    "\n",
    "    def NegLogLoss(self,X,y): #Not a sklearn method!\n",
    "        '''returns the negative of the mean Log Loss'''\n",
    "        sig_res = self.predict_proba(X)\n",
    "        # print(T)\n",
    "        # sig_res = 1. /(1. + np.exp(-T))\n",
    "        return  -np.mean(y * np.log(sig_res) + (1-y)*(np.log(1-sig_res)))"
   ]
  },
  {
   "cell_type": "markdown",
   "id": "1f30a783",
   "metadata": {},
   "source": [
    "We're now ready to test your code. We import the iris dataset, construct a feature matrix from the Petal Length and Petal Width columns, and target truth values depending on whether the species is virginica:"
   ]
  },
  {
   "cell_type": "code",
   "execution_count": 13,
   "id": "e78d76ca",
   "metadata": {},
   "outputs": [],
   "source": [
    "iris=(pd.read_csv('https://vincentarelbundock.github.io/Rdatasets/csv/datasets/iris.csv',index_col=0))\n",
    "X=np.array(iris[['Petal.Length','Petal.Width']])\n",
    "y=np.array(iris['Species']=='virginica')"
   ]
  },
  {
   "cell_type": "markdown",
   "id": "0d41c40e",
   "metadata": {},
   "source": [
    "Now, create a Logistic Regression model which will train for 2000 epochs, using batches of size 10, and a learning rate of 0.01. Do not use any regularization."
   ]
  },
  {
   "cell_type": "code",
   "execution_count": 14,
   "id": "a4a30b76",
   "metadata": {},
   "outputs": [],
   "source": [
    "log_mod= LogisticRegression(batch_size=10, learning_rate=0.01, max_iter=2000, alpha=0)"
   ]
  },
  {
   "cell_type": "markdown",
   "id": "04f66af9",
   "metadata": {},
   "source": [
    "Fit your model to `X` and `y`."
   ]
  },
  {
   "cell_type": "code",
   "execution_count": 15,
   "id": "b9bedfaf",
   "metadata": {},
   "outputs": [],
   "source": [
    "log_mod.fit(X, y)"
   ]
  },
  {
   "cell_type": "markdown",
   "id": "8c94b116",
   "metadata": {},
   "source": [
    "Check the accuracy of your model:"
   ]
  },
  {
   "cell_type": "code",
   "execution_count": 16,
   "id": "9498aaf3",
   "metadata": {},
   "outputs": [
    {
     "data": {
      "text/plain": [
       "0.8533333333333334"
      ]
     },
     "execution_count": 16,
     "metadata": {},
     "output_type": "execute_result"
    }
   ],
   "source": [
    "accuracy= log_mod.score(X,y)\n",
    "accuracy"
   ]
  },
  {
   "cell_type": "markdown",
   "id": "255d1b9c",
   "metadata": {},
   "source": [
    "Check the negative of the mean Log Loss:"
   ]
  },
  {
   "cell_type": "code",
   "execution_count": 17,
   "id": "8ec37685",
   "metadata": {},
   "outputs": [
    {
     "data": {
      "text/plain": [
       "array([1.57951597e-15, 1.57951597e-15, 1.30043320e-15, 1.91849200e-15,\n",
       "       1.57951597e-15, 3.70574115e-13, 1.80736385e-14, 1.91849200e-15,\n",
       "       1.57951597e-15, 1.67663459e-16, 1.91849200e-15, 2.33021485e-15,\n",
       "       1.38039205e-16, 7.70361432e-17, 1.07066123e-15, 2.51190457e-13,\n",
       "       1.70267277e-13, 1.80736385e-14, 3.23857164e-14, 2.19523776e-14,\n",
       "       2.83029652e-15, 2.51190457e-13, 7.25738447e-16, 4.24030066e-12,\n",
       "       4.17545571e-15, 2.33021485e-15, 3.05097822e-13, 1.91849200e-15,\n",
       "       1.57951597e-15, 2.33021485e-15, 2.33021485e-15, 2.51190457e-13,\n",
       "       1.67663459e-16, 1.57951597e-15, 1.91849200e-15, 1.07066123e-15,\n",
       "       1.30043320e-15, 1.38039205e-16, 1.30043320e-15, 1.91849200e-15,\n",
       "       1.48802292e-14, 1.48802292e-14, 1.30043320e-15, 3.99468235e-11,\n",
       "       5.46697420e-13, 1.80736385e-14, 2.33021485e-15, 1.57951597e-15,\n",
       "       1.91849200e-15, 1.57951597e-15, 8.29525385e-01, 9.74187911e-01,\n",
       "       9.87972336e-01, 9.83214600e-02, 9.78651253e-01, 2.23756005e-01,\n",
       "       9.98432867e-01, 1.86625919e-05, 2.59323106e-01, 5.06724401e-01,\n",
       "       2.75321453e-05, 9.54674396e-01, 7.27780245e-05, 8.29525385e-01,\n",
       "       4.77113081e-02, 7.30862763e-01, 9.74187911e-01, 8.83953565e-05,\n",
       "       9.74187911e-01, 6.85203840e-04, 9.99990130e-01, 9.83214600e-02,\n",
       "       9.87972336e-01, 3.58326749e-02, 1.63453615e-01, 7.30862763e-01,\n",
       "       8.55287459e-01, 9.99923454e-01, 9.74187911e-01, 2.75321453e-05,\n",
       "       5.64204308e-04, 4.06168570e-05, 7.78475479e-03, 9.99279341e-01,\n",
       "       9.74187911e-01, 9.97689775e-01, 9.82356785e-01, 1.91803825e-01,\n",
       "       1.16954191e-01, 9.83214600e-02, 2.03190577e-02, 8.00248195e-01,\n",
       "       9.43965133e-03, 1.86625919e-05, 1.38575306e-01, 1.38638496e-02,\n",
       "       1.38575306e-01, 1.63453615e-01, 1.19163147e-04, 1.16954191e-01,\n",
       "       1.00000000e+00, 9.99999519e-01, 9.99999999e-01, 9.99997916e-01,\n",
       "       1.00000000e+00, 1.00000000e+00, 9.99797675e-01, 9.99999466e-01,\n",
       "       9.99998588e-01, 1.00000000e+00, 9.99999958e-01, 9.99999674e-01,\n",
       "       9.99999998e-01, 9.99999949e-01, 1.00000000e+00, 1.00000000e+00,\n",
       "       9.99997469e-01, 1.00000000e+00, 1.00000000e+00, 9.90076400e-01,\n",
       "       1.00000000e+00, 9.99999938e-01, 9.99999998e-01, 9.99991874e-01,\n",
       "       9.99999999e-01, 9.99999043e-01, 9.99990130e-01, 9.99991874e-01,\n",
       "       9.99999999e-01, 9.99815111e-01, 9.99999931e-01, 9.99999997e-01,\n",
       "       1.00000000e+00, 9.91815438e-01, 9.65512310e-01, 1.00000000e+00,\n",
       "       1.00000000e+00, 9.99997469e-01, 9.99990130e-01, 9.99999998e-01,\n",
       "       1.00000000e+00, 1.00000000e+00, 9.99999519e-01, 1.00000000e+00,\n",
       "       1.00000000e+00, 1.00000000e+00, 9.99999415e-01, 9.99999965e-01,\n",
       "       1.00000000e+00, 9.99994492e-01])"
      ]
     },
     "execution_count": 17,
     "metadata": {},
     "output_type": "execute_result"
    }
   ],
   "source": [
    "neglogloss= log_mod.NegLogLoss(X,y)\n",
    "neglogloss"
   ]
  },
  {
   "cell_type": "markdown",
   "id": "656bad5c",
   "metadata": {},
   "source": [
    "To see the \"decision boundary\" between where your model will predict virginica (in blue) vs the other species, run the following code block:"
   ]
  },
  {
   "cell_type": "code",
   "execution_count": 18,
   "id": "c99cbffb",
   "metadata": {
    "scrolled": true
   },
   "outputs": [
    {
     "data": {
      "text/plain": [
       "[<matplotlib.lines.Line2D at 0x14eed50a0>]"
      ]
     },
     "execution_count": 18,
     "metadata": {},
     "output_type": "execute_result"
    },
    {
     "data": {
      "image/png": "[encoded data removed]",
      "text/plain": [
       "<Figure size 640x480 with 1 Axes>"
      ]
     },
     "metadata": {},
     "output_type": "display_data"
    }
   ],
   "source": [
    "def func(x):\n",
    "  m=-log_mod.coef[0]/log_mod.coef[1]\n",
    "  b=-log_mod.intercept/log_mod.coef[1]\n",
    "  return m*x+b\n",
    "\n",
    "cdict={'versicolor':'r','setosa':'g','virginica':'b'}\n",
    "colors=iris.apply(lambda x:cdict[x.Species],axis=1)\n",
    "\n",
    "plt.scatter(X[:,0],X[:,1],c=colors)\n",
    "plt.plot(X[:,0],func(X[:,0]))"
   ]
  },
  {
   "cell_type": "code",
   "execution_count": null,
   "id": "72392ea5",
   "metadata": {},
   "outputs": [],
   "source": []
  }
 ],
 "metadata": {
  "kernelspec": {
   "display_name": "base",
   "language": "python",
   "name": "python3"
  },
  "language_info": {
   "codemirror_mode": {
    "name": "ipython",
    "version": 3
   },
   "file_extension": ".py",
   "mimetype": "text/x-python",
   "name": "python",
   "nbconvert_exporter": "python",
   "pygments_lexer": "ipython3",
   "version": "3.12.7"
  }
 },
 "nbformat": 4,
 "nbformat_minor": 5
}
