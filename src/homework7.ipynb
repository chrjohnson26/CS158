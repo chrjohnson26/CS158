{
 "cells": [
  {
   "cell_type": "markdown",
   "metadata": {
    "id": "YBUUNARsA6fv"
   },
   "source": [
    "**Homework 7**"
   ]
  },
  {
   "cell_type": "code",
   "execution_count": 2,
   "metadata": {
    "executionInfo": {
     "elapsed": 2732,
     "status": "ok",
     "timestamp": 1695746954123,
     "user": {
      "displayName": "David Bachman",
      "userId": "02952839939203243924"
     },
     "user_tz": 420
    },
    "id": "yQGriOppA32Z"
   },
   "outputs": [],
   "source": [
    "import pandas as pd\n",
    "import numpy as np\n",
    "import matplotlib.pyplot as plt"
   ]
  },
  {
   "cell_type": "markdown",
   "metadata": {},
   "source": [
    "In this assignment we'll look at the classic \"cars\" dataset. You can read about it here:\n",
    "[link](https://vincentarelbundock.github.io/Rdatasets/doc/causaldata/auto.html)"
   ]
  },
  {
   "cell_type": "code",
   "execution_count": 4,
   "metadata": {},
   "outputs": [
    {
     "data": {
      "text/html": [
       "<div>\n",
       "<style scoped>\n",
       "    .dataframe tbody tr th:only-of-type {\n",
       "        vertical-align: middle;\n",
       "    }\n",
       "\n",
       "    .dataframe tbody tr th {\n",
       "        vertical-align: top;\n",
       "    }\n",
       "\n",
       "    .dataframe thead th {\n",
       "        text-align: right;\n",
       "    }\n",
       "</style>\n",
       "<table border=\"1\" class=\"dataframe\">\n",
       "  <thead>\n",
       "    <tr style=\"text-align: right;\">\n",
       "      <th></th>\n",
       "      <th>rownames</th>\n",
       "      <th>make</th>\n",
       "      <th>price</th>\n",
       "      <th>mpg</th>\n",
       "      <th>rep78</th>\n",
       "      <th>headroom</th>\n",
       "      <th>trunk</th>\n",
       "      <th>weight</th>\n",
       "      <th>length</th>\n",
       "      <th>turn</th>\n",
       "      <th>displacement</th>\n",
       "      <th>gear_ratio</th>\n",
       "      <th>foreign</th>\n",
       "    </tr>\n",
       "  </thead>\n",
       "  <tbody>\n",
       "    <tr>\n",
       "      <th>0</th>\n",
       "      <td>1</td>\n",
       "      <td>AMC Concord</td>\n",
       "      <td>4099</td>\n",
       "      <td>22</td>\n",
       "      <td>3.0</td>\n",
       "      <td>2.5</td>\n",
       "      <td>11</td>\n",
       "      <td>2930</td>\n",
       "      <td>186</td>\n",
       "      <td>40</td>\n",
       "      <td>121</td>\n",
       "      <td>3.58</td>\n",
       "      <td>0</td>\n",
       "    </tr>\n",
       "    <tr>\n",
       "      <th>1</th>\n",
       "      <td>2</td>\n",
       "      <td>AMC Pacer</td>\n",
       "      <td>4749</td>\n",
       "      <td>17</td>\n",
       "      <td>3.0</td>\n",
       "      <td>3.0</td>\n",
       "      <td>11</td>\n",
       "      <td>3350</td>\n",
       "      <td>173</td>\n",
       "      <td>40</td>\n",
       "      <td>258</td>\n",
       "      <td>2.53</td>\n",
       "      <td>0</td>\n",
       "    </tr>\n",
       "    <tr>\n",
       "      <th>2</th>\n",
       "      <td>3</td>\n",
       "      <td>AMC Spirit</td>\n",
       "      <td>3799</td>\n",
       "      <td>22</td>\n",
       "      <td>NaN</td>\n",
       "      <td>3.0</td>\n",
       "      <td>12</td>\n",
       "      <td>2640</td>\n",
       "      <td>168</td>\n",
       "      <td>35</td>\n",
       "      <td>121</td>\n",
       "      <td>3.08</td>\n",
       "      <td>0</td>\n",
       "    </tr>\n",
       "  </tbody>\n",
       "</table>\n",
       "</div>"
      ],
      "text/plain": [
       "   rownames         make  price  mpg  rep78  headroom  trunk  weight  length  \\\n",
       "0         1  AMC Concord   4099   22    3.0       2.5     11    2930     186   \n",
       "1         2    AMC Pacer   4749   17    3.0       3.0     11    3350     173   \n",
       "2         3   AMC Spirit   3799   22    NaN       3.0     12    2640     168   \n",
       "\n",
       "   turn  displacement  gear_ratio  foreign  \n",
       "0    40           121        3.58        0  \n",
       "1    40           258        2.53        0  \n",
       "2    35           121        3.08        0  "
      ]
     },
     "execution_count": 4,
     "metadata": {},
     "output_type": "execute_result"
    }
   ],
   "source": [
    "cars=pd.read_csv('https://vincentarelbundock.github.io/Rdatasets/csv/causaldata/auto.csv')\n",
    "cars.head(3)"
   ]
  },
  {
   "cell_type": "markdown",
   "metadata": {},
   "source": [
    "At first, we'll just focus on finding a relationship between the `displacement` and `mpg` columns. "
   ]
  },
  {
   "cell_type": "code",
   "execution_count": 6,
   "metadata": {},
   "outputs": [],
   "source": [
    "disp=np.array(cars.displacement)\n",
    "mpg=np.array(cars.mpg)"
   ]
  },
  {
   "cell_type": "markdown",
   "metadata": {},
   "source": [
    "Let's take a look at them:"
   ]
  },
  {
   "cell_type": "code",
   "execution_count": 8,
   "metadata": {},
   "outputs": [
    {
     "data": {
      "text/plain": [
       "Text(0, 0.5, 'MPG')"
      ]
     },
     "execution_count": 8,
     "metadata": {},
     "output_type": "execute_result"
    },
    {
     "data": {
      "image/png": "[encoded data removed]",
      "text/plain": [
       "<Figure size 640x480 with 1 Axes>"
      ]
     },
     "metadata": {},
     "output_type": "display_data"
    }
   ],
   "source": [
    "plt.scatter(disp, mpg)\n",
    "plt.xlabel('Displacement')\n",
    "plt.ylabel('MPG')"
   ]
  },
  {
   "cell_type": "markdown",
   "metadata": {},
   "source": [
    "Problem 1.\n",
    "\n",
    "Create a class that finds a linear model describing the relationship between arrays `X` and `y` (you may assume each are 1-dimensional). This model should be created using only the highest and lowest values in `X`, and the corresponding values in `y`.   "
   ]
  },
  {
   "cell_type": "code",
   "execution_count": 10,
   "metadata": {},
   "outputs": [
    {
     "name": "stdout",
     "output_type": "stream",
     "text": [
      "[121 258 121 196 350 231 304 196 231 231 425 350 350 231 250 200 200 151\n",
      " 250  98 318 318 225  98 140 400 400 302 140 302 302 250 302 140 350 231\n",
      " 231 231 231 151 350 156  86 105 119 225 231 231 231 231 231 151 131  97\n",
      " 121 119  85 119 146 105 107  91  86 163  79  97 134  97 134  97  90  89\n",
      "  97 163]\n",
      "[79, 85, 86, 86, 89, 90, 91, 97, 97, 97, 97, 97, 98, 98, 105, 105, 107, 119, 119, 119, 121, 121, 121, 131, 134, 134, 140, 140, 140, 146, 151, 151, 151, 156, 163, 163, 196, 196, 200, 200, 225, 225, 231, 231, 231, 231, 231, 231, 231, 231, 231, 231, 231, 231, 231, 250, 250, 250, 258, 302, 302, 302, 302, 304, 318, 318, 350, 350, 350, 350, 350, 400, 400, 425]\n"
     ]
    }
   ],
   "source": [
    "print(disp)\n",
    "print(sorted(disp))\n",
    "\n"
   ]
  },
  {
   "cell_type": "code",
   "execution_count": 11,
   "metadata": {},
   "outputs": [],
   "source": [
    "class MaxMinLinearRegression():\n",
    "    def __init__(self):\n",
    "        '''No init function needed,\n",
    "        since there are no hyperparameters'''\n",
    "        pass\n",
    "    \n",
    "    def fit(self,X,y): \n",
    "        '''stores the slope and intercept \n",
    "        for the model defined by X and y'''\n",
    "        max_i = np.argmax(X)\n",
    "        min_i = np.argmin(X)\n",
    "\n",
    "        self.coef= (y[max_i] - y[min_i]) /(X[max_i] - X[min_i])\n",
    "        # y = mx + b ======> b = mx/y\n",
    "        # solve for b when x = 0\n",
    "        self.intercept= y[min_i] - self.coef * X[min_i] # np.argmin is the index of the smallest x value\n",
    "        \n",
    "    def predict(self,x):\n",
    "        return x * self.coef + self.intercept"
   ]
  },
  {
   "cell_type": "markdown",
   "metadata": {},
   "source": [
    "If you did this problem correctly, the following code will create a linear model that can predict `mpg` from `disp`. "
   ]
  },
  {
   "cell_type": "code",
   "execution_count": 13,
   "metadata": {},
   "outputs": [],
   "source": [
    "lin_mod1=MaxMinLinearRegression()\n",
    "lin_mod1.fit(disp,mpg)"
   ]
  },
  {
   "cell_type": "markdown",
   "metadata": {},
   "source": [
    "To use your model to predict the `mpg` of an unknown car with `disp=200`, you would run this code:"
   ]
  },
  {
   "cell_type": "code",
   "execution_count": 15,
   "metadata": {},
   "outputs": [
    {
     "data": {
      "text/plain": [
       "21.803468208092486"
      ]
     },
     "execution_count": 15,
     "metadata": {},
     "output_type": "execute_result"
    }
   ],
   "source": [
    "lin_mod1.predict(200)"
   ]
  },
  {
   "cell_type": "markdown",
   "metadata": {
    "id": "9HnnevowjorP"
   },
   "source": [
    "Run this to visualize your model's predictions, as compared to the actual:"
   ]
  },
  {
   "cell_type": "code",
   "execution_count": 17,
   "metadata": {
    "colab": {
     "base_uri": "https://localhost:8080/",
     "height": 467
    },
    "executionInfo": {
     "elapsed": 275,
     "status": "ok",
     "timestamp": 1695746955169,
     "user": {
      "displayName": "David Bachman",
      "userId": "02952839939203243924"
     },
     "user_tz": 420
    },
    "id": "TPsGA_PObcKU",
    "outputId": "ad4627bc-c0ab-46db-fcce-35c8ffde2c7f"
   },
   "outputs": [
    {
     "data": {
      "text/plain": [
       "Text(0, 0.5, 'MPG')"
      ]
     },
     "execution_count": 17,
     "metadata": {},
     "output_type": "execute_result"
    },
    {
     "data": {
      "image/png": "[encoded data removed]",
      "text/plain": [
       "<Figure size 640x480 with 1 Axes>"
      ]
     },
     "metadata": {},
     "output_type": "display_data"
    }
   ],
   "source": [
    "plt.scatter(disp,mpg)\n",
    "plt.plot(disp,lin_mod1.predict(disp),'-r')\n",
    "plt.xlabel('Displacement')\n",
    "plt.ylabel('MPG')"
   ]
  },
  {
   "cell_type": "markdown",
   "metadata": {
    "id": "5mic_-7GTshN"
   },
   "source": [
    "Calculate the RSS of `lin_mod1`."
   ]
  },
  {
   "cell_type": "code",
   "execution_count": 19,
   "metadata": {
    "executionInfo": {
     "elapsed": 8,
     "status": "ok",
     "timestamp": 1695746955169,
     "user": {
      "displayName": "David Bachman",
      "userId": "02952839939203243924"
     },
     "user_tz": 420
    },
    "id": "E9_hQ-4cTldE"
   },
   "outputs": [
    {
     "data": {
      "text/plain": [
       "1312.203548397875"
      ]
     },
     "execution_count": 19,
     "metadata": {},
     "output_type": "execute_result"
    }
   ],
   "source": [
    "preds = lin_mod1.predict(disp)\n",
    "RSS1= np.sum((mpg - preds)**2)\n",
    "RSS1"
   ]
  },
  {
   "cell_type": "markdown",
   "metadata": {
    "id": "-du_wfdmTSHG"
   },
   "source": [
    "Problem 2.\n",
    "\n",
    "Create a class that finds a linear model describing the relationship between an array `X` of shape (num_observations,num_features) and a 1-dimensional array `y`, that minimizes the RSS. "
   ]
  },
  {
   "cell_type": "code",
   "execution_count": 21,
   "metadata": {},
   "outputs": [],
   "source": [
    "class LinearRegression():\n",
    "    def __init__(self):\n",
    "        pass\n",
    "    \n",
    "    def fit(self,X,y): \n",
    "        '''stores the slope and intercept \n",
    "        for the model defined by X and y'''\n",
    "        # In lecture we found that the coefficients equivalent to (X.tX)^-1 (X.Ty)\n",
    "        # Feature engineering for the constant using the np.c_ function to add a column on the end of X\n",
    "        newX = np.c_[np.ones(X.shape[0]), X]\n",
    "        normal_eq = np.linalg.inv(newX.T @ newX) @ (newX.T @ y)\n",
    "        print(normal_eq)\n",
    "        self.intercept= normal_eq[0]\n",
    "        self.coef= normal_eq[1 :]\n",
    "        print(self.intercept, self.coef)\n",
    "    def predict(self,x):\n",
    "        '''x is expected to have shape \n",
    "        (num_test_obs,num_feats)'''\n",
    "        # x = x[0]\n",
    "        print(x)\n",
    "        print(self.coef)\n",
    "        # print(self.intercept)     \n",
    "        print(type(x))\n",
    "        print(type(self.coef))   \n",
    "        return x @ self.coef + self.intercept"
   ]
  },
  {
   "cell_type": "markdown",
   "metadata": {},
   "source": [
    "To build a model to predict `mpg` from `disp`, we'll have to convert `disp` into an array of the correct shape:"
   ]
  },
  {
   "cell_type": "code",
   "execution_count": 23,
   "metadata": {},
   "outputs": [],
   "source": [
    "X=disp[:,np.newaxis]"
   ]
  },
  {
   "cell_type": "markdown",
   "metadata": {},
   "source": [
    "We now build the model, and fit it to the data:"
   ]
  },
  {
   "cell_type": "code",
   "execution_count": 25,
   "metadata": {},
   "outputs": [
    {
     "name": "stdout",
     "output_type": "stream",
     "text": [
      "[30.06787772 -0.04445363]\n",
      "30.067877717529203 [-0.04445363]\n"
     ]
    }
   ],
   "source": [
    "lin_mod2=LinearRegression()\n",
    "lin_mod2.fit(X,mpg)"
   ]
  },
  {
   "cell_type": "markdown",
   "metadata": {},
   "source": [
    "To use this model to make a prediction on an unknown car with `disp=200`, you'll need to feed that value in as an array, rather than a single number."
   ]
  },
  {
   "cell_type": "code",
   "execution_count": 27,
   "metadata": {},
   "outputs": [
    {
     "name": "stdout",
     "output_type": "stream",
     "text": [
      "[200]\n",
      "[-0.04445363]\n",
      "<class 'list'>\n",
      "<class 'numpy.ndarray'>\n"
     ]
    },
    {
     "data": {
      "text/plain": [
       "21.177152360033844"
      ]
     },
     "execution_count": 27,
     "metadata": {},
     "output_type": "execute_result"
    }
   ],
   "source": [
    "# lin_mod2.predict(200)\n",
    "lin_mod2.predict([200]) #Do this instead\n"
   ]
  },
  {
   "cell_type": "markdown",
   "metadata": {
    "id": "--tkF41Qlnk9"
   },
   "source": [
    "Run this code to visualize your model. Does it look better than the previous model?"
   ]
  },
  {
   "cell_type": "code",
   "execution_count": 29,
   "metadata": {
    "colab": {
     "base_uri": "https://localhost:8080/",
     "height": 467
    },
    "executionInfo": {
     "elapsed": 669,
     "status": "ok",
     "timestamp": 1695746956055,
     "user": {
      "displayName": "David Bachman",
      "userId": "02952839939203243924"
     },
     "user_tz": 420
    },
    "id": "18O1d8f_elM2",
    "outputId": "ac9a9dd1-75a9-491b-e243-730c01d78909",
    "scrolled": true
   },
   "outputs": [
    {
     "name": "stdout",
     "output_type": "stream",
     "text": [
      "[[121]\n",
      " [258]\n",
      " [121]\n",
      " [196]\n",
      " [350]\n",
      " [231]\n",
      " [304]\n",
      " [196]\n",
      " [231]\n",
      " [231]\n",
      " [425]\n",
      " [350]\n",
      " [350]\n",
      " [231]\n",
      " [250]\n",
      " [200]\n",
      " [200]\n",
      " [151]\n",
      " [250]\n",
      " [ 98]\n",
      " [318]\n",
      " [318]\n",
      " [225]\n",
      " [ 98]\n",
      " [140]\n",
      " [400]\n",
      " [400]\n",
      " [302]\n",
      " [140]\n",
      " [302]\n",
      " [302]\n",
      " [250]\n",
      " [302]\n",
      " [140]\n",
      " [350]\n",
      " [231]\n",
      " [231]\n",
      " [231]\n",
      " [231]\n",
      " [151]\n",
      " [350]\n",
      " [156]\n",
      " [ 86]\n",
      " [105]\n",
      " [119]\n",
      " [225]\n",
      " [231]\n",
      " [231]\n",
      " [231]\n",
      " [231]\n",
      " [231]\n",
      " [151]\n",
      " [131]\n",
      " [ 97]\n",
      " [121]\n",
      " [119]\n",
      " [ 85]\n",
      " [119]\n",
      " [146]\n",
      " [105]\n",
      " [107]\n",
      " [ 91]\n",
      " [ 86]\n",
      " [163]\n",
      " [ 79]\n",
      " [ 97]\n",
      " [134]\n",
      " [ 97]\n",
      " [134]\n",
      " [ 97]\n",
      " [ 90]\n",
      " [ 89]\n",
      " [ 97]\n",
      " [163]]\n",
      "[-0.04445363]\n",
      "<class 'numpy.ndarray'>\n",
      "<class 'numpy.ndarray'>\n"
     ]
    },
    {
     "data": {
      "text/plain": [
       "Text(0, 0.5, 'MPG')"
      ]
     },
     "execution_count": 29,
     "metadata": {},
     "output_type": "execute_result"
    },
    {
     "data": {
      "image/png": "[encoded data removed]",
      "text/plain": [
       "<Figure size 640x480 with 1 Axes>"
      ]
     },
     "metadata": {},
     "output_type": "display_data"
    }
   ],
   "source": [
    "plt.scatter(disp,mpg)\n",
    "plt.plot(disp,lin_mod2.predict(X),'-r')\n",
    "plt.xlabel('Displacement')\n",
    "plt.ylabel('MPG')"
   ]
  },
  {
   "cell_type": "markdown",
   "metadata": {
    "id": "j8zURz07UMXm"
   },
   "source": [
    "Calculate the RSS of `lin_mod2`."
   ]
  },
  {
   "cell_type": "code",
   "execution_count": 31,
   "metadata": {
    "executionInfo": {
     "elapsed": 5,
     "status": "ok",
     "timestamp": 1695746956056,
     "user": {
      "displayName": "David Bachman",
      "userId": "02952839939203243924"
     },
     "user_tz": 420
    },
    "id": "8_QP0SfSUWir"
   },
   "outputs": [
    {
     "name": "stdout",
     "output_type": "stream",
     "text": [
      "[[121]\n",
      " [258]\n",
      " [121]\n",
      " [196]\n",
      " [350]\n",
      " [231]\n",
      " [304]\n",
      " [196]\n",
      " [231]\n",
      " [231]\n",
      " [425]\n",
      " [350]\n",
      " [350]\n",
      " [231]\n",
      " [250]\n",
      " [200]\n",
      " [200]\n",
      " [151]\n",
      " [250]\n",
      " [ 98]\n",
      " [318]\n",
      " [318]\n",
      " [225]\n",
      " [ 98]\n",
      " [140]\n",
      " [400]\n",
      " [400]\n",
      " [302]\n",
      " [140]\n",
      " [302]\n",
      " [302]\n",
      " [250]\n",
      " [302]\n",
      " [140]\n",
      " [350]\n",
      " [231]\n",
      " [231]\n",
      " [231]\n",
      " [231]\n",
      " [151]\n",
      " [350]\n",
      " [156]\n",
      " [ 86]\n",
      " [105]\n",
      " [119]\n",
      " [225]\n",
      " [231]\n",
      " [231]\n",
      " [231]\n",
      " [231]\n",
      " [231]\n",
      " [151]\n",
      " [131]\n",
      " [ 97]\n",
      " [121]\n",
      " [119]\n",
      " [ 85]\n",
      " [119]\n",
      " [146]\n",
      " [105]\n",
      " [107]\n",
      " [ 91]\n",
      " [ 86]\n",
      " [163]\n",
      " [ 79]\n",
      " [ 97]\n",
      " [134]\n",
      " [ 97]\n",
      " [134]\n",
      " [ 97]\n",
      " [ 90]\n",
      " [ 89]\n",
      " [ 97]\n",
      " [163]]\n",
      "[-0.04445363]\n",
      "<class 'numpy.ndarray'>\n",
      "<class 'numpy.ndarray'>\n",
      "[24.68898888 18.59884201 24.68898888 21.35496687 14.50910834 19.79908993\n",
      " 16.55397517 21.35496687 19.79908993 19.79908993 11.17508633 14.50910834\n",
      " 14.50910834 19.79908993 18.95447102 21.17715236 21.17715236 23.35538007\n",
      " 18.95447102 25.71142229 15.9316244  15.9316244  20.06581169 25.71142229\n",
      " 23.84436997 12.286427   12.286427   16.64288243 23.84436997 16.64288243\n",
      " 16.64288243 18.95447102 16.64288243 23.84436997 14.50910834 19.79908993\n",
      " 19.79908993 19.79908993 19.79908993 23.35538007 14.50910834 23.13311194\n",
      " 26.24486581 25.4002469  24.77789613 20.06581169 19.79908993 19.79908993\n",
      " 19.79908993 19.79908993 19.79908993 23.35538007 24.24445261 25.75587592\n",
      " 24.68898888 24.77789613 26.28931944 24.77789613 23.57764821 25.4002469\n",
      " 25.31133965 26.02259768 26.24486581 22.82193655 26.5560412  25.75587592\n",
      " 24.11109173 25.75587592 24.11109173 25.75587592 26.06705131 26.11150493\n",
      " 25.75587592 22.82193655]\n",
      "[22 17 22 20 15 18 26 20 16 19 14 14 21 29 16 22 22 24 19 30 18 16 17 28\n",
      " 21 12 12 14 22 14 15 18 14 20 21 19 19 18 19 24 16 28 34 25 26 18 18 18\n",
      " 19 19 19 24 17 23 25 23 35 24 21 21 25 28 30 14 26 35 18 31 18 23 41 25\n",
      " 25 17]\n",
      "[7.23066118e+00 2.55629576e+00 7.23066118e+00 1.83593521e+00\n",
      " 2.40974620e-01 3.23672457e+00 8.92273850e+01 1.83593521e+00\n",
      " 1.44330843e+01 6.38544716e-01 7.98013723e+00 2.59191304e-01\n",
      " 4.21316745e+01 8.46567461e+01 8.72889901e+00 6.77078239e-01\n",
      " 6.77078239e-01 4.15534851e-01 2.07288796e-03 1.83918988e+01\n",
      " 4.27817763e+00 4.67522280e-03 9.39920132e+00 5.23758792e+00\n",
      " 8.09044051e+00 8.20404278e-02 8.20404278e-02 6.98482753e+00\n",
      " 3.40170058e+00 6.98482753e+00 2.69906267e+00 9.11014929e-01\n",
      " 6.98482753e+00 1.47791804e+01 4.21316745e+01 6.38544716e-01\n",
      " 6.38544716e-01 3.23672457e+00 6.38544716e-01 4.15534851e-01\n",
      " 2.22275794e+00 2.36865994e+01 6.01421062e+01 1.60197585e-01\n",
      " 1.49353787e+00 4.26757794e+00 3.23672457e+00 3.23672457e+00\n",
      " 6.38544716e-01 6.38544716e-01 6.38544716e-01 4.15534851e-01\n",
      " 5.24820936e+01 7.59485208e+00 9.67279191e-02 3.16091465e+00\n",
      " 7.58759558e+01 6.05122389e-01 6.64427028e+00 1.93621728e+01\n",
      " 9.69323785e-02 3.91011994e+00 1.41010328e+01 7.78265645e+01\n",
      " 3.09181818e-01 8.54538300e+01 3.73454421e+01 2.75008374e+01\n",
      " 3.73454421e+01 7.59485208e+00 2.22992957e+02 1.23544322e+00\n",
      " 5.71348405e-01 3.38949452e+01]\n",
      "(74,)\n"
     ]
    },
    {
     "data": {
      "text/plain": [
       "1226.7841189255553"
      ]
     },
     "execution_count": 31,
     "metadata": {},
     "output_type": "execute_result"
    }
   ],
   "source": [
    "linmod2_preds = lin_mod2.predict(X)\n",
    "print(linmod2_preds)\n",
    "print(mpg)\n",
    "print((mpg-linmod2_preds)**2)\n",
    "print(mpg.shape)\n",
    "RSS2=np.sum((mpg-linmod2_preds)**2)\n",
    "# RSS2=np.sum(np.square(mpg-linmod2_preds))\n",
    "\n",
    "RSS2"
   ]
  },
  {
   "cell_type": "markdown",
   "metadata": {
    "id": "vUre83IWUhJB"
   },
   "source": [
    "Problem 3.\n",
    "\n",
    "We'll now bring in more features to see if we can predict `mpg` more accurately:"
   ]
  },
  {
   "cell_type": "code",
   "execution_count": 33,
   "metadata": {},
   "outputs": [],
   "source": [
    "wt=np.array(cars.weight)\n",
    "gr=np.array(cars.gear_ratio)"
   ]
  },
  {
   "cell_type": "markdown",
   "metadata": {},
   "source": [
    "We build a feature matrix using displacement, weight, and gear ratio:"
   ]
  },
  {
   "cell_type": "code",
   "execution_count": 35,
   "metadata": {},
   "outputs": [],
   "source": [
    "DWG=np.array([disp,wt,gr]).T"
   ]
  },
  {
   "cell_type": "markdown",
   "metadata": {},
   "source": [
    "Now create a new linear model to predict `mpg` from the feature matrix `DWG`."
   ]
  },
  {
   "cell_type": "code",
   "execution_count": 37,
   "metadata": {},
   "outputs": [
    {
     "name": "stdout",
     "output_type": "stream",
     "text": [
      "[ 3.75641063e+01  7.68600286e-03 -6.53381885e-03  6.45257631e-01]\n",
      "37.56410628437516 [ 0.007686   -0.00653382  0.64525763]\n"
     ]
    }
   ],
   "source": [
    "lin_mod3= LinearRegression()\n",
    "lin_mod3.fit(DWG, mpg)"
   ]
  },
  {
   "cell_type": "markdown",
   "metadata": {},
   "source": [
    "Predict the `mpg` for a car with a displacement of 200, weight equal to 3000, and gear ratio 3."
   ]
  },
  {
   "cell_type": "code",
   "execution_count": 39,
   "metadata": {},
   "outputs": [
    {
     "name": "stdout",
     "output_type": "stream",
     "text": [
      "[200.0, 3000.0, 3.0]\n",
      "[ 0.007686   -0.00653382  0.64525763]\n",
      "<class 'list'>\n",
      "<class 'numpy.ndarray'>\n"
     ]
    },
    {
     "data": {
      "text/plain": [
       "21.435623192355855"
      ]
     },
     "execution_count": 39,
     "metadata": {},
     "output_type": "execute_result"
    }
   ],
   "source": [
    "prediction=lin_mod3.predict([200.,3000., 3.])\n",
    "prediction"
   ]
  },
  {
   "cell_type": "markdown",
   "metadata": {
    "id": "XzLh874dVIxR"
   },
   "source": [
    "Calculate the RSS of `better_mod`."
   ]
  },
  {
   "cell_type": "code",
   "execution_count": 41,
   "metadata": {
    "executionInfo": {
     "elapsed": 14,
     "status": "ok",
     "timestamp": 1695746957214,
     "user": {
      "displayName": "David Bachman",
      "userId": "02952839939203243924"
     },
     "user_tz": 420
    },
    "id": "puAk5AKJVRx-"
   },
   "outputs": [
    {
     "name": "stdout",
     "output_type": "stream",
     "text": [
      "[[1.21000000e+02 2.93000000e+03 3.57999992e+00]\n",
      " [2.58000000e+02 3.35000000e+03 2.52999997e+00]\n",
      " [1.21000000e+02 2.64000000e+03 3.07999992e+00]\n",
      " [1.96000000e+02 3.25000000e+03 2.93000007e+00]\n",
      " [3.50000000e+02 4.08000000e+03 2.41000009e+00]\n",
      " [2.31000000e+02 3.67000000e+03 2.73000002e+00]\n",
      " [3.04000000e+02 2.23000000e+03 2.86999989e+00]\n",
      " [1.96000000e+02 3.28000000e+03 2.93000007e+00]\n",
      " [2.31000000e+02 3.88000000e+03 2.93000007e+00]\n",
      " [2.31000000e+02 3.40000000e+03 3.07999992e+00]\n",
      " [4.25000000e+02 4.33000000e+03 2.27999997e+00]\n",
      " [3.50000000e+02 3.90000000e+03 2.19000006e+00]\n",
      " [3.50000000e+02 4.29000000e+03 2.24000001e+00]\n",
      " [2.31000000e+02 2.11000000e+03 2.93000007e+00]\n",
      " [2.50000000e+02 3.69000000e+03 2.55999994e+00]\n",
      " [2.00000000e+02 3.18000000e+03 2.73000002e+00]\n",
      " [2.00000000e+02 3.22000000e+03 2.73000002e+00]\n",
      " [1.51000000e+02 2.75000000e+03 2.73000002e+00]\n",
      " [2.50000000e+02 3.43000000e+03 2.55999994e+00]\n",
      " [9.80000000e+01 2.12000000e+03 3.53999996e+00]\n",
      " [3.18000000e+02 3.60000000e+03 2.47000003e+00]\n",
      " [3.18000000e+02 3.60000000e+03 2.47000003e+00]\n",
      " [2.25000000e+02 3.74000000e+03 2.94000006e+00]\n",
      " [9.80000000e+01 1.80000000e+03 3.15000010e+00]\n",
      " [1.40000000e+02 2.65000000e+03 3.07999992e+00]\n",
      " [4.00000000e+02 4.84000000e+03 2.47000003e+00]\n",
      " [4.00000000e+02 4.72000000e+03 2.47000003e+00]\n",
      " [3.02000000e+02 3.83000000e+03 2.47000003e+00]\n",
      " [1.40000000e+02 2.58000000e+03 2.73000002e+00]\n",
      " [3.02000000e+02 4.06000000e+03 2.75000000e+00]\n",
      " [3.02000000e+02 3.72000000e+03 2.25999999e+00]\n",
      " [2.50000000e+02 3.37000000e+03 2.43000007e+00]\n",
      " [3.02000000e+02 4.13000000e+03 2.75000000e+00]\n",
      " [1.40000000e+02 2.83000000e+03 3.07999992e+00]\n",
      " [3.50000000e+02 4.06000000e+03 2.41000009e+00]\n",
      " [2.31000000e+02 3.31000000e+03 2.93000007e+00]\n",
      " [2.31000000e+02 3.30000000e+03 2.93000007e+00]\n",
      " [2.31000000e+02 3.69000000e+03 2.73000002e+00]\n",
      " [2.31000000e+02 3.37000000e+03 3.07999992e+00]\n",
      " [1.51000000e+02 2.73000000e+03 2.73000002e+00]\n",
      " [3.50000000e+02 4.03000000e+03 2.41000009e+00]\n",
      " [1.56000000e+02 3.26000000e+03 3.04999995e+00]\n",
      " [8.60000000e+01 1.80000000e+03 2.97000003e+00]\n",
      " [1.05000000e+02 2.20000000e+03 3.36999989e+00]\n",
      " [1.19000000e+02 2.52000000e+03 3.53999996e+00]\n",
      " [2.25000000e+02 3.33000000e+03 3.23000002e+00]\n",
      " [2.31000000e+02 3.70000000e+03 2.73000002e+00]\n",
      " [2.31000000e+02 3.47000000e+03 3.07999992e+00]\n",
      " [2.31000000e+02 3.21000000e+03 2.93000007e+00]\n",
      " [2.31000000e+02 3.20000000e+03 2.93000007e+00]\n",
      " [2.31000000e+02 3.42000000e+03 3.07999992e+00]\n",
      " [1.51000000e+02 2.69000000e+03 2.73000002e+00]\n",
      " [1.31000000e+02 2.83000000e+03 3.20000005e+00]\n",
      " [9.70000000e+01 2.07000000e+03 3.70000005e+00]\n",
      " [1.21000000e+02 2.65000000e+03 3.64000010e+00]\n",
      " [1.19000000e+02 2.37000000e+03 3.89000010e+00]\n",
      " [8.50000000e+01 2.02000000e+03 3.70000005e+00]\n",
      " [1.19000000e+02 2.28000000e+03 3.53999996e+00]\n",
      " [1.46000000e+02 2.75000000e+03 3.54999995e+00]\n",
      " [1.05000000e+02 2.13000000e+03 3.36999989e+00]\n",
      " [1.07000000e+02 2.24000000e+03 3.04999995e+00]\n",
      " [9.10000000e+01 1.76000000e+03 3.29999995e+00]\n",
      " [8.60000000e+01 1.98000000e+03 3.73000002e+00]\n",
      " [1.63000000e+02 3.42000000e+03 3.57999992e+00]\n",
      " [7.90000000e+01 1.83000000e+03 3.72000003e+00]\n",
      " [9.70000000e+01 2.05000000e+03 3.80999994e+00]\n",
      " [1.34000000e+02 2.41000000e+03 3.05999994e+00]\n",
      " [9.70000000e+01 2.20000000e+03 3.21000004e+00]\n",
      " [1.34000000e+02 2.67000000e+03 3.04999995e+00]\n",
      " [9.70000000e+01 2.16000000e+03 3.74000001e+00]\n",
      " [9.00000000e+01 2.04000000e+03 3.77999997e+00]\n",
      " [8.90000000e+01 1.93000000e+03 3.77999997e+00]\n",
      " [9.70000000e+01 1.99000000e+03 3.77999997e+00]\n",
      " [1.63000000e+02 3.17000000e+03 2.98000002e+00]]\n",
      "[ 0.007686   -0.00653382  0.64525763]\n",
      "<class 'numpy.ndarray'>\n",
      "<class 'numpy.ndarray'>\n"
     ]
    },
    {
     "data": {
      "text/plain": [
       "846.0790745646772"
      ]
     },
     "execution_count": 41,
     "metadata": {},
     "output_type": "execute_result"
    }
   ],
   "source": [
    "preds = lin_mod3.predict(DWG)\n",
    "RSS3= np.sum((preds - mpg)**2)\n",
    "RSS3"
   ]
  },
  {
   "cell_type": "code",
   "execution_count": null,
   "metadata": {},
   "outputs": [],
   "source": []
  }
 ],
 "metadata": {
  "colab": {
   "authorship_tag": "ABX9TyP4suY4YlBXeGRv+o2ID9Fj",
   "provenance": [
    {
     "file_id": "13IdzKIzfCNDgIDWrZMFH09MP2KX8_sAQ",
     "timestamp": 1643666113242
    },
    {
     "file_id": "1TcrsRnZzdOFJh6WAVyrqUMNSnbHc5D21",
     "timestamp": 1643606528488
    }
   ]
  },
  "kernelspec": {
   "display_name": "base",
   "language": "python",
   "name": "python3"
  },
  "language_info": {
   "codemirror_mode": {
    "name": "ipython",
    "version": 3
   },
   "file_extension": ".py",
   "mimetype": "text/x-python",
   "name": "python",
   "nbconvert_exporter": "python",
   "pygments_lexer": "ipython3",
   "version": "3.12.7"
  }
 },
 "nbformat": 4,
 "nbformat_minor": 4
}
