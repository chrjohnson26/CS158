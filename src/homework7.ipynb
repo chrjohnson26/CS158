{
 "cells": [
  {
   "cell_type": "markdown",
   "metadata": {
    "id": "YBUUNARsA6fv"
   },
   "source": [
    "**Homework 7**"
   ]
  },
  {
   "cell_type": "code",
   "execution_count": 1,
   "metadata": {
    "executionInfo": {
     "elapsed": 2732,
     "status": "ok",
     "timestamp": 1695746954123,
     "user": {
      "displayName": "David Bachman",
      "userId": "02952839939203243924"
     },
     "user_tz": 420
    },
    "id": "yQGriOppA32Z"
   },
   "outputs": [],
   "source": [
    "import pandas as pd\n",
    "import numpy as np\n",
    "import matplotlib.pyplot as plt"
   ]
  },
  {
   "cell_type": "markdown",
   "metadata": {},
   "source": [
    "In this assignment we'll look at the classic \"cars\" dataset. You can read about it here:\n",
    "[link](https://vincentarelbundock.github.io/Rdatasets/doc/causaldata/auto.html)"
   ]
  },
  {
   "cell_type": "code",
   "execution_count": 2,
   "metadata": {},
   "outputs": [
    {
     "data": {
      "text/html": [
       "<div>\n",
       "<style scoped>\n",
       "    .dataframe tbody tr th:only-of-type {\n",
       "        vertical-align: middle;\n",
       "    }\n",
       "\n",
       "    .dataframe tbody tr th {\n",
       "        vertical-align: top;\n",
       "    }\n",
       "\n",
       "    .dataframe thead th {\n",
       "        text-align: right;\n",
       "    }\n",
       "</style>\n",
       "<table border=\"1\" class=\"dataframe\">\n",
       "  <thead>\n",
       "    <tr style=\"text-align: right;\">\n",
       "      <th></th>\n",
       "      <th>rownames</th>\n",
       "      <th>make</th>\n",
       "      <th>price</th>\n",
       "      <th>mpg</th>\n",
       "      <th>rep78</th>\n",
       "      <th>headroom</th>\n",
       "      <th>trunk</th>\n",
       "      <th>weight</th>\n",
       "      <th>length</th>\n",
       "      <th>turn</th>\n",
       "      <th>displacement</th>\n",
       "      <th>gear_ratio</th>\n",
       "      <th>foreign</th>\n",
       "    </tr>\n",
       "  </thead>\n",
       "  <tbody>\n",
       "    <tr>\n",
       "      <th>0</th>\n",
       "      <td>1</td>\n",
       "      <td>AMC Concord</td>\n",
       "      <td>4099</td>\n",
       "      <td>22</td>\n",
       "      <td>3.0</td>\n",
       "      <td>2.5</td>\n",
       "      <td>11</td>\n",
       "      <td>2930</td>\n",
       "      <td>186</td>\n",
       "      <td>40</td>\n",
       "      <td>121</td>\n",
       "      <td>3.58</td>\n",
       "      <td>0</td>\n",
       "    </tr>\n",
       "    <tr>\n",
       "      <th>1</th>\n",
       "      <td>2</td>\n",
       "      <td>AMC Pacer</td>\n",
       "      <td>4749</td>\n",
       "      <td>17</td>\n",
       "      <td>3.0</td>\n",
       "      <td>3.0</td>\n",
       "      <td>11</td>\n",
       "      <td>3350</td>\n",
       "      <td>173</td>\n",
       "      <td>40</td>\n",
       "      <td>258</td>\n",
       "      <td>2.53</td>\n",
       "      <td>0</td>\n",
       "    </tr>\n",
       "    <tr>\n",
       "      <th>2</th>\n",
       "      <td>3</td>\n",
       "      <td>AMC Spirit</td>\n",
       "      <td>3799</td>\n",
       "      <td>22</td>\n",
       "      <td>NaN</td>\n",
       "      <td>3.0</td>\n",
       "      <td>12</td>\n",
       "      <td>2640</td>\n",
       "      <td>168</td>\n",
       "      <td>35</td>\n",
       "      <td>121</td>\n",
       "      <td>3.08</td>\n",
       "      <td>0</td>\n",
       "    </tr>\n",
       "  </tbody>\n",
       "</table>\n",
       "</div>"
      ],
      "text/plain": [
       "   rownames         make  price  mpg  rep78  headroom  trunk  weight  length  \\\n",
       "0         1  AMC Concord   4099   22    3.0       2.5     11    2930     186   \n",
       "1         2    AMC Pacer   4749   17    3.0       3.0     11    3350     173   \n",
       "2         3   AMC Spirit   3799   22    NaN       3.0     12    2640     168   \n",
       "\n",
       "   turn  displacement  gear_ratio  foreign  \n",
       "0    40           121        3.58        0  \n",
       "1    40           258        2.53        0  \n",
       "2    35           121        3.08        0  "
      ]
     },
     "execution_count": 2,
     "metadata": {},
     "output_type": "execute_result"
    }
   ],
   "source": [
    "cars=pd.read_csv('https://vincentarelbundock.github.io/Rdatasets/csv/causaldata/auto.csv')\n",
    "cars.head(3)"
   ]
  },
  {
   "cell_type": "markdown",
   "metadata": {},
   "source": [
    "At first, we'll just focus on finding a relationship between the `displacement` and `mpg` columns. "
   ]
  },
  {
   "cell_type": "code",
   "execution_count": 3,
   "metadata": {},
   "outputs": [],
   "source": [
    "disp=np.array(cars.displacement)\n",
    "mpg=np.array(cars.mpg)"
   ]
  },
  {
   "cell_type": "markdown",
   "metadata": {},
   "source": [
    "Let's take a look at them:"
   ]
  },
  {
   "cell_type": "code",
   "execution_count": 4,
   "metadata": {},
   "outputs": [
    {
     "data": {
      "text/plain": [
       "Text(0, 0.5, 'MPG')"
      ]
     },
     "execution_count": 4,
     "metadata": {},
     "output_type": "execute_result"
    },
    {
     "data": {
      "image/png": "[encoded data removed]",
      "text/plain": [
       "<Figure size 640x480 with 1 Axes>"
      ]
     },
     "metadata": {},
     "output_type": "display_data"
    }
   ],
   "source": [
    "plt.scatter(disp, mpg)\n",
    "plt.xlabel('Displacement')\n",
    "plt.ylabel('MPG')"
   ]
  },
  {
   "cell_type": "markdown",
   "metadata": {},
   "source": [
    "Problem 1.\n",
    "\n",
    "Create a class that finds a linear model describing the relationship between arrays `X` and `y` (you may assume each are 1-dimensional). This model should be created using only the highest and lowest values in `X`, and the corresponding values in `y`.   "
   ]
  },
  {
   "cell_type": "code",
   "execution_count": 11,
   "metadata": {},
   "outputs": [],
   "source": [
    "class MaxMinLinearRegression():\n",
    "    def __init__(self):\n",
    "        '''No init function needed,\n",
    "        since there are no hyperparameters'''\n",
    "        pass\n",
    "    \n",
    "    def fit(self,X,y): \n",
    "        '''stores the slope and intercept \n",
    "        for the model defined by X and y'''\n",
    "        max_i = np.argmax(X)\n",
    "        min_i = np.argmin(X)\n",
    "\n",
    "        self.coef= (y[max_i] - y[min_i]) /(X[max_i] - X[min_i])\n",
    "        # y = mx + b ======> b = mx/y\n",
    "        # solve for b when x = 0\n",
    "        self.intercept= y[min_i]\n",
    "        \n",
    "    def predict(self,x):\n",
    "        return x * self.coef + self.intercept"
   ]
  },
  {
   "cell_type": "markdown",
   "metadata": {},
   "source": [
    "If you did this problem correctly, the following code will create a linear model that can predict `mpg` from `disp`. "
   ]
  },
  {
   "cell_type": "code",
   "execution_count": 12,
   "metadata": {},
   "outputs": [],
   "source": [
    "lin_mod1=MaxMinLinearRegression()\n",
    "lin_mod1.fit(disp,mpg)"
   ]
  },
  {
   "cell_type": "markdown",
   "metadata": {},
   "source": [
    "To use your model to predict the `mpg` of an unknown car with `disp=200`, you would run this code:"
   ]
  },
  {
   "cell_type": "code",
   "execution_count": 13,
   "metadata": {},
   "outputs": [
    {
     "data": {
      "text/plain": [
       "19.063583815028903"
      ]
     },
     "execution_count": 13,
     "metadata": {},
     "output_type": "execute_result"
    }
   ],
   "source": [
    "lin_mod1.predict(200)"
   ]
  },
  {
   "cell_type": "markdown",
   "metadata": {
    "id": "9HnnevowjorP"
   },
   "source": [
    "Run this to visualize your model's predictions, as compared to the actual:"
   ]
  },
  {
   "cell_type": "code",
   "execution_count": 14,
   "metadata": {
    "colab": {
     "base_uri": "https://localhost:8080/",
     "height": 467
    },
    "executionInfo": {
     "elapsed": 275,
     "status": "ok",
     "timestamp": 1695746955169,
     "user": {
      "displayName": "David Bachman",
      "userId": "02952839939203243924"
     },
     "user_tz": 420
    },
    "id": "TPsGA_PObcKU",
    "outputId": "ad4627bc-c0ab-46db-fcce-35c8ffde2c7f"
   },
   "outputs": [
    {
     "data": {
      "text/plain": [
       "Text(0, 0.5, 'MPG')"
      ]
     },
     "execution_count": 14,
     "metadata": {},
     "output_type": "execute_result"
    },
    {
     "data": {
      "image/png": "[encoded data removed]",
      "text/plain": [
       "<Figure size 640x480 with 1 Axes>"
      ]
     },
     "metadata": {},
     "output_type": "display_data"
    }
   ],
   "source": [
    "plt.scatter(disp,mpg)\n",
    "plt.plot(disp,lin_mod1.predict(disp),'-r')\n",
    "plt.xlabel('Displacement')\n",
    "plt.ylabel('MPG')"
   ]
  },
  {
   "cell_type": "markdown",
   "metadata": {
    "id": "5mic_-7GTshN"
   },
   "source": [
    "Calculate the RSS of `lin_mod1`."
   ]
  },
  {
   "cell_type": "code",
   "execution_count": 16,
   "metadata": {
    "executionInfo": {
     "elapsed": 8,
     "status": "ok",
     "timestamp": 1695746955169,
     "user": {
      "displayName": "David Bachman",
      "userId": "02952839939203243924"
     },
     "user_tz": 420
    },
    "id": "E9_hQ-4cTldE"
   },
   "outputs": [
    {
     "data": {
      "text/plain": [
       "25077.37699221491"
      ]
     },
     "execution_count": 16,
     "metadata": {},
     "output_type": "execute_result"
    }
   ],
   "source": [
    "preds = lin_mod1.predict(disp)\n",
    "RSS1= np.sum(mpg - preds)**2\n",
    "RSS1"
   ]
  },
  {
   "cell_type": "markdown",
   "metadata": {
    "id": "-du_wfdmTSHG"
   },
   "source": [
    "Problem 2.\n",
    "\n",
    "Create a class that finds a linear model describing the relationship between an array `X` of shape (num_observations,num_features) and a 1-dimensional array `y`, that minimizes the RSS. "
   ]
  },
  {
   "cell_type": "code",
   "execution_count": null,
   "metadata": {},
   "outputs": [],
   "source": [
    "class LinearRegression():\n",
    "    def __init__(self):\n",
    "        pass\n",
    "    \n",
    "    def fit(self,X,y): \n",
    "        '''stores the slope and intercept \n",
    "        for the model defined by X and y'''\n",
    "        #YOUR CODE HERE\n",
    "        self.intercept=#YOUR CODE HERE\n",
    "        self.coef=#YOUR CODE HERE\n",
    "        \n",
    "    def predict(self,x):\n",
    "        '''x is expected to have shape \n",
    "        (num_test_obs,num_feats)'''\n",
    "        return #YOUR CODE HERE"
   ]
  },
  {
   "cell_type": "markdown",
   "metadata": {},
   "source": [
    "To build a model to predict `mpg` from `disp`, we'll have to convert `disp` into an array of the correct shape:"
   ]
  },
  {
   "cell_type": "code",
   "execution_count": null,
   "metadata": {},
   "outputs": [],
   "source": [
    "X=disp[:,np.newaxis]"
   ]
  },
  {
   "cell_type": "markdown",
   "metadata": {},
   "source": [
    "We now build the model, and fit it to the data:"
   ]
  },
  {
   "cell_type": "code",
   "execution_count": null,
   "metadata": {},
   "outputs": [],
   "source": [
    "lin_mod2=LinearRegression()\n",
    "lin_mod2.fit(X,mpg)"
   ]
  },
  {
   "cell_type": "markdown",
   "metadata": {},
   "source": [
    "To use this model to make a prediction on an unknown car with `disp=200`, you'll need to feed that value in as an array, rather than a single number."
   ]
  },
  {
   "cell_type": "code",
   "execution_count": null,
   "metadata": {},
   "outputs": [],
   "source": [
    "#lin_mod2.predict(200) won't work\n",
    "lin_mod2.predict([200]) #Do this instead"
   ]
  },
  {
   "cell_type": "markdown",
   "metadata": {
    "id": "--tkF41Qlnk9"
   },
   "source": [
    "Run this code to visualize your model. Does it look better than the previous model?"
   ]
  },
  {
   "cell_type": "code",
   "execution_count": null,
   "metadata": {
    "colab": {
     "base_uri": "https://localhost:8080/",
     "height": 467
    },
    "executionInfo": {
     "elapsed": 669,
     "status": "ok",
     "timestamp": 1695746956055,
     "user": {
      "displayName": "David Bachman",
      "userId": "02952839939203243924"
     },
     "user_tz": 420
    },
    "id": "18O1d8f_elM2",
    "outputId": "ac9a9dd1-75a9-491b-e243-730c01d78909",
    "scrolled": true
   },
   "outputs": [],
   "source": [
    "plt.scatter(disp,mpg)\n",
    "plt.plot(disp,lin_mod2.predict(X),'-r')\n",
    "plt.xlabel('Displacement')\n",
    "plt.ylabel('MPG')"
   ]
  },
  {
   "cell_type": "markdown",
   "metadata": {
    "id": "j8zURz07UMXm"
   },
   "source": [
    "Calculate the RSS of `lin_mod2`."
   ]
  },
  {
   "cell_type": "code",
   "execution_count": null,
   "metadata": {
    "executionInfo": {
     "elapsed": 5,
     "status": "ok",
     "timestamp": 1695746956056,
     "user": {
      "displayName": "David Bachman",
      "userId": "02952839939203243924"
     },
     "user_tz": 420
    },
    "id": "8_QP0SfSUWir"
   },
   "outputs": [],
   "source": [
    "RSS2=#YOUR CODE HERE\n",
    "RSS2"
   ]
  },
  {
   "cell_type": "markdown",
   "metadata": {
    "id": "vUre83IWUhJB"
   },
   "source": [
    "Problem 3.\n",
    "\n",
    "We'll now bring in more features to see if we can predict `mpg` more accurately:"
   ]
  },
  {
   "cell_type": "code",
   "execution_count": null,
   "metadata": {},
   "outputs": [],
   "source": [
    "wt=np.array(cars.weight)\n",
    "gr=np.array(cars.gear_ratio)"
   ]
  },
  {
   "cell_type": "markdown",
   "metadata": {},
   "source": [
    "We build a feature matrix using displacement, weight, and gear ratio:"
   ]
  },
  {
   "cell_type": "code",
   "execution_count": null,
   "metadata": {},
   "outputs": [],
   "source": [
    "DWG=np.array([disp,wt,gr]).T"
   ]
  },
  {
   "cell_type": "markdown",
   "metadata": {},
   "source": [
    "Now create a new linear model to predict `mpg` from the feature matrix `DWG`."
   ]
  },
  {
   "cell_type": "code",
   "execution_count": null,
   "metadata": {},
   "outputs": [],
   "source": [
    "lin_mod3=#YOUR CODE HERE\n",
    "lin_mod3.fit(#YOUR CODE HERE)"
   ]
  },
  {
   "cell_type": "markdown",
   "metadata": {},
   "source": [
    "Predict the `mpg` for a car with a displacement of 200, weight equal to 3000, and gear ratio 3."
   ]
  },
  {
   "cell_type": "code",
   "execution_count": null,
   "metadata": {},
   "outputs": [],
   "source": [
    "prediction=#YOUR CODE HERE\n",
    "prediction"
   ]
  },
  {
   "cell_type": "markdown",
   "metadata": {
    "id": "XzLh874dVIxR"
   },
   "source": [
    "Calculate the RSS of `better_mod`."
   ]
  },
  {
   "cell_type": "code",
   "execution_count": null,
   "metadata": {
    "executionInfo": {
     "elapsed": 14,
     "status": "ok",
     "timestamp": 1695746957214,
     "user": {
      "displayName": "David Bachman",
      "userId": "02952839939203243924"
     },
     "user_tz": 420
    },
    "id": "puAk5AKJVRx-"
   },
   "outputs": [],
   "source": [
    "RSS3=#YOUR CODE HERE\n",
    "RSS3"
   ]
  }
 ],
 "metadata": {
  "colab": {
   "authorship_tag": "ABX9TyP4suY4YlBXeGRv+o2ID9Fj",
   "provenance": [
    {
     "file_id": "13IdzKIzfCNDgIDWrZMFH09MP2KX8_sAQ",
     "timestamp": 1643666113242
    },
    {
     "file_id": "1TcrsRnZzdOFJh6WAVyrqUMNSnbHc5D21",
     "timestamp": 1643606528488
    }
   ]
  },
  "kernelspec": {
   "display_name": "base",
   "language": "python",
   "name": "python3"
  },
  "language_info": {
   "codemirror_mode": {
    "name": "ipython",
    "version": 3
   },
   "file_extension": ".py",
   "mimetype": "text/x-python",
   "name": "python",
   "nbconvert_exporter": "python",
   "pygments_lexer": "ipython3",
   "version": "3.12.7"
  }
 },
 "nbformat": 4,
 "nbformat_minor": 1
}
