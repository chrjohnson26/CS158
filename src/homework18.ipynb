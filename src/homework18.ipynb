{
 "cells": [
  {
   "cell_type": "markdown",
   "metadata": {
    "id": "WRhTLUOx2st_"
   },
   "source": [
    "**Homework 18**"
   ]
  },
  {
   "cell_type": "markdown",
   "metadata": {
    "id": "MA2PT7gdJCeU"
   },
   "source": [
    "**IMPORTANT!!!** Complete this notebook to do your homework, and then transfer your answers to homework18gradescope.ipynb (available on canvas)."
   ]
  },
  {
   "cell_type": "markdown",
   "metadata": {
    "id": "6yqXf1hfJZ9J"
   },
   "source": [
    "In this assignment we'll start working with PyTorch:"
   ]
  },
  {
   "cell_type": "code",
   "execution_count": 2,
   "metadata": {
    "executionInfo": {
     "elapsed": 12195,
     "status": "ok",
     "timestamp": 1743528742394,
     "user": {
      "displayName": "David Bachman",
      "userId": "02952839939203243924"
     },
     "user_tz": 420
    },
    "id": "BNcIbf6Wk-mT"
   },
   "outputs": [],
   "source": [
    "import torch\n",
    "from torch.nn import Linear, ReLU, Sequential"
   ]
  },
  {
   "cell_type": "markdown",
   "metadata": {
    "id": "_3ONia8dlFcz"
   },
   "source": [
    "Let's use PyTorch to recreate the Neural Network from Homework 16:"
   ]
  },
  {
   "cell_type": "code",
   "execution_count": 3,
   "metadata": {
    "executionInfo": {
     "elapsed": 53,
     "status": "ok",
     "timestamp": 1743528742453,
     "user": {
      "displayName": "David Bachman",
      "userId": "02952839939203243924"
     },
     "user_tz": 420
    },
    "id": "OOnzcgDKo7kc"
   },
   "outputs": [],
   "source": [
    "network=Sequential(\n",
    "    Linear(2,3),\n",
    "    ReLU(),\n",
    "    Linear(3,1)\n",
    ")"
   ]
  },
  {
   "cell_type": "markdown",
   "metadata": {
    "id": "wEi92gkcJDBL"
   },
   "source": [
    "You should be able to use it the exact same way, except that we apply PyTorch models to PyTorch tensors, rather than Numpy arrays:"
   ]
  },
  {
   "cell_type": "code",
   "execution_count": 4,
   "metadata": {
    "colab": {
     "base_uri": "https://localhost:8080/"
    },
    "executionInfo": {
     "elapsed": 153,
     "status": "ok",
     "timestamp": 1743528750936,
     "user": {
      "displayName": "David Bachman",
      "userId": "02952839939203243924"
     },
     "user_tz": 420
    },
    "id": "UHgnBu2x6fre",
    "outputId": "b5364563-cd25-4be9-95ab-10884d22850b"
   },
   "outputs": [
    {
     "data": {
      "text/plain": [
       "tensor([[-0.4796],\n",
       "        [-0.4796],\n",
       "        [-0.4796],\n",
       "        [-0.8946],\n",
       "        [-0.7521],\n",
       "        [-0.6748],\n",
       "        [-1.3332],\n",
       "        [-0.7937],\n",
       "        [-1.6147],\n",
       "        [-1.8863],\n",
       "        [-1.9685],\n",
       "        [-0.4796],\n",
       "        [-0.8862],\n",
       "        [-0.4826],\n",
       "        [-0.5133]], grad_fn=<AddmmBackward0>)"
      ]
     },
     "execution_count": 4,
     "metadata": {},
     "output_type": "execute_result"
    }
   ],
   "source": [
    "X=torch.randn(15,2) #generate a random feature matrix with 2 features and 15 observations as a torch tensor\n",
    "network(X) #Predictions of our network"
   ]
  },
  {
   "cell_type": "markdown",
   "metadata": {
    "id": "jld0gvNsK9Rj"
   },
   "source": [
    "You can see the weights and biases of your network as follows. Note that the first layer has a weight matrix of shape (3,2) and a bias vector of size 3, and the second layer has a weight matrix of shape(1,3) and a single bias."
   ]
  },
  {
   "cell_type": "code",
   "execution_count": 5,
   "metadata": {
    "colab": {
     "base_uri": "https://localhost:8080/"
    },
    "executionInfo": {
     "elapsed": 13,
     "status": "ok",
     "timestamp": 1743528791110,
     "user": {
      "displayName": "David Bachman",
      "userId": "02952839939203243924"
     },
     "user_tz": 420
    },
    "id": "7Tz6A2jGJa0u",
    "outputId": "eaf0df1f-a4e7-4cb0-cacb-5cd1b633d078"
   },
   "outputs": [
    {
     "name": "stdout",
     "output_type": "stream",
     "text": [
      "Parameter containing:\n",
      "tensor([[ 0.0199,  0.6837],\n",
      "        [-0.4606,  0.6944],\n",
      "        [-0.2392,  0.5493]], requires_grad=True) torch.Size([3, 2])\n",
      "Parameter containing:\n",
      "tensor([ 0.5159,  0.5420, -0.4616], requires_grad=True) torch.Size([3])\n",
      "Parameter containing:\n",
      "tensor([[-0.3584, -0.3875, -0.3233]], requires_grad=True) torch.Size([1, 3])\n",
      "Parameter containing:\n",
      "tensor([-0.4796], requires_grad=True) torch.Size([1])\n"
     ]
    }
   ],
   "source": [
    "for param in network.parameters():\n",
    "    print(param,param.shape)"
   ]
  },
  {
   "cell_type": "markdown",
   "metadata": {
    "id": "2M1CdiZrLZ0z"
   },
   "source": [
    "We now use gradient descent to train our network. Let's create a target vector:"
   ]
  },
  {
   "cell_type": "code",
   "execution_count": 6,
   "metadata": {
    "executionInfo": {
     "elapsed": 41,
     "status": "ok",
     "timestamp": 1743528835240,
     "user": {
      "displayName": "David Bachman",
      "userId": "02952839939203243924"
     },
     "user_tz": 420
    },
    "id": "e4F-ZacLLZJa"
   },
   "outputs": [],
   "source": [
    "target=torch.randn(15,1)"
   ]
  },
  {
   "cell_type": "markdown",
   "metadata": {
    "id": "e-oEApw3L6mA"
   },
   "source": [
    "Our training loop now follows the pattern from homework 17:"
   ]
  },
  {
   "cell_type": "code",
   "execution_count": 7,
   "metadata": {
    "colab": {
     "base_uri": "https://localhost:8080/"
    },
    "executionInfo": {
     "elapsed": 5574,
     "status": "ok",
     "timestamp": 1743528925814,
     "user": {
      "displayName": "David Bachman",
      "userId": "02952839939203243924"
     },
     "user_tz": 420
    },
    "id": "yRt4Z497L5-h",
    "outputId": "17e0636d-ce59-487f-cb4b-d3e22ec83606"
   },
   "outputs": [
    {
     "name": "stdout",
     "output_type": "stream",
     "text": [
      "Step: 0/10000, Loss: 2.5258545875549316\n",
      "Step: 1000/10000, Loss: 0.8870121240615845\n",
      "Step: 2000/10000, Loss: 0.8075227737426758\n",
      "Step: 3000/10000, Loss: 0.7620988488197327\n",
      "Step: 4000/10000, Loss: 0.7281748652458191\n",
      "Step: 5000/10000, Loss: 0.7123755216598511\n",
      "Step: 6000/10000, Loss: 0.7085890173912048\n",
      "Step: 7000/10000, Loss: 0.7076688408851624\n",
      "Step: 8000/10000, Loss: 0.7074926495552063\n",
      "Step: 9000/10000, Loss: 0.7074695825576782\n"
     ]
    }
   ],
   "source": [
    "for i in range(10000): #Do 10000 gradient descent steps\n",
    "  network.zero_grad() #Zero out the derivative with respect to each network parameter\n",
    "\n",
    "  prediction=network(X) #Compute the network prediction\n",
    "  MSEloss=torch.nn.MSELoss()(prediction,target) #Compute MSE loss\n",
    "  #MSEloss=((prediction-target)**2).mean() #This is the same!!\n",
    "\n",
    "  MSEloss.backward() #Compute gradient\n",
    "\n",
    "  for param in network.parameters():\n",
    "    param.data-=0.01*param.grad  #Take a gradient descent step with learning rate of 0.01\n",
    "\n",
    "  if i%1000==0:\n",
    "    print(f\"Step: {i}/10000, Loss: {MSEloss.item()}\") #Periodic reporting to track progress"
   ]
  },
  {
   "cell_type": "markdown",
   "metadata": {
    "id": "POe8lSSLO3PW"
   },
   "source": [
    "Let's now use this on real data. We'll use the same three colunns from the `cars` dataset that we usd in Homework 7, and again use the `mpg` column for our target:"
   ]
  },
  {
   "cell_type": "code",
   "execution_count": 8,
   "metadata": {
    "id": "EeCKsV_BNnN4"
   },
   "outputs": [],
   "source": [
    "import pandas as pd\n",
    "cars=pd.read_csv('https://vincentarelbundock.github.io/Rdatasets/csv/causaldata/auto.csv')\n",
    "\n",
    "DWG=torch.tensor([cars.displacement,cars.weight,cars.gear_ratio],dtype=torch.float32).T\n",
    "mpg=torch.tensor(cars.mpg,dtype=torch.float32)"
   ]
  },
  {
   "cell_type": "markdown",
   "metadata": {
    "id": "j1WpWNB3nmeq"
   },
   "source": [
    "Define a neural network appropriate for predicting `mpg` from `DWG`. Your network should have two hidden layers with 8 neurons and 4 neurons, and ReLU layers before and after all hidden layers."
   ]
  },
  {
   "cell_type": "code",
   "execution_count": 9,
   "metadata": {
    "id": "cmkOVrzhPOON"
   },
   "outputs": [],
   "source": [
    "cars_network=Sequential(\n",
    "    Linear(3,8),\n",
    "    ReLU(),\n",
    "    Linear(8,4),\n",
    "    ReLU(),\n",
    "    Linear(4,1)\n",
    ")"
   ]
  },
  {
   "cell_type": "markdown",
   "metadata": {
    "id": "P5EUhSA1oAsE"
   },
   "source": [
    "Write a training loop to train your network to predict `mpg` from `DWG`. Do 10000 gradient descent steps with a learning rate of 0.001, and report your MSE every 10000 steps."
   ]
  },
  {
   "cell_type": "code",
   "execution_count": 10,
   "metadata": {
    "id": "Nmg9LgC0Ppsv"
   },
   "outputs": [
    {
     "name": "stderr",
     "output_type": "stream",
     "text": [
      "/opt/anaconda3/lib/python3.12/site-packages/torch/nn/modules/loss.py:610: UserWarning: Using a target size (torch.Size([74])) that is different to the input size (torch.Size([74, 1])). This will likely lead to incorrect results due to broadcasting. Please ensure they have the same size.\n",
      "  return F.mse_loss(input, target, reduction=self.reduction)\n"
     ]
    },
    {
     "name": "stdout",
     "output_type": "stream",
     "text": [
      "Step: 0/10000, Loss: 1880.758056640625\n",
      "Step: 1000/10000, Loss: 759792.375\n",
      "Step: 2000/10000, Loss: 13892.880859375\n",
      "Step: 3000/10000, Loss: 285.8579406738281\n",
      "Step: 4000/10000, Loss: 37.63215637207031\n",
      "Step: 5000/10000, Loss: 33.10386276245117\n",
      "Step: 6000/10000, Loss: 33.02125930786133\n",
      "Step: 7000/10000, Loss: 33.019752502441406\n",
      "Step: 8000/10000, Loss: 33.01972198486328\n",
      "Step: 9000/10000, Loss: 33.01972198486328\n"
     ]
    }
   ],
   "source": [
    "lr = 0.001\n",
    "report = 1000\n",
    "for i in range(10000):\n",
    "    cars_network.zero_grad()\n",
    "    preds = cars_network(DWG)\n",
    "    MSEloss = torch.nn.MSELoss()(preds,mpg)\n",
    "\n",
    "    MSEloss.backward()\n",
    "\n",
    "    for param in cars_network.parameters():\n",
    "        param.data-=lr*param.grad\n",
    "\n",
    "    if i%report == 0:\n",
    "        print(f\"Step: {i}/10000, Loss: {MSEloss.item()}\") #Periodic reporting to track progress"
   ]
  },
  {
   "cell_type": "markdown",
   "metadata": {
    "id": "smClA-i87tVD"
   },
   "source": [
    "Compute the final MSE for your trained model:"
   ]
  },
  {
   "cell_type": "code",
   "execution_count": 11,
   "metadata": {
    "id": "9WOOB_4C7yxz"
   },
   "outputs": [
    {
     "data": {
      "text/plain": [
       "33.01972198486328"
      ]
     },
     "execution_count": 11,
     "metadata": {},
     "output_type": "execute_result"
    }
   ],
   "source": [
    "final_mse= torch.nn.MSELoss()(preds,mpg).item()\n",
    "final_mse"
   ]
  },
  {
   "cell_type": "markdown",
   "metadata": {
    "id": "3jsECXtc0wfZ"
   },
   "source": [
    "For classification problems, here are the only changes:\n",
    "1. If you are predicting $n$ classes, the final layer should have $n$ neurons.\n",
    "2. For training, use Categorical Cross Entropy loss (torch.nn.CrossEntropyLoss) instead of MSE. (No need to one-hot encode target variable)\n",
    "3. If you want to generate predictions of your model (to guage accuracy, for example), use: `torch.argmax(network(X), dim=1)`\n",
    "4. If you want to see the probability that your model predicts each class, use: `torch.softmax(network(X), dim=1)`.\n",
    "\n",
    "With these changes in mind, we'll revisit the iris dataset:"
   ]
  },
  {
   "cell_type": "code",
   "execution_count": 12,
   "metadata": {
    "id": "LvBbFS7BP6Zw"
   },
   "outputs": [],
   "source": [
    "from sklearn.datasets import load_iris\n",
    "iris=load_iris()\n",
    "\n",
    "X=torch.tensor(iris.data, dtype=torch.float32)\n",
    "y=torch.tensor(iris.target, dtype=torch.long)"
   ]
  },
  {
   "cell_type": "markdown",
   "metadata": {
    "id": "AgihWnR0434E"
   },
   "source": [
    "Create a neural network appropriate for predicting `y` from `X`, with one hidden layer that has 10 neurons, and ReLU layers before and after that:"
   ]
  },
  {
   "cell_type": "code",
   "execution_count": 13,
   "metadata": {
    "id": "kq0iKMpysLmr"
   },
   "outputs": [],
   "source": [
    "iris_net= Sequential(\n",
    "    Linear(4,10),\n",
    "    ReLU(),\n",
    "    Linear(10,3) # since there are 3 possible classes\n",
    ")\n"
   ]
  },
  {
   "cell_type": "markdown",
   "metadata": {
    "id": "ZDIXXZUG5go8"
   },
   "source": [
    "Train your neural network for 10000 steps, with a learning rate of 0.01:"
   ]
  },
  {
   "cell_type": "code",
   "execution_count": 14,
   "metadata": {
    "id": "1ST3a8XasqPl"
   },
   "outputs": [
    {
     "name": "stdout",
     "output_type": "stream",
     "text": [
      "Step: 0/10000, Loss: 1.3251593112945557\n",
      "Step: 1000/10000, Loss: 0.22469578683376312\n",
      "Step: 2000/10000, Loss: 0.12114717066287994\n",
      "Step: 3000/10000, Loss: 0.09376837313175201\n",
      "Step: 4000/10000, Loss: 0.08178652077913284\n",
      "Step: 5000/10000, Loss: 0.07503693550825119\n",
      "Step: 6000/10000, Loss: 0.0706731379032135\n",
      "Step: 7000/10000, Loss: 0.06759746372699738\n",
      "Step: 8000/10000, Loss: 0.06529560685157776\n",
      "Step: 9000/10000, Loss: 0.06349346786737442\n"
     ]
    }
   ],
   "source": [
    "lr = 0.01\n",
    "for i in range(10000):\n",
    "    iris_net.zero_grad()\n",
    "    preds = iris_net(X)\n",
    "    CCEloss = torch.nn.CrossEntropyLoss()(preds,y)\n",
    "\n",
    "    CCEloss.backward()\n",
    "\n",
    "    for param in iris_net.parameters():\n",
    "        param.data -= lr*param.grad\n",
    "\n",
    "    if i%1000==0:\n",
    "        print(f\"Step: {i}/10000, Loss: {CCEloss.item()}\") #Periodic reporting to track progress"
   ]
  },
  {
   "cell_type": "markdown",
   "metadata": {
    "id": "6AcwZO1D7DPa"
   },
   "source": [
    "What is the probability that your model assigns to flower 133 being in class 1? class 2?"
   ]
  },
  {
   "cell_type": "code",
   "execution_count": 25,
   "metadata": {},
   "outputs": [],
   "source": [
    "probs = torch.softmax(iris_net(X), dim=1)"
   ]
  },
  {
   "cell_type": "code",
   "execution_count": 26,
   "metadata": {},
   "outputs": [
    {
     "data": {
      "text/plain": [
       "0.31333333333333335"
      ]
     },
     "execution_count": 26,
     "metadata": {},
     "output_type": "execute_result"
    }
   ],
   "source": [
    "preds = torch.argmax(probs,axis=1)\n",
    "preds[preds == 1].shape[0]/preds.shape[0]"
   ]
  },
  {
   "cell_type": "code",
   "execution_count": null,
   "metadata": {
    "id": "aWjqVCzm6DM2"
   },
   "outputs": [
    {
     "data": {
      "text/plain": [
       "(0.31333333333333335, 0.35333333333333333)"
      ]
     },
     "execution_count": 28,
     "metadata": {},
     "output_type": "execute_result"
    }
   ],
   "source": [
    "class1_prob= preds[preds == 1].shape[0]/preds.shape[0]\n",
    "class2_prob=preds[preds == 2].shape[0]/preds.shape[0]\n",
    "class1_prob,class2_prob"
   ]
  },
  {
   "cell_type": "markdown",
   "metadata": {
    "id": "thU6rJLS7WHI"
   },
   "source": [
    "Create a vector of predictions for your model:"
   ]
  },
  {
   "cell_type": "code",
   "execution_count": 18,
   "metadata": {
    "id": "OOwvw87X2gAh"
   },
   "outputs": [
    {
     "data": {
      "text/plain": [
       "tensor([0, 0, 0, 0, 0, 0, 0, 0, 0, 0, 0, 0, 0, 0, 0, 0, 0, 0, 0, 0, 0, 0, 0, 0,\n",
       "        0, 0, 0, 0, 0, 0, 0, 0, 0, 0, 0, 0, 0, 0, 0, 0, 0, 0, 0, 0, 0, 0, 0, 0,\n",
       "        0, 0, 1, 1, 1, 1, 1, 1, 1, 1, 1, 1, 1, 1, 1, 1, 1, 1, 1, 1, 1, 1, 2, 1,\n",
       "        2, 1, 1, 1, 1, 1, 1, 1, 1, 1, 1, 2, 1, 1, 1, 1, 1, 1, 1, 1, 1, 1, 1, 1,\n",
       "        1, 1, 1, 1, 2, 2, 2, 2, 2, 2, 2, 2, 2, 2, 2, 2, 2, 2, 2, 2, 2, 2, 2, 2,\n",
       "        2, 2, 2, 2, 2, 2, 2, 2, 2, 2, 2, 2, 2, 2, 2, 2, 2, 2, 2, 2, 2, 2, 2, 2,\n",
       "        2, 2, 2, 2, 2, 2])"
      ]
     },
     "execution_count": 18,
     "metadata": {},
     "output_type": "execute_result"
    }
   ],
   "source": [
    "predictions= preds\n",
    "predictions"
   ]
  },
  {
   "cell_type": "markdown",
   "metadata": {
    "id": "BWuL34Yc7cXa"
   },
   "source": [
    "Compute the accuracy of your model:"
   ]
  },
  {
   "cell_type": "code",
   "execution_count": 19,
   "metadata": {
    "id": "OsaQnKJTt2tL"
   },
   "outputs": [
    {
     "data": {
      "text/plain": [
       "tensor(0.9800)"
      ]
     },
     "execution_count": 19,
     "metadata": {},
     "output_type": "execute_result"
    }
   ],
   "source": [
    "accuracy= (preds ==y).sum()/150\n",
    "accuracy"
   ]
  },
  {
   "cell_type": "code",
   "execution_count": null,
   "metadata": {},
   "outputs": [],
   "source": []
  }
 ],
 "metadata": {
  "colab": {
   "provenance": [
    {
     "file_id": "1RykR9AWdIvmZXusY8IFVw_Z8to1L-Uf_",
     "timestamp": 1648433498372
    }
   ]
  },
  "kernelspec": {
   "display_name": "base",
   "language": "python",
   "name": "python3"
  },
  "language_info": {
   "codemirror_mode": {
    "name": "ipython",
    "version": 3
   },
   "file_extension": ".py",
   "mimetype": "text/x-python",
   "name": "python",
   "nbconvert_exporter": "python",
   "pygments_lexer": "ipython3",
   "version": "3.12.7"
  }
 },
 "nbformat": 4,
 "nbformat_minor": 0
}
