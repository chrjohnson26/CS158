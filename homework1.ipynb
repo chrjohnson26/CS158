{
 "cells": [
  {
   "cell_type": "markdown",
   "metadata": {
    "id": "G8OReEGoBUyY"
   },
   "source": [
    "**Homework 1**"
   ]
  },
  {
   "cell_type": "markdown",
   "metadata": {
    "id": "BxOCrr74BYky"
   },
   "source": [
    "We begin with the usual import, and a new one:"
   ]
  },
  {
   "cell_type": "code",
   "execution_count": 1,
   "metadata": {
    "executionInfo": {
     "elapsed": 624,
     "status": "ok",
     "timestamp": 1674765619942,
     "user": {
      "displayName": "David Bachman",
      "userId": "02952839939203243924"
     },
     "user_tz": 480
    },
    "id": "nyeQSz7hP6MN"
   },
   "outputs": [],
   "source": [
    "import numpy as np\n",
    "from sklearn.datasets import load_iris"
   ]
  },
  {
   "cell_type": "markdown",
   "metadata": {
    "id": "ENoFBgC2Bcvt"
   },
   "source": [
    "Now load the iris dataset."
   ]
  },
  {
   "cell_type": "code",
   "execution_count": 2,
   "metadata": {
    "colab": {
     "base_uri": "https://localhost:8080/",
     "height": 228
    },
    "executionInfo": {
     "elapsed": 21,
     "status": "ok",
     "timestamp": 1674765619943,
     "user": {
      "displayName": "David Bachman",
      "userId": "02952839939203243924"
     },
     "user_tz": 480
    },
    "id": "5pStLgrIQCQu",
    "outputId": "5faf7010-7d5d-4dd5-e048-ad22f64f765d"
   },
   "outputs": [],
   "source": [
    "iris=load_iris()\n",
    "X=iris.data \n",
    "y=iris.target"
   ]
  },
  {
   "cell_type": "markdown",
   "metadata": {
    "id": "NFTIGfRwFqfM"
   },
   "source": [
    "The columns of the numpy array `X` (our \"feature matrix\") give the Sepal Length, Sepal Width, Petal Length and Petal Width of 150 different observed iris flowers. `y` is our \"target\", an array of 150 integers indicating the specific species of iris, where 0=Setosa, 1=Versicolor, and 2=Virginica.\n",
    "\n",
    "Here are the first few rows of `X`:"
   ]
  },
  {
   "cell_type": "code",
   "execution_count": 3,
   "metadata": {},
   "outputs": [
    {
     "data": {
      "text/plain": [
       "array([[5.1, 3.5, 1.4, 0.2],\n",
       "       [4.9, 3. , 1.4, 0.2],\n",
       "       [4.7, 3.2, 1.3, 0.2],\n",
       "       [4.6, 3.1, 1.5, 0.2],\n",
       "       [5. , 3.6, 1.4, 0.2]])"
      ]
     },
     "execution_count": 3,
     "metadata": {},
     "output_type": "execute_result"
    }
   ],
   "source": [
    "X[:5,:]"
   ]
  },
  {
   "cell_type": "markdown",
   "metadata": {},
   "source": [
    "For this assignment, we'll only work with the Petal Length and Petal Width of each flower, so we can redefine `X` to be just the last two columns:"
   ]
  },
  {
   "cell_type": "code",
   "execution_count": 4,
   "metadata": {
    "executionInfo": {
     "elapsed": 19,
     "status": "ok",
     "timestamp": 1674765619944,
     "user": {
      "displayName": "David Bachman",
      "userId": "02952839939203243924"
     },
     "user_tz": 480
    },
    "id": "bH6py8VwPM0L"
   },
   "outputs": [
    {
     "data": {
      "text/plain": [
       "(150, 2)"
      ]
     },
     "execution_count": 4,
     "metadata": {},
     "output_type": "execute_result"
    }
   ],
   "source": [
    "X=X[:,2:]\n",
    "X.shape"
   ]
  },
  {
   "cell_type": "markdown",
   "metadata": {
    "id": "6bYC9dfkIAFP"
   },
   "source": [
    "Define a function `sq_distances` with inputs `X` (a numpy array with two columns), `length` and `width` (the Petal Length and Petal Width of an unknown flower). The function should return an array of squared distances from the unknown point to each point in `X`. Use vectorized Numpy operations, NOT A FOR LOOP. "
   ]
  },
  {
   "cell_type": "code",
   "execution_count": 27,
   "metadata": {
    "executionInfo": {
     "elapsed": 18,
     "status": "ok",
     "timestamp": 1674765619944,
     "user": {
      "displayName": "David Bachman",
      "userId": "02952839939203243924"
     },
     "user_tz": 480
    },
    "id": "TzIIkOhYQe10"
   },
   "outputs": [],
   "source": [
    "def sq_distances(X,length,width):\n",
    "  p = np.array([length, width])\n",
    "  return np.sum((X-p)**2, axis=1)"
   ]
  },
  {
   "cell_type": "markdown",
   "metadata": {
    "id": "FKIEAXtoJxSW"
   },
   "source": [
    "Define a function `SpeciesOfKNeighbors` that gives the species label (a number 0, 1, or 2) of the k nearest neighbors from the point with given Petal Length and Petal Width to the points in `X`. (The list of species labels for each point in `X` is contained in the array `y`.) *Hint: The numpy function `argsort()` is useful for this problem.*"
   ]
  },
  {
   "cell_type": "code",
   "execution_count": 41,
   "metadata": {
    "executionInfo": {
     "elapsed": 18,
     "status": "ok",
     "timestamp": 1674765619945,
     "user": {
      "displayName": "David Bachman",
      "userId": "02952839939203243924"
     },
     "user_tz": 480
    },
    "id": "l0_thjk2RE6J"
   },
   "outputs": [],
   "source": [
    "def SpeciesOfNeighbors(X,y,length,width,k):\n",
    "  # Call sq_distances to get distances\n",
    "  dist = sq_distances(X, length, width)\n",
    "\n",
    "  # using argsort() to order distances with an index output\n",
    "  index_order = np.argsort(dist)\n",
    "  index_order = index_order[:k] # Taking the k-smallest distances\n",
    "\n",
    "  return y[index_order] # returns the species at the k-smallest distances"
   ]
  },
  {
   "cell_type": "markdown",
   "metadata": {
    "id": "ZnODjzehKigo"
   },
   "source": [
    "Create a function `majority` that takes an array of labels, and returns the label that appears the most often. *Hint: The numpy functions `bincount()` and `argmax()` can be useful here.*"
   ]
  },
  {
   "cell_type": "code",
   "execution_count": 39,
   "metadata": {
    "executionInfo": {
     "elapsed": 17,
     "status": "ok",
     "timestamp": 1674765619945,
     "user": {
      "displayName": "David Bachman",
      "userId": "02952839939203243924"
     },
     "user_tz": 480
    },
    "id": "gzc-_Hy2KyzD"
   },
   "outputs": [],
   "source": [
    "def majority(labels):\n",
    "  # counting the occurances with bincount()\n",
    "  label_count = np.bincount(labels)\n",
    "  return np.argmax(label_count) # returns the index of the highest number"
   ]
  },
  {
   "cell_type": "markdown",
   "metadata": {
    "id": "ad8XbXXzLR00"
   },
   "source": [
    "Combine your previous functions to create a function `KNN` which takes a feature matrix `X` of known Petal Lengths and Petal Widths, a target array `y` containing their species labels, a hyperparameter `k`, and the `length` and `width` of the petal of an unknown flower. Your function should return the most common species index among the k nearest neighbors of the unknown flower. "
   ]
  },
  {
   "cell_type": "code",
   "execution_count": 36,
   "metadata": {
    "executionInfo": {
     "elapsed": 16,
     "status": "ok",
     "timestamp": 1674765619945,
     "user": {
      "displayName": "David Bachman",
      "userId": "02952839939203243924"
     },
     "user_tz": 480
    },
    "id": "DfDoFiIJLRUt"
   },
   "outputs": [],
   "source": [
    "def KNN(X,y,length,width,k):\n",
    "    labels = SpeciesOfNeighbors(X, y, length, width, k)\n",
    "    return majority(labels)"
   ]
  },
  {
   "cell_type": "markdown",
   "metadata": {},
   "source": [
    "Test your code by playing with a few values for length, width, and k. For example, try:"
   ]
  },
  {
   "cell_type": "code",
   "execution_count": 53,
   "metadata": {},
   "outputs": [
    {
     "data": {
      "text/plain": [
       "0"
      ]
     },
     "execution_count": 53,
     "metadata": {},
     "output_type": "execute_result"
    }
   ],
   "source": [
    "KNN(X,y,1,1,7)\n"
   ]
  },
  {
   "cell_type": "markdown",
   "metadata": {},
   "source": [
    "Moving forward, we'll write our ML models as classes that conform to the standards of the sklearn package. Let's do this now. Modify your functions above to create appropriate methods for the following class:"
   ]
  },
  {
   "cell_type": "code",
   "execution_count": 57,
   "metadata": {},
   "outputs": [],
   "source": [
    "class KNeighborsClassifier():\n",
    "    def __init__(self,k):\n",
    "        self.n_neighbors=k\n",
    "\n",
    "    def fit(self,X,y):\n",
    "        self.X=X\n",
    "        self.y=y\n",
    "\n",
    "    def sq_distances(self,length,width):\n",
    "        p = np.array([length, width])\n",
    "        return np.sum((self.X-p)**2, axis=1)\n",
    "\n",
    "    def SpeciesOfNeighbors(self,length,width):\n",
    "        # Call sq_distances to get distances\n",
    "        dist = sq_distances(self.X, length, width)\n",
    "\n",
    "        # using argsort() to order distances with an index output\n",
    "        index_order = np.argsort(dist)\n",
    "        index_order = index_order[:self.n_neighbors] # Taking the k-smallest distances\n",
    "\n",
    "        return self.y[index_order] # returns the species at the k-smallest distances\n",
    "\n",
    "    def majority(self,labels):\n",
    "        # counting the occurances with bincount()\n",
    "        label_count = np.bincount(labels)\n",
    "        return np.argmax(label_count) # returns the index of the highest number\n",
    "\n",
    "    def predict(self,length, width):\n",
    "        labels = SpeciesOfNeighbors(self.X, self.y, length, width, self.n_neighbors)\n",
    "        return majority(labels)"
   ]
  },
  {
   "cell_type": "markdown",
   "metadata": {},
   "source": [
    "If done correctly, the following code should produce the same answer as before:"
   ]
  },
  {
   "cell_type": "code",
   "execution_count": 58,
   "metadata": {},
   "outputs": [
    {
     "data": {
      "text/plain": [
       "0"
      ]
     },
     "execution_count": 58,
     "metadata": {},
     "output_type": "execute_result"
    }
   ],
   "source": [
    "knn=KNeighborsClassifier(7)\n",
    "knn.fit(X,y)\n",
    "knn.predict(1,1)"
   ]
  }
 ],
 "metadata": {
  "colab": {
   "authorship_tag": "ABX9TyNH5bY6tc4KgF5j3doijI9E",
   "provenance": [
    {
     "file_id": "1oiconVhT-M87z28t2zi6aYoWbRZP9hv2",
     "timestamp": 1674587674311
    }
   ]
  },
  "kernelspec": {
   "display_name": "base",
   "language": "python",
   "name": "python3"
  },
  "language_info": {
   "codemirror_mode": {
    "name": "ipython",
    "version": 3
   },
   "file_extension": ".py",
   "mimetype": "text/x-python",
   "name": "python",
   "nbconvert_exporter": "python",
   "pygments_lexer": "ipython3",
   "version": "3.12.7"
  }
 },
 "nbformat": 4,
 "nbformat_minor": 4
}
