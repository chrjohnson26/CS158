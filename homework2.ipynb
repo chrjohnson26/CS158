{
 "cells": [
  {
   "cell_type": "markdown",
   "metadata": {
    "id": "G8OReEGoBUyY"
   },
   "source": [
    "**Homework 2**"
   ]
  },
  {
   "cell_type": "markdown",
   "metadata": {
    "id": "BxOCrr74BYky"
   },
   "source": [
    "This assignment is a continuation of homework 1. We begin with the usual imports."
   ]
  },
  {
   "cell_type": "code",
   "execution_count": 2,
   "metadata": {
    "id": "nyeQSz7hP6MN"
   },
   "outputs": [],
   "source": [
    "import numpy as np\n",
    "from sklearn.datasets import load_iris"
   ]
  },
  {
   "cell_type": "markdown",
   "metadata": {
    "id": "ENoFBgC2Bcvt"
   },
   "source": [
    "We now load the iris dataset and create both feature matrix and target array. This time, we will use all four features, rather than just Petal Length and Petal Width."
   ]
  },
  {
   "cell_type": "code",
   "execution_count": 3,
   "metadata": {
    "id": "5pStLgrIQCQu"
   },
   "outputs": [],
   "source": [
    "iris=load_iris()\n",
    "X=iris.data\n",
    "y=iris.target"
   ]
  },
  {
   "cell_type": "markdown",
   "metadata": {
    "id": "GBdJliDCOEIV"
   },
   "source": [
    "In the previous assignment you created a KNeighborsClassifier class. Here we'll load a pre-written version of this class from scikit-klearn. The syntax for its usage is exactly the same as for the one you wrote. I encourage you to read the full API for this implementation [here](https://scikit-learn.org/1.6/modules/generated/sklearn.neighbors.KNeighborsClassifier.html)."
   ]
  },
  {
   "cell_type": "code",
   "execution_count": 4,
   "metadata": {
    "id": "ftP1j3YeOV8J"
   },
   "outputs": [],
   "source": [
    "from sklearn.neighbors import KNeighborsClassifier"
   ]
  },
  {
   "cell_type": "markdown",
   "metadata": {
    "id": "Z74yJjWgBmx6"
   },
   "source": [
    "The iris dataset contains 150 observations. We'd like to set aside 20% of these for testing the accuracy of our model(s). To this end, we'll create a Numpy array `test_indices` with a random sample of 20% of the numbers from 0 to 149. Then, we create a boolean Numpy array `test_mask` with a value of True for each index listed in `test_indices`, and False for the other values. Finally, we create a boolean Numpy array `train_mask` with the negation of each entry in `test_mask`. MAKE SURE YOU UNDERSTAND EACH LINE OF CODE."
   ]
  },
  {
   "cell_type": "code",
   "execution_count": 5,
   "metadata": {
    "id": "5flT2IxHCFIp"
   },
   "outputs": [],
   "source": [
    "np.random.seed(6) #controls randomness (Don't change this!)\n",
    "size=len(X)  #size of original dataset (should be 150 for iris)\n",
    "test_frac=0.2 #fraction of dataset to set aside for testing\n",
    "test_size=int(size*test_frac) #desired size of test dataset\n",
    "test_indices=np.random.choice(np.arange(size),test_size) #random sample of indices from iris\n",
    "test_mask=np.zeros(size,dtype=bool) #numpy array of False values\n",
    "test_mask[test_indices]=True #change values as desired indices to True\n",
    "train_mask=~test_mask #True->False, False->True"
   ]
  },
  {
   "cell_type": "markdown",
   "metadata": {
    "id": "NFTIGfRwFqfM"
   },
   "source": [
    "Define `test_data` to be a feature matrix consisting of only those rows of `X` specified by `test_mask`. Define `test_target` to be an array containing the corresponding entires in `y`. Define `train_data` and `train_target` similarly."
   ]
  },
  {
   "cell_type": "code",
   "execution_count": null,
   "metadata": {
    "id": "IGRadmhsE25D"
   },
   "outputs": [],
   "source": [
    "train_data= \n",
    "train_target=\n",
    "test_data=\n",
    "test_target="
   ]
  },
  {
   "cell_type": "markdown",
   "metadata": {
    "id": "N12LgAjPvPvv"
   },
   "source": [
    "Define a function called `predict_labels` whose inputs are `train_data`, `train_target`, `test_data` and `k`. Your function should create an instance of the KNeighborsClassifier class with the appropriate value of k, and use it to output an array of predicted labels (one for each entry in `test_data`) based on the k-closest points in train_data."
   ]
  },
  {
   "cell_type": "code",
   "execution_count": null,
   "metadata": {
    "id": "ISuM05KzwV1v"
   },
   "outputs": [],
   "source": [
    "def predict_labels(train_data,train_target,test_data,k):\n",
    "    #YOUR CODE HERE"
   ]
  },
  {
   "cell_type": "markdown",
   "metadata": {
    "id": "iSyTNqCMxrGk"
   },
   "source": [
    "Define a function called `accuracy` whose inputs are `train_data`, `train_target`, `test_data`, `test_target` and `k`. Your function should return the accuracy: the fraction of times your `predict_labels` function returned the correct answer."
   ]
  },
  {
   "cell_type": "code",
   "execution_count": null,
   "metadata": {
    "id": "z5vca56CVZqz"
   },
   "outputs": [],
   "source": [
    "def accuracy(train_data,train_target,test_data,test_target,k):\n",
    "  predictions=predict_labels(train_data,train_target,test_data,k)\n",
    "  #YOUR CODE HERE--compare predictions to test_target and report accuracy"
   ]
  },
  {
   "cell_type": "markdown",
   "metadata": {
    "id": "fsg8NrNU0Z53"
   },
   "source": [
    "Our goal is to visualize the accuracy of the KNN algorithm for various values of k, so we may pick the best one. Reasonable values of k start at 1, and may go as high as 20 (depending on the application). For each such value of k, compute the accuracy and assemble these in a 1D Numpy array."
   ]
  },
  {
   "cell_type": "code",
   "execution_count": null,
   "metadata": {
    "id": "bFk975Zms6nl"
   },
   "outputs": [],
   "source": [
    "k=np.arange(1,20) #possible values for k\n",
    "accuracies=#YOUR CODE HERE"
   ]
  },
  {
   "cell_type": "markdown",
   "metadata": {
    "id": "7VcxngjC19Pt"
   },
   "source": [
    "Run the following code block to visualize:"
   ]
  },
  {
   "cell_type": "code",
   "execution_count": null,
   "metadata": {
    "id": "5H_tVLXWtBUC"
   },
   "outputs": [],
   "source": [
    "import matplotlib.pyplot as plt\n",
    "plt.plot(k,accuracies)"
   ]
  },
  {
   "cell_type": "markdown",
   "metadata": {
    "id": "JxPJWw43z8ZG"
   },
   "source": [
    "The optimal value of k will be the first value that gives a maximum (think about why). What is it?"
   ]
  },
  {
   "cell_type": "code",
   "execution_count": null,
   "metadata": {
    "id": "InnWAMB_tUBb"
   },
   "outputs": [],
   "source": [
    "k=#Type a number here"
   ]
  },
  {
   "cell_type": "markdown",
   "metadata": {
    "id": "5DR_qyoYeFJT"
   },
   "source": [
    "What is the accuracy for this value of k?"
   ]
  },
  {
   "cell_type": "code",
   "execution_count": null,
   "metadata": {
    "id": "apDK2mjmeFJU"
   },
   "outputs": [],
   "source": [
    "best_accuracy=#Type a number here"
   ]
  }
 ],
 "metadata": {
  "colab": {
   "provenance": [
    {
     "file_id": "1l5yGv3Y9EJ6IzsOLQ_S4V4-8rPnUV9Z9",
     "timestamp": 1674587855666
    },
    {
     "file_id": "1oiconVhT-M87z28t2zi6aYoWbRZP9hv2",
     "timestamp": 1674587674311
    }
   ]
  },
  "kernelspec": {
   "display_name": "base",
   "language": "python",
   "name": "python3"
  },
  "language_info": {
   "codemirror_mode": {
    "name": "ipython",
    "version": 3
   },
   "file_extension": ".py",
   "mimetype": "text/x-python",
   "name": "python",
   "nbconvert_exporter": "python",
   "pygments_lexer": "ipython3",
   "version": "3.12.7"
  }
 },
 "nbformat": 4,
 "nbformat_minor": 0
}
